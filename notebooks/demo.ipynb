{
 "metadata": {
  "language_info": {
   "codemirror_mode": {
    "name": "ipython",
    "version": 3
   },
   "file_extension": ".py",
   "mimetype": "text/x-python",
   "name": "python",
   "nbconvert_exporter": "python",
   "pygments_lexer": "ipython3",
   "version": "3.9.6"
  },
  "orig_nbformat": 2,
  "kernelspec": {
   "name": "python3",
   "display_name": "Python 3.9.6 64-bit ('mab': conda)"
  },
  "interpreter": {
   "hash": "67d6b807cd86a3d17ff383503c76e307eea34f9fd26201f30df1f67466e5318b"
  }
 },
 "nbformat": 4,
 "nbformat_minor": 2,
 "cells": [
  {
   "cell_type": "markdown",
   "source": [
    "# Non-stationary [SCM-MAB](https://papers.nips.cc/paper/2018/hash/c0a271bc0ecb776a094786474322cb82-Abstract.html)\n",
    "\n",
    "- Need to allow for prior on causal effects (--> Bayesian MAB)\n",
    "- Non-stationary Bayesian structural causal MAB\n",
    "    - Non-stationary because the reward statistics changes across time\n",
    "    - Bayesian because we have a prior on the reward distribution\n",
    "    - Structural because we are aware of the causal structure of the reward distribution \n",
    "\n",
    "## Stationarity assumptions of standard MAB algorithms\n",
    "\n",
    "- Thompson Sampling (Thompson, 1933), UCB and epsilon-greedy assume that the rewards are i.i.d. samples from stationary distributions (Allesiardo et al., 2017), thus are not suitable for the (DBN-like underyling CGM) application.\n",
    "- The EXP3 (Auer et al., 2002b) MAB algorithm makes comparatively fewer assumptions on reward distributions and can deal with the general setting of adversarially-defined rewards. The general adversarial bandit setting is important for our application as it enables the MAB to handle the non-stationary nature of the rewards observed during the optimisation (Allesiardo et al., 2017).\n",
    "\n",
    "## Considerations\n",
    "\n",
    "- Appears to be a so-called 'restless bandit problem'\n",
    "- _Sometimes_ we have observational data, so we have a strong prior on the reward distribution\n",
    "- We are doing inference on the reward distribution (exploring it) whilst playing the game, this means we are dealing with NS-MAB.\n",
    "- At the start of the game, all we have is a prior on the reward distribution (one for each exploration set) but as we play the game, we collect more observations, update our prior, and then continue the game until we find the best arm. \n",
    "    - **CONTINUOUS CAUSAL EFFECTS** As we play the game, BO will tell us _where_ on the selected arm to explore"
   ],
   "metadata": {}
  },
  {
   "cell_type": "code",
   "execution_count": 1,
   "source": [
    "%load_ext autoreload\n",
    "%autoreload 2\n",
    "import numpy as np\n",
    "import sys\n",
    "sys.path.append(\"..\")\n",
    "sys.path.append(\"../src\")"
   ],
   "outputs": [],
   "metadata": {}
  },
  {
   "cell_type": "code",
   "execution_count": 52,
   "source": [
    "from src.utils.dag_utils.graph_functions import make_graphical_model, make_networkx_object, get_time_slice_sub_graphs, make_time_slice_causal_diagrams"
   ],
   "outputs": [],
   "metadata": {}
  },
  {
   "cell_type": "code",
   "execution_count": 53,
   "source": [
    "from npsem.utils import subseq\n",
    "from npsem.NIPS2018POMIS_exp.scm_examples import IV_SCM\n",
    "from npsem.scm_bandits import SCM_to_bandit_machine, arms_of \n",
    "from npsem.bandits import play_bandits\n",
    "from itertools import product"
   ],
   "outputs": [],
   "metadata": {}
  },
  {
   "cell_type": "markdown",
   "source": [
    "# Non-stationary SCM-MAB as piece-wise stationary SCM-MAB \n",
    "\n",
    "SCM-MAB will be run on the DAG in each time-slice (which could change across time). The reward distribution will change as we step through the graph, from left to right.\n",
    "\n",
    "- We start with a DAG in which the connectivity is the same across time and then add complexity when it works."
   ],
   "metadata": {}
  },
  {
   "cell_type": "code",
   "execution_count": 54,
   "source": [
    "# I used to have confounder info in this list as well, but removed it temporarily.\n",
    "node_info = {\"Z\": {\"type\": \"manipulative\", \"domain\": (0,1)},\n",
    "             \"X\": {\"type\": \"manipulative\", \"domain\": (0,1)},\n",
    "             \"Y\": {\"type\": \"manipulative\", \"domain\": (-1,1)},\n",
    "                \"U\" : {\"type\": \"confounder\"}}\n",
    "# Constructor for adding unobserved confounder to graph\n",
    "uc_constructor = {0: (\"X\",\"Y\"), 1:  (\"X\",\"Y\"), 2:  (\"X\",\"Y\")}"
   ],
   "outputs": [],
   "metadata": {}
  },
  {
   "cell_type": "code",
   "execution_count": 63,
   "source": [
    "T = 3\n",
    "graph_view = make_graphical_model(0,\n",
    "T-1,\n",
    "topology='dependent',\n",
    "target_node = 'Y',\n",
    "node_information= node_info,\n",
    "confounder_info= uc_constructor,\n",
    "verbose=True)\n",
    "graph_view"
   ],
   "outputs": [
    {
     "output_type": "execute_result",
     "data": {
      "text/plain": [
       "<graphviz.files.Source at 0x7f8370c5ed90>"
      ],
      "image/svg+xml": "<?xml version=\"1.0\" encoding=\"UTF-8\" standalone=\"no\"?>\n<!DOCTYPE svg PUBLIC \"-//W3C//DTD SVG 1.1//EN\"\n \"http://www.w3.org/Graphics/SVG/1.1/DTD/svg11.dtd\">\n<!-- Generated by graphviz version 2.44.0 (20200408.0750)\n -->\n<!-- Pages: 1 -->\n<svg width=\"374pt\" height=\"206pt\"\n viewBox=\"0.00 0.00 373.64 206.00\" xmlns=\"http://www.w3.org/2000/svg\" xmlns:xlink=\"http://www.w3.org/1999/xlink\">\n<g id=\"graph0\" class=\"graph\" transform=\"scale(1 1) rotate(0) translate(4 202)\">\n<polygon fill=\"white\" stroke=\"transparent\" points=\"-4,4 -4,-202 369.64,-202 369.64,4 -4,4\"/>\n<!-- Z_0 -->\n<g id=\"node1\" class=\"node\">\n<title>Z_0</title>\n<ellipse fill=\"none\" stroke=\"black\" cx=\"72.64\" cy=\"-180\" rx=\"27\" ry=\"18\"/>\n<text text-anchor=\"middle\" x=\"72.64\" y=\"-176.3\" font-family=\"Times,serif\" font-size=\"14.00\">Z_0</text>\n</g>\n<!-- X_0 -->\n<g id=\"node2\" class=\"node\">\n<title>X_0</title>\n<ellipse fill=\"none\" stroke=\"black\" cx=\"72.64\" cy=\"-126\" rx=\"27\" ry=\"18\"/>\n<text text-anchor=\"middle\" x=\"72.64\" y=\"-122.3\" font-family=\"Times,serif\" font-size=\"14.00\">X_0</text>\n</g>\n<!-- Z_0&#45;&gt;X_0 -->\n<g id=\"edge1\" class=\"edge\">\n<title>Z_0&#45;&gt;X_0</title>\n<path fill=\"none\" stroke=\"black\" d=\"M72.64,-161.79C72.64,-159.31 72.64,-156.83 72.64,-154.34\"/>\n<polygon fill=\"black\" stroke=\"black\" points=\"76.14,-154.14 72.64,-144.14 69.14,-154.14 76.14,-154.14\"/>\n</g>\n<!-- Z_1 -->\n<g id=\"node4\" class=\"node\">\n<title>Z_1</title>\n<ellipse fill=\"none\" stroke=\"black\" cx=\"205.64\" cy=\"-180\" rx=\"27\" ry=\"18\"/>\n<text text-anchor=\"middle\" x=\"205.64\" y=\"-176.3\" font-family=\"Times,serif\" font-size=\"14.00\">Z_1</text>\n</g>\n<!-- Z_0&#45;&gt;Z_1 -->\n<g id=\"edge13\" class=\"edge\">\n<title>Z_0&#45;&gt;Z_1</title>\n<path fill=\"none\" stroke=\"black\" d=\"M99.84,-180C119.47,-180 146.58,-180 168.31,-180\"/>\n<polygon fill=\"black\" stroke=\"black\" points=\"168.49,-183.5 178.49,-180 168.49,-176.5 168.49,-183.5\"/>\n</g>\n<!-- Y_0 -->\n<g id=\"node3\" class=\"node\">\n<title>Y_0</title>\n<ellipse fill=\"none\" stroke=\"black\" cx=\"72.64\" cy=\"-72\" rx=\"27\" ry=\"18\"/>\n<text text-anchor=\"middle\" x=\"72.64\" y=\"-68.3\" font-family=\"Times,serif\" font-size=\"14.00\">Y_0</text>\n</g>\n<!-- X_0&#45;&gt;Y_0 -->\n<g id=\"edge2\" class=\"edge\">\n<title>X_0&#45;&gt;Y_0</title>\n<path fill=\"none\" stroke=\"black\" d=\"M72.64,-107.79C72.64,-105.31 72.64,-102.83 72.64,-100.34\"/>\n<polygon fill=\"black\" stroke=\"black\" points=\"76.14,-100.14 72.64,-90.14 69.14,-100.14 76.14,-100.14\"/>\n</g>\n<!-- X_1 -->\n<g id=\"node5\" class=\"node\">\n<title>X_1</title>\n<ellipse fill=\"none\" stroke=\"black\" cx=\"205.64\" cy=\"-126\" rx=\"27\" ry=\"18\"/>\n<text text-anchor=\"middle\" x=\"205.64\" y=\"-122.3\" font-family=\"Times,serif\" font-size=\"14.00\">X_1</text>\n</g>\n<!-- X_0&#45;&gt;X_1 -->\n<g id=\"edge14\" class=\"edge\">\n<title>X_0&#45;&gt;X_1</title>\n<path fill=\"none\" stroke=\"black\" d=\"M99.84,-126C119.47,-126 146.58,-126 168.31,-126\"/>\n<polygon fill=\"black\" stroke=\"black\" points=\"168.49,-129.5 178.49,-126 168.49,-122.5 168.49,-129.5\"/>\n</g>\n<!-- Y_1 -->\n<g id=\"node6\" class=\"node\">\n<title>Y_1</title>\n<ellipse fill=\"none\" stroke=\"black\" cx=\"205.64\" cy=\"-72\" rx=\"27\" ry=\"18\"/>\n<text text-anchor=\"middle\" x=\"205.64\" y=\"-68.3\" font-family=\"Times,serif\" font-size=\"14.00\">Y_1</text>\n</g>\n<!-- Y_0&#45;&gt;Y_1 -->\n<g id=\"edge15\" class=\"edge\">\n<title>Y_0&#45;&gt;Y_1</title>\n<path fill=\"none\" stroke=\"black\" d=\"M99.84,-72C119.47,-72 146.58,-72 168.31,-72\"/>\n<polygon fill=\"black\" stroke=\"black\" points=\"168.49,-75.5 178.49,-72 168.49,-68.5 168.49,-75.5\"/>\n</g>\n<!-- Z_1&#45;&gt;X_1 -->\n<g id=\"edge3\" class=\"edge\">\n<title>Z_1&#45;&gt;X_1</title>\n<path fill=\"none\" stroke=\"black\" d=\"M205.64,-161.79C205.64,-159.31 205.64,-156.83 205.64,-154.34\"/>\n<polygon fill=\"black\" stroke=\"black\" points=\"209.14,-154.14 205.64,-144.14 202.14,-154.14 209.14,-154.14\"/>\n</g>\n<!-- Z_2 -->\n<g id=\"node7\" class=\"node\">\n<title>Z_2</title>\n<ellipse fill=\"none\" stroke=\"black\" cx=\"338.64\" cy=\"-180\" rx=\"27\" ry=\"18\"/>\n<text text-anchor=\"middle\" x=\"338.64\" y=\"-176.3\" font-family=\"Times,serif\" font-size=\"14.00\">Z_2</text>\n</g>\n<!-- Z_1&#45;&gt;Z_2 -->\n<g id=\"edge16\" class=\"edge\">\n<title>Z_1&#45;&gt;Z_2</title>\n<path fill=\"none\" stroke=\"black\" d=\"M232.84,-180C252.47,-180 279.58,-180 301.31,-180\"/>\n<polygon fill=\"black\" stroke=\"black\" points=\"301.49,-183.5 311.49,-180 301.49,-176.5 301.49,-183.5\"/>\n</g>\n<!-- X_1&#45;&gt;Y_1 -->\n<g id=\"edge4\" class=\"edge\">\n<title>X_1&#45;&gt;Y_1</title>\n<path fill=\"none\" stroke=\"black\" d=\"M205.64,-107.79C205.64,-105.31 205.64,-102.83 205.64,-100.34\"/>\n<polygon fill=\"black\" stroke=\"black\" points=\"209.14,-100.14 205.64,-90.14 202.14,-100.14 209.14,-100.14\"/>\n</g>\n<!-- X_2 -->\n<g id=\"node8\" class=\"node\">\n<title>X_2</title>\n<ellipse fill=\"none\" stroke=\"black\" cx=\"338.64\" cy=\"-126\" rx=\"27\" ry=\"18\"/>\n<text text-anchor=\"middle\" x=\"338.64\" y=\"-122.3\" font-family=\"Times,serif\" font-size=\"14.00\">X_2</text>\n</g>\n<!-- X_1&#45;&gt;X_2 -->\n<g id=\"edge17\" class=\"edge\">\n<title>X_1&#45;&gt;X_2</title>\n<path fill=\"none\" stroke=\"black\" d=\"M232.84,-126C252.47,-126 279.58,-126 301.31,-126\"/>\n<polygon fill=\"black\" stroke=\"black\" points=\"301.49,-129.5 311.49,-126 301.49,-122.5 301.49,-129.5\"/>\n</g>\n<!-- Y_2 -->\n<g id=\"node9\" class=\"node\">\n<title>Y_2</title>\n<ellipse fill=\"none\" stroke=\"black\" cx=\"338.64\" cy=\"-72\" rx=\"27\" ry=\"18\"/>\n<text text-anchor=\"middle\" x=\"338.64\" y=\"-68.3\" font-family=\"Times,serif\" font-size=\"14.00\">Y_2</text>\n</g>\n<!-- Y_1&#45;&gt;Y_2 -->\n<g id=\"edge18\" class=\"edge\">\n<title>Y_1&#45;&gt;Y_2</title>\n<path fill=\"none\" stroke=\"black\" d=\"M232.84,-72C252.47,-72 279.58,-72 301.31,-72\"/>\n<polygon fill=\"black\" stroke=\"black\" points=\"301.49,-75.5 311.49,-72 301.49,-68.5 301.49,-75.5\"/>\n</g>\n<!-- Z_2&#45;&gt;X_2 -->\n<g id=\"edge5\" class=\"edge\">\n<title>Z_2&#45;&gt;X_2</title>\n<path fill=\"none\" stroke=\"black\" d=\"M338.64,-161.79C338.64,-159.31 338.64,-156.83 338.64,-154.34\"/>\n<polygon fill=\"black\" stroke=\"black\" points=\"342.14,-154.14 338.64,-144.14 335.14,-154.14 342.14,-154.14\"/>\n</g>\n<!-- X_2&#45;&gt;Y_2 -->\n<g id=\"edge6\" class=\"edge\">\n<title>X_2&#45;&gt;Y_2</title>\n<path fill=\"none\" stroke=\"black\" d=\"M338.64,-107.79C338.64,-105.31 338.64,-102.83 338.64,-100.34\"/>\n<polygon fill=\"black\" stroke=\"black\" points=\"342.14,-100.14 338.64,-90.14 335.14,-100.14 342.14,-100.14\"/>\n</g>\n<!-- U_0 -->\n<g id=\"node10\" class=\"node\">\n<title>U_0</title>\n<ellipse fill=\"none\" stroke=\"black\" cx=\"72.64\" cy=\"-18\" rx=\"27\" ry=\"18\"/>\n<text text-anchor=\"middle\" x=\"72.64\" y=\"-14.3\" font-family=\"Times,serif\" font-size=\"14.00\">U_0</text>\n</g>\n<!-- U_0&#45;&gt;X_0 -->\n<g id=\"edge7\" class=\"edge\">\n<title>U_0&#45;&gt;X_0</title>\n<path fill=\"none\" stroke=\"red\" stroke-dasharray=\"5,2\" d=\"M47.19,-24.68C32.41,-30.01 15.01,-39.11 6.14,-54 -2.05,-67.75 -2.05,-76.25 6.14,-90 13.14,-101.75 25.45,-109.89 37.6,-115.43\"/>\n<polygon fill=\"red\" stroke=\"red\" points=\"36.61,-118.8 47.19,-119.32 39.24,-112.32 36.61,-118.8\"/>\n</g>\n<!-- U_0&#45;&gt;Y_0 -->\n<g id=\"edge8\" class=\"edge\">\n<title>U_0&#45;&gt;Y_0</title>\n<path fill=\"none\" stroke=\"red\" stroke-dasharray=\"5,2\" d=\"M72.64,-36.14C72.64,-38.62 72.64,-41.1 72.64,-43.59\"/>\n<polygon fill=\"red\" stroke=\"red\" points=\"69.14,-43.79 72.64,-53.79 76.14,-43.79 69.14,-43.79\"/>\n</g>\n<!-- U_1 -->\n<g id=\"node11\" class=\"node\">\n<title>U_1</title>\n<ellipse fill=\"none\" stroke=\"black\" cx=\"205.64\" cy=\"-18\" rx=\"27\" ry=\"18\"/>\n<text text-anchor=\"middle\" x=\"205.64\" y=\"-14.3\" font-family=\"Times,serif\" font-size=\"14.00\">U_1</text>\n</g>\n<!-- U_1&#45;&gt;X_1 -->\n<g id=\"edge9\" class=\"edge\">\n<title>U_1&#45;&gt;X_1</title>\n<path fill=\"none\" stroke=\"red\" stroke-dasharray=\"5,2\" d=\"M180.19,-24.68C165.41,-30.01 148.01,-39.11 139.14,-54 130.95,-67.75 130.95,-76.25 139.14,-90 146.14,-101.75 158.45,-109.89 170.6,-115.43\"/>\n<polygon fill=\"red\" stroke=\"red\" points=\"169.61,-118.8 180.19,-119.32 172.24,-112.32 169.61,-118.8\"/>\n</g>\n<!-- U_1&#45;&gt;Y_1 -->\n<g id=\"edge10\" class=\"edge\">\n<title>U_1&#45;&gt;Y_1</title>\n<path fill=\"none\" stroke=\"red\" stroke-dasharray=\"5,2\" d=\"M205.64,-36.14C205.64,-38.62 205.64,-41.1 205.64,-43.59\"/>\n<polygon fill=\"red\" stroke=\"red\" points=\"202.14,-43.79 205.64,-53.79 209.14,-43.79 202.14,-43.79\"/>\n</g>\n<!-- U_2 -->\n<g id=\"node12\" class=\"node\">\n<title>U_2</title>\n<ellipse fill=\"none\" stroke=\"black\" cx=\"338.64\" cy=\"-18\" rx=\"27\" ry=\"18\"/>\n<text text-anchor=\"middle\" x=\"338.64\" y=\"-14.3\" font-family=\"Times,serif\" font-size=\"14.00\">U_2</text>\n</g>\n<!-- U_2&#45;&gt;X_2 -->\n<g id=\"edge11\" class=\"edge\">\n<title>U_2&#45;&gt;X_2</title>\n<path fill=\"none\" stroke=\"red\" stroke-dasharray=\"5,2\" d=\"M313.19,-24.68C298.41,-30.01 281.01,-39.11 272.14,-54 263.95,-67.75 263.95,-76.25 272.14,-90 279.14,-101.75 291.45,-109.89 303.6,-115.43\"/>\n<polygon fill=\"red\" stroke=\"red\" points=\"302.61,-118.8 313.19,-119.32 305.24,-112.32 302.61,-118.8\"/>\n</g>\n<!-- U_2&#45;&gt;Y_2 -->\n<g id=\"edge12\" class=\"edge\">\n<title>U_2&#45;&gt;Y_2</title>\n<path fill=\"none\" stroke=\"red\" stroke-dasharray=\"5,2\" d=\"M338.64,-36.14C338.64,-38.62 338.64,-41.1 338.64,-43.59\"/>\n<polygon fill=\"red\" stroke=\"red\" points=\"335.14,-43.79 338.64,-53.79 342.14,-43.79 335.14,-43.79\"/>\n</g>\n</g>\n</svg>\n"
     },
     "metadata": {},
     "execution_count": 63
    }
   ],
   "metadata": {}
  },
  {
   "cell_type": "code",
   "execution_count": 71,
   "source": [
    "# Contains all the sub-graphs per time-slice\n",
    "G = make_networkx_object(graph_view, node_info)\n",
    "# TODO: need to add assigned variable edges here but make sure that they are removed from the relevant node if that variable is intervened upon.\n",
    "gs = get_time_slice_sub_graphs(G,T)\n",
    "cds = make_time_slice_causal_diagrams(gs,node_info,uc_constructor)"
   ],
   "outputs": [],
   "metadata": {}
  },
  {
   "cell_type": "markdown",
   "source": [
    "## Explore SCM from fig 3"
   ],
   "metadata": {}
  },
  {
   "cell_type": "code",
   "execution_count": 37,
   "source": [
    "from scipy.stats import bernoulli as ber\n",
    "from src.examples.struct_eq_models import DynamicIVCD\n",
    "from itertools import product\n",
    "from collections import defaultdict\n",
    "from npsem.model import default_P_U\n",
    "from npsem.utils import combinations"
   ],
   "outputs": [],
   "metadata": {}
  },
  {
   "cell_type": "code",
   "execution_count": 9,
   "source": [
    "U = list(sorted({\"U_XY\"} | {\"U_X\", \"U_Z\", \"U_Y\"}))\n",
    "D = defaultdict(lambda: (0, 1))\n",
    "list(product(*[D[U_i] for U_i in U]))\n",
    "for u in product(*[D[U_i] for U_i in U]):\n",
    "    print(u)\n",
    "    assigned = dict(zip(U, u))\n",
    "    print(assigned)\n",
    "    break"
   ],
   "outputs": [
    {
     "output_type": "stream",
     "name": "stdout",
     "text": [
      "(0, 0, 0, 0)\n",
      "{'U_X': 0, 'U_XY': 0, 'U_Y': 0, 'U_Z': 0}\n"
     ]
    }
   ],
   "metadata": {}
  },
  {
   "cell_type": "code",
   "execution_count": 112,
   "source": [
    "SEM = DynamicIVCD()\n",
    "static = SEM.static()\n",
    "dynamic = SEM.dynamic(clamped={\"X\":0, 'Z':1, \"Y\":1})\n",
    "T = 2\n",
    "N = 3\n",
    "exo_vars = {\"U_Z\": ber.rvs(p=0.6, size=(N,T)), \"U_X\":ber.rvs(p=0.11, size=(N,T)), \"U_Y\":ber.rvs(p=0.15, size=(N,T)) ,\"U_XY\":ber.rvs(p=0.51, size=(N,T))}\n",
    "epsilon = np.random.randint(2, size=(N,T))\n",
    "sem_samples  = {k:np.empty((N,T), dtype='int') for k in static.keys()}\n",
    "samples = sem_samples | exo_vars"
   ],
   "outputs": [],
   "metadata": {}
  },
  {
   "cell_type": "code",
   "execution_count": 113,
   "source": [
    "epsilon = np.random.randint(2, size=(N,T))\n",
    "for t in range(T):\n",
    "    model = static if t == 0 else dynamic\n",
    "    for var, function in model.items():\n",
    "        #print(var, samples, epsilon, t)\n",
    "        samples[var][:,t] = function(samples, t)"
   ],
   "outputs": [],
   "metadata": {}
  },
  {
   "cell_type": "code",
   "execution_count": 119,
   "source": [
    "num_trial =1\n",
    "horizon = 20\n",
    "n_jobs = 2\n",
    "Y = \"Y\""
   ],
   "outputs": [],
   "metadata": {}
  },
  {
   "cell_type": "code",
   "execution_count": 105,
   "source": [
    "M, p_u = IV_SCM(devised=True,seed=0)\n",
    "mu, arm_setting = SCM_to_bandit_machine(M)"
   ],
   "outputs": [],
   "metadata": {}
  },
  {
   "cell_type": "code",
   "execution_count": 106,
   "source": [
    "arm_setting"
   ],
   "outputs": [
    {
     "output_type": "execute_result",
     "data": {
      "text/plain": [
       "{0: {},\n",
       " 1: {'X': 0},\n",
       " 2: {'X': 1},\n",
       " 3: {'Z': 0},\n",
       " 4: {'Z': 1},\n",
       " 5: {'X': 0, 'Z': 0},\n",
       " 6: {'X': 0, 'Z': 1},\n",
       " 7: {'X': 1, 'Z': 0},\n",
       " 8: {'X': 1, 'Z': 1}}"
      ]
     },
     "metadata": {},
     "execution_count": 106
    }
   ],
   "metadata": {}
  },
  {
   "cell_type": "code",
   "execution_count": 129,
   "source": [
    "arm_strategy = 'Brute-force'\n",
    "bandit_algo = 'TS'\n",
    "arm_selected = arms_of(arm_strategy, arm_setting, M.G, Y)\n",
    "arm_corrector = np.vectorize(lambda x: arm_selected[x])"
   ],
   "outputs": [],
   "metadata": {}
  },
  {
   "cell_type": "code",
   "execution_count": 127,
   "source": [
    "arm_played, rewards = play_bandits(horizon, subseq(mu, arm_selected), bandit_algo, num_trial, n_jobs)"
   ],
   "outputs": [
    {
     "output_type": "stream",
     "name": "stdout",
     "text": [
      "[Parallel(n_jobs=2)]: Using backend LokyBackend with 2 concurrent workers.\n",
      "[Parallel(n_jobs=2)]: Done   1 tasks      | elapsed:    0.8s\n",
      "[Parallel(n_jobs=2)]: Done   1 out of   1 | elapsed:    0.8s finished\n"
     ]
    }
   ],
   "metadata": {}
  },
  {
   "cell_type": "code",
   "execution_count": 130,
   "source": [
    "results = dict()\n",
    "results[(arm_strategy, bandit_algo)] = arm_corrector(arm_played), rewards"
   ],
   "outputs": [],
   "metadata": {}
  },
  {
   "cell_type": "code",
   "execution_count": 133,
   "source": [
    "arm_selected"
   ],
   "outputs": [
    {
     "output_type": "execute_result",
     "data": {
      "text/plain": [
       "(0, 1, 2, 3, 4, 5, 6, 7, 8)"
      ]
     },
     "metadata": {},
     "execution_count": 133
    }
   ],
   "metadata": {}
  },
  {
   "cell_type": "code",
   "execution_count": 134,
   "source": [
    "results"
   ],
   "outputs": [
    {
     "output_type": "execute_result",
     "data": {
      "text/plain": [
       "{('Brute-force',\n",
       "  'TS'): (array([[4, 5, 6, 0, 3, 3, 3, 7, 3, 8, 3, 8, 3, 8, 3, 3, 2, 6, 5, 3]]), array([[0., 0., 0., 0., 1., 1., 1., 0., 0., 1., 0., 0., 1., 0., 1., 1.,\n",
       "          1., 0., 0., 0.]]))}"
      ]
     },
     "metadata": {},
     "execution_count": 134
    }
   ],
   "metadata": {}
  },
  {
   "cell_type": "markdown",
   "source": [
    "# Test Non-Stationary (piece-wise stationary) SCM-MAB"
   ],
   "metadata": {}
  },
  {
   "cell_type": "code",
   "execution_count": 70,
   "source": [
    "from src.examples.example_setup import setup_DynamicIVCD\n",
    "from nsscmmab import NSSCMMAB\n",
    "from npsem.model import StructuralCausalModel as SCM"
   ],
   "outputs": [],
   "metadata": {}
  },
  {
   "cell_type": "code",
   "execution_count": 73,
   "source": [
    "params = setup_DynamicIVCD()\n",
    "params"
   ],
   "outputs": [
    {
     "output_type": "execute_result",
     "data": {
      "text/plain": [
       "{'G': <networkx.classes.multidigraph.MultiDiGraph at 0x7f83a0fa6880>,\n",
       " 'SEM': src.examples.struct_eq_models.DynamicIVCD,\n",
       " 'mu1': {'U_X': 0.11, 'U_Y': 0.15, 'U_Z': 0.6, 'U_XY': 0.51},\n",
       " 'node_info': {'Z': {'type': 'manipulative', 'domain': (0, 1)},\n",
       "  'X': {'type': 'manipulative', 'domain': (0, 1)},\n",
       "  'Y': {'type': 'manipulative', 'domain': (-1, 1)},\n",
       "  'U': {'type': 'confounder', 'domain': None}},\n",
       " 'confounder_info': {0: ('X', 'Y'), 1: ('X', 'Y'), 2: ('X', 'Y')},\n",
       " 'base_target_variable': 'Y',\n",
       " 'horizon': 10,\n",
       " 'n_trials': 2,\n",
       " 'n_jobs': 2}"
      ]
     },
     "metadata": {},
     "execution_count": 73
    }
   ],
   "metadata": {}
  },
  {
   "cell_type": "code",
   "execution_count": 72,
   "source": [
    "domains = {key: val[\"domain\"] for key, val in params[\"node_info\"].items()}"
   ],
   "outputs": [],
   "metadata": {}
  },
  {
   "cell_type": "code",
   "execution_count": 75,
   "source": [
    "out = SCM(\n",
    "    temporal_index=0,\n",
    "    G=cds[0],\n",
    "    F=params[\"SEM\"].static(),\n",
    "    P_U=default_P_U(params[\"mu1\"]),\n",
    "    D=domains,\n",
    "    more_U={\"U_{}\".format(v) for v in cds[0].V}\n",
    ")"
   ],
   "outputs": [],
   "metadata": {}
  },
  {
   "cell_type": "code",
   "execution_count": 77,
   "source": [
    " U = list(sorted(out.G.U | out.more_U))\n",
    " U"
   ],
   "outputs": [
    {
     "output_type": "execute_result",
     "data": {
      "text/plain": [
       "['U_0', 'U_X', 'U_Y', 'U_Z']"
      ]
     },
     "metadata": {},
     "execution_count": 77
    }
   ],
   "metadata": {}
  },
  {
   "cell_type": "code",
   "execution_count": 82,
   "source": [
    "cds[0].U"
   ],
   "outputs": [
    {
     "output_type": "execute_result",
     "data": {
      "text/plain": [
       "frozenset({'U_0'})"
      ]
     },
     "metadata": {},
     "execution_count": 82
    }
   ],
   "metadata": {}
  },
  {
   "cell_type": "markdown",
   "source": [
    "Compare my version of the domain vs. the defaultdict version"
   ],
   "metadata": {}
  },
  {
   "cell_type": "code",
   "execution_count": 79,
   "source": [
    "D = defaultdict(lambda: (0, 1)) \n",
    "list(product(*[D[U_i] for U_i in U]))"
   ],
   "outputs": [
    {
     "output_type": "execute_result",
     "data": {
      "text/plain": [
       "[(0, 0, 0, 0),\n",
       " (0, 0, 0, 1),\n",
       " (0, 0, 1, 0),\n",
       " (0, 0, 1, 1),\n",
       " (0, 1, 0, 0),\n",
       " (0, 1, 0, 1),\n",
       " (0, 1, 1, 0),\n",
       " (0, 1, 1, 1),\n",
       " (1, 0, 0, 0),\n",
       " (1, 0, 0, 1),\n",
       " (1, 0, 1, 0),\n",
       " (1, 0, 1, 1),\n",
       " (1, 1, 0, 0),\n",
       " (1, 1, 0, 1),\n",
       " (1, 1, 1, 0),\n",
       " (1, 1, 1, 1)]"
      ]
     },
     "metadata": {},
     "execution_count": 79
    }
   ],
   "metadata": {}
  }
 ]
}