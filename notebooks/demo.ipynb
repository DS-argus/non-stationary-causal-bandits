{
 "metadata": {
  "language_info": {
   "codemirror_mode": {
    "name": "ipython",
    "version": 3
   },
   "file_extension": ".py",
   "mimetype": "text/x-python",
   "name": "python",
   "nbconvert_exporter": "python",
   "pygments_lexer": "ipython3",
   "version": "3.9.6"
  },
  "orig_nbformat": 2,
  "kernelspec": {
   "name": "python3",
   "display_name": "Python 3.9.6 64-bit ('mab': conda)"
  },
  "interpreter": {
   "hash": "67d6b807cd86a3d17ff383503c76e307eea34f9fd26201f30df1f67466e5318b"
  }
 },
 "nbformat": 4,
 "nbformat_minor": 2,
 "cells": [
  {
   "cell_type": "code",
   "execution_count": null,
   "source": [],
   "outputs": [],
   "metadata": {}
  },
  {
   "cell_type": "markdown",
   "source": [
    "# Non-stationary [SCM-MAB](https://papers.nips.cc/paper/2018/hash/c0a271bc0ecb776a094786474322cb82-Abstract.html)\n",
    "\n",
    "- Need to allow for prior on causal effects (--> Bayesian MAB)\n",
    "- Non-stationary Bayesian structural causal MAB\n",
    "    - Non-stationary because the reward statistics changes across time\n",
    "    - Bayesian because we have a prior on the reward distribution\n",
    "    - Structural because we are aware of the causal structure of the reward distribution \n",
    "\n",
    "## Stationarity assumptions of standard MAB algorithms\n",
    "\n",
    "- Thompson Sampling (Thompson, 1933), UCB and epsilon-greedy assume that the rewards are i.i.d. samples from stationary distributions (Allesiardo et al., 2017), thus are not suitable for the (DBN-like underyling CGM) application.\n",
    "- The EXP3 (Auer et al., 2002b) MAB algorithm makes comparatively fewer assumptions on reward distributions and can deal with the general setting of adversarially-defined rewards. The general adversarial bandit setting is important for our application as it enables the MAB to handle the non-stationary nature of the rewards observed during the optimisation (Allesiardo et al., 2017).\n",
    "\n",
    "## Considerations\n",
    "\n",
    "- Appears to be a so-called 'restless bandit problem'\n",
    "- _Sometimes_ we have observational data, so we have a strong prior on the reward distribution\n",
    "- We are doing inference on the reward distribution (exploring it) whilst playing the game, this means we are dealing with NS-MAB.\n",
    "- At the start of the game, all we have is a prior on the reward distribution (one for each exploration set) but as we play the game, we collect more observations, update our prior, and then continue the game until we find the best arm. \n",
    "    - **CONTINUOUS CAUSAL EFFECTS** As we play the game, BO will tell us _where_ on the selected arm to explore"
   ],
   "metadata": {}
  },
  {
   "cell_type": "code",
   "execution_count": 1,
   "source": [
    "%load_ext autoreload\n",
    "%autoreload 2\n",
    "import numpy as np\n",
    "import sys\n",
    "sys.path.append(\"..\")\n",
    "sys.path.append(\"../src\")"
   ],
   "outputs": [],
   "metadata": {}
  },
  {
   "cell_type": "code",
   "execution_count": 2,
   "source": [
    "from src.utils.dag_utils.graph_functions import make_graphical_model, make_networkx_object, get_time_slice_sub_graphs, make_time_slice_causal_diagrams"
   ],
   "outputs": [],
   "metadata": {}
  },
  {
   "cell_type": "code",
   "execution_count": 3,
   "source": [
    "from npsem.utils import subseq\n",
    "from npsem.NIPS2018POMIS_exp.scm_examples import IV_SCM\n",
    "from npsem.scm_bandits import SCM_to_bandit_machine, arms_of \n",
    "from npsem.bandits import play_bandits\n",
    "from itertools import product"
   ],
   "outputs": [],
   "metadata": {}
  },
  {
   "cell_type": "markdown",
   "source": [
    "# Non-stationary SCM-MAB as piece-wise stationary SCM-MAB \n",
    "\n",
    "SCM-MAB will be run on the DAG in each time-slice (which could change across time). The reward distribution will change as we step through the graph, from left to right.\n",
    "\n",
    "- We start with a DAG in which the connectivity is the same across time and then add complexity when it works."
   ],
   "metadata": {}
  },
  {
   "cell_type": "code",
   "execution_count": 4,
   "source": [
    "node_info = {\"Z\": {\"type\": \"manipulative\", \"domain\": (0,1)},\n",
    "             \"X\": {\"type\": \"manipulative\", \"domain\": (0,1)},\n",
    "             \"Y\": {\"type\": \"manipulative\", \"domain\": (-1,1)}}\n",
    "            #  \"U\" : {\"type\": \"confounder\"}}\n",
    "# Constructor for adding unobserved confounder to graph\n",
    "# XXX: this construction allows us to model situations in which confounding varibles appear and disappear across time-steps\n",
    "conf_info = {0: (\"X\",\"Y\"), 1:  (\"X\",\"Y\"), 2:  (\"X\",\"Y\")}"
   ],
   "outputs": [],
   "metadata": {}
  },
  {
   "cell_type": "code",
   "execution_count": 5,
   "source": [
    "T = 3\n",
    "graph_view = make_graphical_model(0,\n",
    "T-1,\n",
    "topology='dependent',\n",
    "target_node='Y',\n",
    "node_information= node_info,\n",
    "confounder_info=conf_info,\n",
    "verbose=True)\n",
    "graph_view"
   ],
   "outputs": [
    {
     "output_type": "execute_result",
     "data": {
      "image/svg+xml": "<?xml version=\"1.0\" encoding=\"UTF-8\" standalone=\"no\"?>\n<!DOCTYPE svg PUBLIC \"-//W3C//DTD SVG 1.1//EN\"\n \"http://www.w3.org/Graphics/SVG/1.1/DTD/svg11.dtd\">\n<!-- Generated by graphviz version 2.44.0 (20200408.0750)\n -->\n<!-- Pages: 1 -->\n<svg width=\"499pt\" height=\"368pt\"\n viewBox=\"0.00 0.00 499.02 368.00\" xmlns=\"http://www.w3.org/2000/svg\" xmlns:xlink=\"http://www.w3.org/1999/xlink\">\n<g id=\"graph0\" class=\"graph\" transform=\"scale(1 1) rotate(0) translate(4 364)\">\n<polygon fill=\"white\" stroke=\"transparent\" points=\"-4,4 -4,-364 495.02,-364 495.02,4 -4,4\"/>\n<!-- Z_0 -->\n<g id=\"node1\" class=\"node\">\n<title>Z_0</title>\n<ellipse fill=\"none\" stroke=\"black\" cx=\"118.53\" cy=\"-126\" rx=\"27\" ry=\"18\"/>\n<text text-anchor=\"middle\" x=\"118.53\" y=\"-122.3\" font-family=\"Times,serif\" font-size=\"14.00\">Z_0</text>\n</g>\n<!-- X_0 -->\n<g id=\"node2\" class=\"node\">\n<title>X_0</title>\n<ellipse fill=\"none\" stroke=\"black\" cx=\"118.53\" cy=\"-72\" rx=\"27\" ry=\"18\"/>\n<text text-anchor=\"middle\" x=\"118.53\" y=\"-68.3\" font-family=\"Times,serif\" font-size=\"14.00\">X_0</text>\n</g>\n<!-- Z_0&#45;&gt;X_0 -->\n<g id=\"edge1\" class=\"edge\">\n<title>Z_0&#45;&gt;X_0</title>\n<path fill=\"none\" stroke=\"black\" d=\"M118.53,-107.79C118.53,-105.31 118.53,-102.83 118.53,-100.34\"/>\n<polygon fill=\"black\" stroke=\"black\" points=\"122.03,-100.14 118.53,-90.14 115.03,-100.14 122.03,-100.14\"/>\n</g>\n<!-- Z_1 -->\n<g id=\"node4\" class=\"node\">\n<title>Z_1</title>\n<ellipse fill=\"none\" stroke=\"black\" cx=\"283.33\" cy=\"-126\" rx=\"27\" ry=\"18\"/>\n<text text-anchor=\"middle\" x=\"283.33\" y=\"-122.3\" font-family=\"Times,serif\" font-size=\"14.00\">Z_1</text>\n</g>\n<!-- Z_0&#45;&gt;Z_1 -->\n<g id=\"edge22\" class=\"edge\">\n<title>Z_0&#45;&gt;Z_1</title>\n<path fill=\"none\" stroke=\"black\" d=\"M145.69,-126C172.87,-126 215.59,-126 246.03,-126\"/>\n<polygon fill=\"black\" stroke=\"black\" points=\"246.24,-129.5 256.24,-126 246.24,-122.5 246.24,-129.5\"/>\n</g>\n<!-- Y_0 -->\n<g id=\"node3\" class=\"node\">\n<title>Y_0</title>\n<ellipse fill=\"none\" stroke=\"black\" cx=\"118.53\" cy=\"-18\" rx=\"27\" ry=\"18\"/>\n<text text-anchor=\"middle\" x=\"118.53\" y=\"-14.3\" font-family=\"Times,serif\" font-size=\"14.00\">Y_0</text>\n</g>\n<!-- X_0&#45;&gt;Y_0 -->\n<g id=\"edge2\" class=\"edge\">\n<title>X_0&#45;&gt;Y_0</title>\n<path fill=\"none\" stroke=\"black\" d=\"M118.53,-53.79C118.53,-51.31 118.53,-48.83 118.53,-46.34\"/>\n<polygon fill=\"black\" stroke=\"black\" points=\"122.03,-46.14 118.53,-36.14 115.03,-46.14 122.03,-46.14\"/>\n</g>\n<!-- X_1 -->\n<g id=\"node5\" class=\"node\">\n<title>X_1</title>\n<ellipse fill=\"none\" stroke=\"black\" cx=\"283.33\" cy=\"-72\" rx=\"27\" ry=\"18\"/>\n<text text-anchor=\"middle\" x=\"283.33\" y=\"-68.3\" font-family=\"Times,serif\" font-size=\"14.00\">X_1</text>\n</g>\n<!-- X_0&#45;&gt;X_1 -->\n<g id=\"edge23\" class=\"edge\">\n<title>X_0&#45;&gt;X_1</title>\n<path fill=\"none\" stroke=\"black\" d=\"M145.69,-72C172.87,-72 215.59,-72 246.03,-72\"/>\n<polygon fill=\"black\" stroke=\"black\" points=\"246.24,-75.5 256.24,-72 246.24,-68.5 246.24,-75.5\"/>\n</g>\n<!-- Y_1 -->\n<g id=\"node6\" class=\"node\">\n<title>Y_1</title>\n<ellipse fill=\"none\" stroke=\"black\" cx=\"283.33\" cy=\"-18\" rx=\"27\" ry=\"18\"/>\n<text text-anchor=\"middle\" x=\"283.33\" y=\"-14.3\" font-family=\"Times,serif\" font-size=\"14.00\">Y_1</text>\n</g>\n<!-- Y_0&#45;&gt;Y_1 -->\n<g id=\"edge24\" class=\"edge\">\n<title>Y_0&#45;&gt;Y_1</title>\n<path fill=\"none\" stroke=\"black\" d=\"M145.69,-18C172.87,-18 215.59,-18 246.03,-18\"/>\n<polygon fill=\"black\" stroke=\"black\" points=\"246.24,-21.5 256.24,-18 246.24,-14.5 246.24,-21.5\"/>\n</g>\n<!-- Z_1&#45;&gt;X_1 -->\n<g id=\"edge3\" class=\"edge\">\n<title>Z_1&#45;&gt;X_1</title>\n<path fill=\"none\" stroke=\"black\" d=\"M283.33,-107.79C283.33,-105.31 283.33,-102.83 283.33,-100.34\"/>\n<polygon fill=\"black\" stroke=\"black\" points=\"286.83,-100.14 283.33,-90.14 279.83,-100.14 286.83,-100.14\"/>\n</g>\n<!-- Z_2 -->\n<g id=\"node7\" class=\"node\">\n<title>Z_2</title>\n<ellipse fill=\"none\" stroke=\"black\" cx=\"448.12\" cy=\"-126\" rx=\"27\" ry=\"18\"/>\n<text text-anchor=\"middle\" x=\"448.12\" y=\"-122.3\" font-family=\"Times,serif\" font-size=\"14.00\">Z_2</text>\n</g>\n<!-- Z_1&#45;&gt;Z_2 -->\n<g id=\"edge25\" class=\"edge\">\n<title>Z_1&#45;&gt;Z_2</title>\n<path fill=\"none\" stroke=\"black\" d=\"M310.48,-126C337.66,-126 380.39,-126 410.82,-126\"/>\n<polygon fill=\"black\" stroke=\"black\" points=\"411.03,-129.5 421.03,-126 411.03,-122.5 411.03,-129.5\"/>\n</g>\n<!-- X_1&#45;&gt;Y_1 -->\n<g id=\"edge4\" class=\"edge\">\n<title>X_1&#45;&gt;Y_1</title>\n<path fill=\"none\" stroke=\"black\" d=\"M283.33,-53.79C283.33,-51.31 283.33,-48.83 283.33,-46.34\"/>\n<polygon fill=\"black\" stroke=\"black\" points=\"286.83,-46.14 283.33,-36.14 279.83,-46.14 286.83,-46.14\"/>\n</g>\n<!-- X_2 -->\n<g id=\"node8\" class=\"node\">\n<title>X_2</title>\n<ellipse fill=\"none\" stroke=\"black\" cx=\"448.12\" cy=\"-72\" rx=\"27\" ry=\"18\"/>\n<text text-anchor=\"middle\" x=\"448.12\" y=\"-68.3\" font-family=\"Times,serif\" font-size=\"14.00\">X_2</text>\n</g>\n<!-- X_1&#45;&gt;X_2 -->\n<g id=\"edge26\" class=\"edge\">\n<title>X_1&#45;&gt;X_2</title>\n<path fill=\"none\" stroke=\"black\" d=\"M310.48,-72C337.66,-72 380.39,-72 410.82,-72\"/>\n<polygon fill=\"black\" stroke=\"black\" points=\"411.03,-75.5 421.03,-72 411.03,-68.5 411.03,-75.5\"/>\n</g>\n<!-- Y_2 -->\n<g id=\"node9\" class=\"node\">\n<title>Y_2</title>\n<ellipse fill=\"none\" stroke=\"black\" cx=\"448.12\" cy=\"-18\" rx=\"27\" ry=\"18\"/>\n<text text-anchor=\"middle\" x=\"448.12\" y=\"-14.3\" font-family=\"Times,serif\" font-size=\"14.00\">Y_2</text>\n</g>\n<!-- Y_1&#45;&gt;Y_2 -->\n<g id=\"edge27\" class=\"edge\">\n<title>Y_1&#45;&gt;Y_2</title>\n<path fill=\"none\" stroke=\"black\" d=\"M310.48,-18C337.66,-18 380.39,-18 410.82,-18\"/>\n<polygon fill=\"black\" stroke=\"black\" points=\"411.03,-21.5 421.03,-18 411.03,-14.5 411.03,-21.5\"/>\n</g>\n<!-- Z_2&#45;&gt;X_2 -->\n<g id=\"edge5\" class=\"edge\">\n<title>Z_2&#45;&gt;X_2</title>\n<path fill=\"none\" stroke=\"black\" d=\"M448.12,-107.79C448.12,-105.31 448.12,-102.83 448.12,-100.34\"/>\n<polygon fill=\"black\" stroke=\"black\" points=\"451.62,-100.14 448.12,-90.14 444.62,-100.14 451.62,-100.14\"/>\n</g>\n<!-- X_2&#45;&gt;Y_2 -->\n<g id=\"edge6\" class=\"edge\">\n<title>X_2&#45;&gt;Y_2</title>\n<path fill=\"none\" stroke=\"black\" d=\"M448.12,-53.79C448.12,-51.31 448.12,-48.83 448.12,-46.34\"/>\n<polygon fill=\"black\" stroke=\"black\" points=\"451.62,-46.14 448.12,-36.14 444.62,-46.14 451.62,-46.14\"/>\n</g>\n<!-- U_XY_0 -->\n<g id=\"node10\" class=\"node\">\n<title>U_XY_0</title>\n<ellipse fill=\"none\" stroke=\"black\" cx=\"118.53\" cy=\"-342\" rx=\"42.79\" ry=\"18\"/>\n<text text-anchor=\"middle\" x=\"118.53\" y=\"-338.3\" font-family=\"Times,serif\" font-size=\"14.00\">U_XY_0</text>\n</g>\n<!-- U_XY_0&#45;&gt;X_0 -->\n<g id=\"edge7\" class=\"edge\">\n<title>U_XY_0&#45;&gt;X_0</title>\n<path fill=\"none\" stroke=\"red\" stroke-width=\"2\" stroke-dasharray=\"5,2\" d=\"M79.17,-334.67C62.98,-329.5 45.8,-320.76 36.14,-306 -12.05,-232.36 -12.05,-181.64 36.14,-108 46.43,-92.28 65.26,-83.38 82.32,-78.37\"/>\n<polygon fill=\"red\" stroke=\"red\" stroke-width=\"2\" points=\"83.28,-81.73 92.09,-75.84 81.53,-74.96 83.28,-81.73\"/>\n</g>\n<!-- U_XY_0&#45;&gt;Y_0 -->\n<g id=\"edge8\" class=\"edge\">\n<title>U_XY_0&#45;&gt;Y_0</title>\n<path fill=\"none\" stroke=\"red\" stroke-width=\"2\" stroke-dasharray=\"5,2\" d=\"M79.17,-334.67C62.98,-329.5 45.8,-320.76 36.14,-306 5.48,-259.14 5.48,-100.86 36.14,-54 46.43,-38.28 65.26,-29.38 82.32,-24.37\"/>\n<polygon fill=\"red\" stroke=\"red\" stroke-width=\"2\" points=\"83.28,-27.73 92.09,-21.84 81.53,-20.96 83.28,-27.73\"/>\n</g>\n<!-- U_XY_1 -->\n<g id=\"node11\" class=\"node\">\n<title>U_XY_1</title>\n<ellipse fill=\"none\" stroke=\"black\" cx=\"283.33\" cy=\"-342\" rx=\"42.79\" ry=\"18\"/>\n<text text-anchor=\"middle\" x=\"283.33\" y=\"-338.3\" font-family=\"Times,serif\" font-size=\"14.00\">U_XY_1</text>\n</g>\n<!-- U_XY_1&#45;&gt;X_1 -->\n<g id=\"edge9\" class=\"edge\">\n<title>U_XY_1&#45;&gt;X_1</title>\n<path fill=\"none\" stroke=\"red\" stroke-width=\"2\" stroke-dasharray=\"5,2\" d=\"M243.96,-334.67C227.78,-329.5 210.59,-320.76 200.93,-306 152.75,-232.36 152.75,-181.64 200.93,-108 211.22,-92.28 230.05,-83.38 247.12,-78.37\"/>\n<polygon fill=\"red\" stroke=\"red\" stroke-width=\"2\" points=\"248.08,-81.73 256.88,-75.84 246.32,-74.96 248.08,-81.73\"/>\n</g>\n<!-- U_XY_1&#45;&gt;Y_1 -->\n<g id=\"edge10\" class=\"edge\">\n<title>U_XY_1&#45;&gt;Y_1</title>\n<path fill=\"none\" stroke=\"red\" stroke-width=\"2\" stroke-dasharray=\"5,2\" d=\"M243.96,-334.67C227.78,-329.5 210.59,-320.76 200.93,-306 170.27,-259.14 170.27,-100.86 200.93,-54 211.22,-38.28 230.05,-29.38 247.12,-24.37\"/>\n<polygon fill=\"red\" stroke=\"red\" stroke-width=\"2\" points=\"248.08,-27.73 256.88,-21.84 246.32,-20.96 248.08,-27.73\"/>\n</g>\n<!-- U_XY_2 -->\n<g id=\"node12\" class=\"node\">\n<title>U_XY_2</title>\n<ellipse fill=\"none\" stroke=\"black\" cx=\"448.12\" cy=\"-342\" rx=\"42.79\" ry=\"18\"/>\n<text text-anchor=\"middle\" x=\"448.12\" y=\"-338.3\" font-family=\"Times,serif\" font-size=\"14.00\">U_XY_2</text>\n</g>\n<!-- U_XY_2&#45;&gt;X_2 -->\n<g id=\"edge11\" class=\"edge\">\n<title>U_XY_2&#45;&gt;X_2</title>\n<path fill=\"none\" stroke=\"red\" stroke-width=\"2\" stroke-dasharray=\"5,2\" d=\"M408.75,-334.67C392.57,-329.5 375.38,-320.76 365.72,-306 317.54,-232.36 317.54,-181.64 365.72,-108 376.01,-92.28 394.84,-83.38 411.91,-78.37\"/>\n<polygon fill=\"red\" stroke=\"red\" stroke-width=\"2\" points=\"412.87,-81.73 421.67,-75.84 411.12,-74.96 412.87,-81.73\"/>\n</g>\n<!-- U_XY_2&#45;&gt;Y_2 -->\n<g id=\"edge12\" class=\"edge\">\n<title>U_XY_2&#45;&gt;Y_2</title>\n<path fill=\"none\" stroke=\"red\" stroke-width=\"2\" stroke-dasharray=\"5,2\" d=\"M408.75,-334.67C392.57,-329.5 375.38,-320.76 365.72,-306 335.06,-259.14 335.06,-100.86 365.72,-54 376.01,-38.28 394.84,-29.38 411.91,-24.37\"/>\n<polygon fill=\"red\" stroke=\"red\" stroke-width=\"2\" points=\"412.87,-27.73 421.67,-21.84 411.12,-20.96 412.87,-27.73\"/>\n</g>\n<!-- U_Z_0 -->\n<g id=\"node13\" class=\"node\">\n<title>U_Z_0</title>\n<ellipse fill=\"none\" stroke=\"black\" cx=\"118.53\" cy=\"-180\" rx=\"36\" ry=\"18\"/>\n<text text-anchor=\"middle\" x=\"118.53\" y=\"-176.3\" font-family=\"Times,serif\" font-size=\"14.00\">U_Z_0</text>\n</g>\n<!-- U_Z_0&#45;&gt;Z_0 -->\n<g id=\"edge13\" class=\"edge\">\n<title>U_Z_0&#45;&gt;Z_0</title>\n<path fill=\"none\" stroke=\"black\" stroke-dasharray=\"5,2\" d=\"M118.53,-161.79C118.53,-159.31 118.53,-156.83 118.53,-154.34\"/>\n<polygon fill=\"black\" stroke=\"black\" points=\"122.03,-154.14 118.53,-144.14 115.03,-154.14 122.03,-154.14\"/>\n</g>\n<!-- U_X_0 -->\n<g id=\"node14\" class=\"node\">\n<title>U_X_0</title>\n<ellipse fill=\"none\" stroke=\"black\" cx=\"118.53\" cy=\"-234\" rx=\"36.29\" ry=\"18\"/>\n<text text-anchor=\"middle\" x=\"118.53\" y=\"-230.3\" font-family=\"Times,serif\" font-size=\"14.00\">U_X_0</text>\n</g>\n<!-- U_X_0&#45;&gt;X_0 -->\n<g id=\"edge14\" class=\"edge\">\n<title>U_X_0&#45;&gt;X_0</title>\n<path fill=\"none\" stroke=\"black\" stroke-dasharray=\"5,2\" d=\"M83.86,-228.08C66.4,-223.15 46.74,-214.2 36.14,-198 14.24,-164.53 14.24,-141.47 36.14,-108 46.43,-92.28 65.26,-83.38 82.32,-78.37\"/>\n<polygon fill=\"black\" stroke=\"black\" points=\"83.28,-81.73 92.09,-75.84 81.53,-74.96 83.28,-81.73\"/>\n</g>\n<!-- U_Y_0 -->\n<g id=\"node15\" class=\"node\">\n<title>U_Y_0</title>\n<ellipse fill=\"none\" stroke=\"black\" cx=\"118.53\" cy=\"-288\" rx=\"36.29\" ry=\"18\"/>\n<text text-anchor=\"middle\" x=\"118.53\" y=\"-284.3\" font-family=\"Times,serif\" font-size=\"14.00\">U_Y_0</text>\n</g>\n<!-- U_Y_0&#45;&gt;Y_0 -->\n<g id=\"edge15\" class=\"edge\">\n<title>U_Y_0&#45;&gt;Y_0</title>\n<path fill=\"none\" stroke=\"black\" stroke-dasharray=\"5,2\" d=\"M83.86,-282.08C66.4,-277.15 46.74,-268.2 36.14,-252 -12.05,-178.36 -12.05,-127.64 36.14,-54 46.43,-38.28 65.26,-29.38 82.32,-24.37\"/>\n<polygon fill=\"black\" stroke=\"black\" points=\"83.28,-27.73 92.09,-21.84 81.53,-20.96 83.28,-27.73\"/>\n</g>\n<!-- U_Z_1 -->\n<g id=\"node16\" class=\"node\">\n<title>U_Z_1</title>\n<ellipse fill=\"none\" stroke=\"black\" cx=\"283.33\" cy=\"-180\" rx=\"36\" ry=\"18\"/>\n<text text-anchor=\"middle\" x=\"283.33\" y=\"-176.3\" font-family=\"Times,serif\" font-size=\"14.00\">U_Z_1</text>\n</g>\n<!-- U_Z_1&#45;&gt;Z_1 -->\n<g id=\"edge16\" class=\"edge\">\n<title>U_Z_1&#45;&gt;Z_1</title>\n<path fill=\"none\" stroke=\"black\" stroke-dasharray=\"5,2\" d=\"M283.33,-161.79C283.33,-159.31 283.33,-156.83 283.33,-154.34\"/>\n<polygon fill=\"black\" stroke=\"black\" points=\"286.83,-154.14 283.33,-144.14 279.83,-154.14 286.83,-154.14\"/>\n</g>\n<!-- U_X_1 -->\n<g id=\"node17\" class=\"node\">\n<title>U_X_1</title>\n<ellipse fill=\"none\" stroke=\"black\" cx=\"283.33\" cy=\"-234\" rx=\"36.29\" ry=\"18\"/>\n<text text-anchor=\"middle\" x=\"283.33\" y=\"-230.3\" font-family=\"Times,serif\" font-size=\"14.00\">U_X_1</text>\n</g>\n<!-- U_X_1&#45;&gt;X_1 -->\n<g id=\"edge17\" class=\"edge\">\n<title>U_X_1&#45;&gt;X_1</title>\n<path fill=\"none\" stroke=\"black\" stroke-dasharray=\"5,2\" d=\"M248.65,-228.08C231.19,-223.15 211.53,-214.2 200.93,-198 179.03,-164.53 179.03,-141.47 200.93,-108 211.22,-92.28 230.05,-83.38 247.12,-78.37\"/>\n<polygon fill=\"black\" stroke=\"black\" points=\"248.08,-81.73 256.88,-75.84 246.32,-74.96 248.08,-81.73\"/>\n</g>\n<!-- U_Y_1 -->\n<g id=\"node18\" class=\"node\">\n<title>U_Y_1</title>\n<ellipse fill=\"none\" stroke=\"black\" cx=\"283.33\" cy=\"-288\" rx=\"36.29\" ry=\"18\"/>\n<text text-anchor=\"middle\" x=\"283.33\" y=\"-284.3\" font-family=\"Times,serif\" font-size=\"14.00\">U_Y_1</text>\n</g>\n<!-- U_Y_1&#45;&gt;Y_1 -->\n<g id=\"edge18\" class=\"edge\">\n<title>U_Y_1&#45;&gt;Y_1</title>\n<path fill=\"none\" stroke=\"black\" stroke-dasharray=\"5,2\" d=\"M248.65,-282.08C231.19,-277.15 211.53,-268.2 200.93,-252 152.75,-178.36 152.75,-127.64 200.93,-54 211.22,-38.28 230.05,-29.38 247.12,-24.37\"/>\n<polygon fill=\"black\" stroke=\"black\" points=\"248.08,-27.73 256.88,-21.84 246.32,-20.96 248.08,-27.73\"/>\n</g>\n<!-- U_Z_2 -->\n<g id=\"node19\" class=\"node\">\n<title>U_Z_2</title>\n<ellipse fill=\"none\" stroke=\"black\" cx=\"448.12\" cy=\"-180\" rx=\"36\" ry=\"18\"/>\n<text text-anchor=\"middle\" x=\"448.12\" y=\"-176.3\" font-family=\"Times,serif\" font-size=\"14.00\">U_Z_2</text>\n</g>\n<!-- U_Z_2&#45;&gt;Z_2 -->\n<g id=\"edge19\" class=\"edge\">\n<title>U_Z_2&#45;&gt;Z_2</title>\n<path fill=\"none\" stroke=\"black\" stroke-dasharray=\"5,2\" d=\"M448.12,-161.79C448.12,-159.31 448.12,-156.83 448.12,-154.34\"/>\n<polygon fill=\"black\" stroke=\"black\" points=\"451.62,-154.14 448.12,-144.14 444.62,-154.14 451.62,-154.14\"/>\n</g>\n<!-- U_X_2 -->\n<g id=\"node20\" class=\"node\">\n<title>U_X_2</title>\n<ellipse fill=\"none\" stroke=\"black\" cx=\"448.12\" cy=\"-234\" rx=\"36.29\" ry=\"18\"/>\n<text text-anchor=\"middle\" x=\"448.12\" y=\"-230.3\" font-family=\"Times,serif\" font-size=\"14.00\">U_X_2</text>\n</g>\n<!-- U_X_2&#45;&gt;X_2 -->\n<g id=\"edge20\" class=\"edge\">\n<title>U_X_2&#45;&gt;X_2</title>\n<path fill=\"none\" stroke=\"black\" stroke-dasharray=\"5,2\" d=\"M413.44,-228.08C395.99,-223.15 376.32,-214.2 365.72,-198 343.82,-164.53 343.82,-141.47 365.72,-108 376.01,-92.28 394.84,-83.38 411.91,-78.37\"/>\n<polygon fill=\"black\" stroke=\"black\" points=\"412.87,-81.73 421.67,-75.84 411.12,-74.96 412.87,-81.73\"/>\n</g>\n<!-- U_Y_2 -->\n<g id=\"node21\" class=\"node\">\n<title>U_Y_2</title>\n<ellipse fill=\"none\" stroke=\"black\" cx=\"448.12\" cy=\"-288\" rx=\"36.29\" ry=\"18\"/>\n<text text-anchor=\"middle\" x=\"448.12\" y=\"-284.3\" font-family=\"Times,serif\" font-size=\"14.00\">U_Y_2</text>\n</g>\n<!-- U_Y_2&#45;&gt;Y_2 -->\n<g id=\"edge21\" class=\"edge\">\n<title>U_Y_2&#45;&gt;Y_2</title>\n<path fill=\"none\" stroke=\"black\" stroke-dasharray=\"5,2\" d=\"M413.44,-282.08C395.99,-277.15 376.32,-268.2 365.72,-252 317.54,-178.36 317.54,-127.64 365.72,-54 376.01,-38.28 394.84,-29.38 411.91,-24.37\"/>\n<polygon fill=\"black\" stroke=\"black\" points=\"412.87,-27.73 421.67,-21.84 411.12,-20.96 412.87,-27.73\"/>\n</g>\n</g>\n</svg>\n",
      "text/plain": [
       "<graphviz.files.Source at 0x7f8560405550>"
      ]
     },
     "metadata": {},
     "execution_count": 5
    }
   ],
   "metadata": {}
  },
  {
   "cell_type": "code",
   "execution_count": 6,
   "source": [
    "background_info = {\n",
    "    # Exogenous / background conditions\n",
    "    \"U_Z\": {\"type\": \"background\", \"domain\": (0, 1)},\n",
    "    \"U_X\": {\"type\": \"background\", \"domain\": (0, 1)},\n",
    "    \"U_Y\": {\"type\": \"background\", \"domain\": (0, 1)},\n",
    "    \"U_XY\": {\"type\": \"confounder\", \"domain\": (0, 1)},\n",
    "}\n",
    "# Contains all the sub-graphs per time-slice\n",
    "G = make_networkx_object(graph_view, node_info | background_info, T)\n",
    "# TODO: need to add assigned variable edges here but make sure that they are removed from the relevant node if that variable is intervened upon.\n",
    "gs = get_time_slice_sub_graphs(G,T)\n",
    "cds = make_time_slice_causal_diagrams(gs,conf_info)"
   ],
   "outputs": [],
   "metadata": {}
  },
  {
   "cell_type": "markdown",
   "source": [
    "## Explore SCM from fig 3"
   ],
   "metadata": {}
  },
  {
   "cell_type": "code",
   "execution_count": 8,
   "source": [
    "from scipy.stats import bernoulli as ber\n",
    "from src.examples.SEMs import DynamicIVCD\n",
    "from itertools import product\n",
    "from collections import defaultdict\n",
    "from npsem.model import default_P_U"
   ],
   "outputs": [],
   "metadata": {}
  },
  {
   "cell_type": "code",
   "execution_count": 100,
   "source": [
    "SEM = DynamicIVCD()\n",
    "static = SEM.static()\n",
    "dynamic = SEM.dynamic()\n",
    "\n",
    "# SEM = DynamicIVCD()\n",
    "# static = SEM.static()\n",
    "# dynamic = SEM.dynamic(clamped={\"X\":0, 'Z':1, \"Y\":1})\n",
    "T = 3\n",
    "N = 20 \n",
    "exo_vars = {\"U_Z\": ber.rvs(p=0.6, size=(N,T)), \"U_X\":ber.rvs(p=0.11, size=(N,T)), \"U_Y\":ber.rvs(p=0.15, size=(N,T)) ,\"U_XY\":ber.rvs(p=0.51, size=(N,T))}\n",
    "# epsilon = np.random.randint(2, size=(N,T))\n",
    "sem_samples  = {k:np.empty((N,T), dtype='int') for k in static.keys()}\n",
    "sem_samples\n",
    "samples = sem_samples | exo_vars\n",
    "samples"
   ],
   "outputs": [
    {
     "output_type": "execute_result",
     "data": {
      "text/plain": [
       "{'Z': array([[0, 0, 0],\n",
       "        [0, 0, 1],\n",
       "        [1, 1, 0],\n",
       "        [0, 0, 0],\n",
       "        [1, 0, 0],\n",
       "        [0, 1, 0],\n",
       "        [0, 1, 1],\n",
       "        [0, 1, 1],\n",
       "        [0, 1, 1],\n",
       "        [1, 0, 1],\n",
       "        [1, 0, 0],\n",
       "        [1, 0, 0],\n",
       "        [1, 1, 0],\n",
       "        [0, 0, 0],\n",
       "        [1, 1, 1],\n",
       "        [1, 1, 0],\n",
       "        [0, 1, 0],\n",
       "        [1, 1, 0],\n",
       "        [0, 1, 0],\n",
       "        [0, 1, 0]]),\n",
       " 'X': array([[0, 0, 0],\n",
       "        [0, 0, 1],\n",
       "        [1, 1, 0],\n",
       "        [0, 0, 0],\n",
       "        [1, 0, 0],\n",
       "        [0, 1, 0],\n",
       "        [0, 1, 1],\n",
       "        [0, 1, 1],\n",
       "        [0, 1, 1],\n",
       "        [1, 0, 1],\n",
       "        [1, 0, 0],\n",
       "        [1, 0, 0],\n",
       "        [1, 1, 0],\n",
       "        [0, 0, 0],\n",
       "        [1, 1, 1],\n",
       "        [1, 1, 0],\n",
       "        [0, 1, 0],\n",
       "        [1, 1, 0],\n",
       "        [0, 1, 0],\n",
       "        [0, 1, 0]]),\n",
       " 'Y': array([[ 6917529027641081856, -8070441769076199208,                   68],\n",
       "        [                   0,                    0,                    0],\n",
       "        [                   0,                    0,                    0],\n",
       "        [                   0,                    0,                    0],\n",
       "        [                   0,      140209489411552,      140209489411552],\n",
       "        [                   0,                    0,                    0],\n",
       "        [                   0,                    0,                    0],\n",
       "        [                   0,                    0,                    0],\n",
       "        [                   0,                    0,                    0],\n",
       "        [                   0,                    0,                    0],\n",
       "        [                   0,                    0,                    0],\n",
       "        [                   0,                    0,                    0],\n",
       "        [                   0,                    0,                    0],\n",
       "        [                   0,                    0,                    0],\n",
       "        [                   0,                    0,                    0],\n",
       "        [                   0,                    0,                    0],\n",
       "        [                   0,                    0,                    0],\n",
       "        [                   0,                    0,                    0],\n",
       "        [                   0,                    0,                    0],\n",
       "        [                   0,                    0,                    0]]),\n",
       " 'U_Z': array([[1, 0, 1],\n",
       "        [1, 1, 1],\n",
       "        [1, 1, 1],\n",
       "        [0, 1, 1],\n",
       "        [1, 1, 1],\n",
       "        [1, 0, 1],\n",
       "        [1, 0, 0],\n",
       "        [0, 1, 0],\n",
       "        [0, 1, 0],\n",
       "        [1, 0, 0],\n",
       "        [1, 1, 1],\n",
       "        [1, 1, 0],\n",
       "        [0, 1, 0],\n",
       "        [0, 1, 1],\n",
       "        [1, 1, 0],\n",
       "        [0, 1, 0],\n",
       "        [0, 1, 1],\n",
       "        [1, 1, 0],\n",
       "        [0, 1, 0],\n",
       "        [1, 0, 0]]),\n",
       " 'U_X': array([[0, 0, 0],\n",
       "        [0, 0, 0],\n",
       "        [0, 0, 0],\n",
       "        [0, 0, 0],\n",
       "        [1, 0, 1],\n",
       "        [0, 0, 0],\n",
       "        [0, 0, 0],\n",
       "        [0, 1, 1],\n",
       "        [0, 0, 0],\n",
       "        [1, 0, 0],\n",
       "        [0, 0, 0],\n",
       "        [0, 0, 0],\n",
       "        [0, 0, 0],\n",
       "        [0, 0, 0],\n",
       "        [0, 0, 0],\n",
       "        [0, 0, 0],\n",
       "        [0, 0, 1],\n",
       "        [0, 0, 0],\n",
       "        [0, 0, 0],\n",
       "        [0, 0, 0]]),\n",
       " 'U_Y': array([[0, 1, 1],\n",
       "        [0, 0, 1],\n",
       "        [0, 0, 0],\n",
       "        [0, 1, 0],\n",
       "        [0, 0, 0],\n",
       "        [0, 0, 0],\n",
       "        [0, 0, 0],\n",
       "        [0, 0, 0],\n",
       "        [0, 0, 1],\n",
       "        [1, 0, 0],\n",
       "        [0, 0, 1],\n",
       "        [0, 0, 0],\n",
       "        [0, 0, 0],\n",
       "        [0, 0, 0],\n",
       "        [0, 0, 0],\n",
       "        [0, 0, 1],\n",
       "        [0, 0, 0],\n",
       "        [0, 0, 1],\n",
       "        [0, 0, 0],\n",
       "        [0, 0, 1]]),\n",
       " 'U_XY': array([[0, 0, 0],\n",
       "        [0, 0, 1],\n",
       "        [1, 1, 0],\n",
       "        [0, 0, 0],\n",
       "        [1, 0, 0],\n",
       "        [0, 1, 0],\n",
       "        [0, 1, 1],\n",
       "        [0, 1, 1],\n",
       "        [0, 1, 1],\n",
       "        [1, 0, 1],\n",
       "        [1, 0, 0],\n",
       "        [1, 0, 0],\n",
       "        [1, 1, 0],\n",
       "        [0, 0, 0],\n",
       "        [1, 1, 1],\n",
       "        [1, 1, 0],\n",
       "        [0, 1, 0],\n",
       "        [1, 1, 0],\n",
       "        [0, 1, 0],\n",
       "        [0, 1, 0]])}"
      ]
     },
     "metadata": {},
     "execution_count": 100
    }
   ],
   "metadata": {}
  },
  {
   "cell_type": "markdown",
   "source": [
    "## Emissions"
   ],
   "metadata": {}
  },
  {
   "cell_type": "code",
   "execution_count": 72,
   "source": [
    "from src.utils.emissions import get_emission_pairs\n",
    "from src.utils.transitions import fit_trans_mat"
   ],
   "outputs": [],
   "metadata": {}
  },
  {
   "cell_type": "code",
   "execution_count": 113,
   "source": [
    "fit_trans_mat(sem_samples[\"X\"][:, [0, 1]])\n",
    "# obs = sem_samples[\"X\"][:, [0, 1]]"
   ],
   "outputs": [
    {
     "output_type": "execute_result",
     "data": {
      "text/plain": [
       "array([[0.36363636, 0.63636364],\n",
       "       [0.44444444, 0.55555556]])"
      ]
     },
     "metadata": {},
     "execution_count": 113
    }
   ],
   "metadata": {}
  },
  {
   "cell_type": "code",
   "execution_count": 48,
   "source": [
    "s  = setup_DynamicIVCD()"
   ],
   "outputs": [],
   "metadata": {}
  },
  {
   "cell_type": "code",
   "execution_count": 60,
   "source": [
    "dag = s['G']\n",
    "out = get_emission_pairs(dag)"
   ],
   "outputs": [],
   "metadata": {}
  },
  {
   "cell_type": "code",
   "execution_count": 115,
   "source": [
    "assert out"
   ],
   "outputs": [],
   "metadata": {}
  },
  {
   "cell_type": "markdown",
   "source": [
    "# Test Non-Stationary (piece-wise stationary) SCM-MAB"
   ],
   "metadata": {}
  },
  {
   "cell_type": "code",
   "execution_count": 81,
   "source": [
    "from src.examples.example_setup import setup_DynamicIVCD\n",
    "from nsscmmab import NSSCMMAB\n",
    "from scipy.stats import bernoulli"
   ],
   "outputs": [],
   "metadata": {}
  },
  {
   "cell_type": "code",
   "execution_count": 133,
   "source": [
    "prob_outcome = defaultdict(lambda: 0)\n",
    "U = {key for key in params[\"node_info\"].keys() if key[0] == \"U\"}\n",
    "D = {key: val[\"domain\"] for key, val in params[\"node_info\"].items()}\n",
    "P_U = default_P_U(params[\"mu1\"])\n",
    "V_ordered =('Z', 'X', 'Y') \n",
    "normalizer = 0\n",
    "intervention = {\"Z\":0}\n",
    "F = static\n",
    "target_variable = 'Y'\n",
    "outcome=(target_variable,)"
   ],
   "outputs": [],
   "metadata": {}
  },
  {
   "cell_type": "code",
   "execution_count": 134,
   "source": [
    "i = 0\n",
    "for u in product(*[D[U_i] for U_i in U]):  # d^|U|\n",
    "    assigned = dict(zip(U, u))\n",
    "    p_u = P_U(assigned)\n",
    "    print(assigned, p_u, prob_outcome)\n",
    "    for V_i in V_ordered:\n",
    "        if V_i in intervention:\n",
    "            assigned[V_i] = intervention[V_i]\n",
    "        else:\n",
    "            assigned[V_i] = F[V_i](assigned)\n",
    "    print(assigned)\n",
    "    normalizer += p_u\n",
    "    prob_outcome[tuple(assigned[V_i] for V_i in outcome)] += p_u\n",
    "    print([tuple(assigned[V_i] for V_i in outcome)])\n",
    "    print(prob_outcome)\n",
    "    i+=1\n",
    "    if i == 4:\n",
    "        break"
   ],
   "outputs": [
    {
     "output_type": "stream",
     "name": "stdout",
     "text": [
      "{'U_Z': 0, 'U_Y': 0, 'U_XY': 0, 'U_X': 0} 0.148274 defaultdict(<function <lambda> at 0x7f9d9087edc0>, {})\n",
      "{'U_Z': 0, 'U_Y': 0, 'U_XY': 0, 'U_X': 0, 'Z': 0, 'X': 0, 'Y': 1}\n",
      "[(1,)]\n",
      "defaultdict(<function <lambda> at 0x7f9d9087edc0>, {(1,): 0.148274})\n",
      "{'U_Z': 0, 'U_Y': 0, 'U_XY': 0, 'U_X': 1} 0.018326000000000002 defaultdict(<function <lambda> at 0x7f9d9087edc0>, {(1,): 0.148274})\n",
      "{'U_Z': 0, 'U_Y': 0, 'U_XY': 0, 'U_X': 1, 'Z': 0, 'X': 1, 'Y': 0}\n",
      "[(0,)]\n",
      "defaultdict(<function <lambda> at 0x7f9d9087edc0>, {(1,): 0.148274, (0,): 0.018326000000000002})\n",
      "{'U_Z': 0, 'U_Y': 0, 'U_XY': 1, 'U_X': 0} 0.154326 defaultdict(<function <lambda> at 0x7f9d9087edc0>, {(1,): 0.148274, (0,): 0.018326000000000002})\n",
      "{'U_Z': 0, 'U_Y': 0, 'U_XY': 1, 'U_X': 0, 'Z': 0, 'X': 1, 'Y': 1}\n",
      "[(1,)]\n",
      "defaultdict(<function <lambda> at 0x7f9d9087edc0>, {(1,): 0.3026, (0,): 0.018326000000000002})\n",
      "{'U_Z': 0, 'U_Y': 0, 'U_XY': 1, 'U_X': 1} 0.019074 defaultdict(<function <lambda> at 0x7f9d9087edc0>, {(1,): 0.3026, (0,): 0.018326000000000002})\n",
      "{'U_Z': 0, 'U_Y': 0, 'U_XY': 1, 'U_X': 1, 'Z': 0, 'X': 0, 'Y': 0}\n",
      "[(0,)]\n",
      "defaultdict(<function <lambda> at 0x7f9d9087edc0>, {(1,): 0.3026, (0,): 0.0374})\n"
     ]
    }
   ],
   "metadata": {}
  },
  {
   "cell_type": "code",
   "execution_count": 120,
   "source": [
    "assigned"
   ],
   "outputs": [
    {
     "output_type": "execute_result",
     "data": {
      "text/plain": [
       "{'U_Z': 0, 'U_Y': 0, 'U_XY': 0, 'U_X': 0}"
      ]
     },
     "metadata": {},
     "execution_count": 120
    }
   ],
   "metadata": {}
  },
  {
   "cell_type": "code",
   "execution_count": 11,
   "source": [
    "params = setup_DynamicIVCD()\n",
    "m = NSSCMMAB(**params)"
   ],
   "outputs": [
    {
     "output_type": "error",
     "ename": "NameError",
     "evalue": "name 'setup_DynamicIVCD' is not defined",
     "traceback": [
      "\u001b[0;31m---------------------------------------------------------------------------\u001b[0m",
      "\u001b[0;31mNameError\u001b[0m                                 Traceback (most recent call last)",
      "\u001b[0;32m/var/folders/j8/pnszj4xn7qs_276sfwkcd3380000gn/T/ipykernel_8708/529381770.py\u001b[0m in \u001b[0;36m<module>\u001b[0;34m\u001b[0m\n\u001b[0;32m----> 1\u001b[0;31m \u001b[0mparams\u001b[0m \u001b[0;34m=\u001b[0m \u001b[0msetup_DynamicIVCD\u001b[0m\u001b[0;34m(\u001b[0m\u001b[0;34m)\u001b[0m\u001b[0;34m\u001b[0m\u001b[0;34m\u001b[0m\u001b[0m\n\u001b[0m\u001b[1;32m      2\u001b[0m \u001b[0mm\u001b[0m \u001b[0;34m=\u001b[0m \u001b[0mNSSCMMAB\u001b[0m\u001b[0;34m(\u001b[0m\u001b[0;34m**\u001b[0m\u001b[0mparams\u001b[0m\u001b[0;34m)\u001b[0m\u001b[0;34m\u001b[0m\u001b[0;34m\u001b[0m\u001b[0m\n",
      "\u001b[0;31mNameError\u001b[0m: name 'setup_DynamicIVCD' is not defined"
     ]
    }
   ],
   "metadata": {}
  },
  {
   "cell_type": "code",
   "execution_count": 12,
   "source": [
    "test = np.random.randint(-10,10,10)\n",
    "print(test)\n",
    "test[test>=0]"
   ],
   "outputs": [
    {
     "output_type": "stream",
     "name": "stdout",
     "text": [
      "[ -9   8  -9  -9   8  -7   7  -9 -10  -1]\n"
     ]
    },
    {
     "output_type": "execute_result",
     "data": {
      "text/plain": [
       "array([8, 8, 7])"
      ]
     },
     "metadata": {},
     "execution_count": 12
    }
   ],
   "metadata": {}
  },
  {
   "cell_type": "code",
   "execution_count": 28,
   "source": [
    "mu_star = 0.773\n",
    "cumulative_rewards = np.cumsum(rewards,axis=1)\n",
    "optimal_cumulative_rewards = np.cumsum(np.ones(rewards.shape) * mu_star, axis=1)"
   ],
   "outputs": [],
   "metadata": {}
  },
  {
   "cell_type": "code",
   "execution_count": 40,
   "source": [
    "optimal_cumulative_rewards[:,:10]"
   ],
   "outputs": [
    {
     "output_type": "execute_result",
     "data": {
      "text/plain": [
       "array([[0.773, 1.546, 2.319, 3.092, 3.865, 4.638, 5.411, 6.184, 6.957,\n",
       "        7.73 ]])"
      ]
     },
     "metadata": {},
     "execution_count": 40
    }
   ],
   "metadata": {}
  },
  {
   "cell_type": "code",
   "execution_count": 41,
   "source": [
    "cumulative_rewards[:,:10]"
   ],
   "outputs": [
    {
     "output_type": "execute_result",
     "data": {
      "text/plain": [
       "array([[0., 1., 2., 3., 4., 4., 5., 5., 5., 6.]])"
      ]
     },
     "metadata": {},
     "execution_count": 41
    }
   ],
   "metadata": {}
  },
  {
   "cell_type": "code",
   "execution_count": 30,
   "source": [
    "optimal_cumulative_rewards - cumulative_rewards"
   ],
   "outputs": [
    {
     "output_type": "execute_result",
     "data": {
      "text/plain": [
       "array([[ 7.730e-01,  5.460e-01,  3.190e-01,  9.200e-02, -1.350e-01,\n",
       "         6.380e-01,  4.110e-01,  1.184e+00,  1.957e+00,  1.730e+00,\n",
       "         2.503e+00,  2.276e+00,  2.049e+00,  2.822e+00,  2.595e+00,\n",
       "         2.368e+00,  2.141e+00,  2.914e+00,  3.687e+00,  4.460e+00,\n",
       "         5.233e+00,  6.006e+00,  5.779e+00,  6.552e+00,  6.325e+00,\n",
       "         6.098e+00,  5.871e+00,  6.644e+00,  7.417e+00,  7.190e+00,\n",
       "         6.963e+00,  7.736e+00,  7.509e+00,  8.282e+00,  8.055e+00,\n",
       "         7.828e+00,  7.601e+00,  7.374e+00,  8.147e+00,  7.920e+00,\n",
       "         7.693e+00,  7.466e+00,  7.239e+00,  7.012e+00,  6.785e+00,\n",
       "         6.558e+00,  6.331e+00,  6.104e+00,  5.877e+00,  5.650e+00,\n",
       "         5.423e+00,  5.196e+00,  5.969e+00,  5.742e+00,  5.515e+00,\n",
       "         5.288e+00,  5.061e+00,  4.834e+00,  4.607e+00,  4.380e+00,\n",
       "         4.153e+00,  3.926e+00,  3.699e+00,  3.472e+00,  3.245e+00,\n",
       "         3.018e+00,  3.791e+00,  3.564e+00,  4.337e+00,  4.110e+00,\n",
       "         4.883e+00,  4.656e+00,  5.429e+00,  5.202e+00,  4.975e+00,\n",
       "         4.748e+00,  4.521e+00,  4.294e+00,  4.067e+00,  3.840e+00,\n",
       "         3.613e+00,  3.386e+00,  3.159e+00,  2.932e+00,  2.705e+00,\n",
       "         2.478e+00,  2.251e+00,  2.024e+00,  1.797e+00,  2.570e+00,\n",
       "         2.343e+00,  2.116e+00,  1.889e+00,  1.662e+00,  1.435e+00,\n",
       "         1.208e+00,  9.810e-01,  7.540e-01,  1.527e+00,  1.300e+00,\n",
       "         1.073e+00,  8.460e-01,  6.190e-01,  1.392e+00,  1.165e+00,\n",
       "         9.380e-01,  7.110e-01,  4.840e-01,  2.570e-01,  1.030e+00,\n",
       "         8.030e-01,  1.576e+00,  1.349e+00,  1.122e+00,  1.895e+00,\n",
       "         1.668e+00,  2.441e+00,  2.214e+00,  2.987e+00,  2.760e+00,\n",
       "         2.533e+00,  2.306e+00,  3.079e+00,  2.852e+00,  2.625e+00,\n",
       "         2.398e+00,  2.171e+00,  1.944e+00,  1.717e+00,  1.490e+00,\n",
       "         1.263e+00,  1.036e+00,  8.090e-01,  5.820e-01,  3.550e-01,\n",
       "         1.280e-01, -9.900e-02, -3.260e-01, -5.530e-01, -7.800e-01,\n",
       "        -7.000e-03, -2.340e-01, -4.610e-01,  3.120e-01,  1.085e+00,\n",
       "         8.580e-01,  6.310e-01,  1.404e+00,  1.177e+00,  1.950e+00,\n",
       "         1.723e+00,  2.496e+00,  2.269e+00,  2.042e+00,  1.815e+00,\n",
       "         2.588e+00,  3.361e+00,  3.134e+00,  2.907e+00,  2.680e+00,\n",
       "         2.453e+00,  2.226e+00,  1.999e+00,  2.772e+00,  3.545e+00,\n",
       "         4.318e+00,  4.091e+00,  3.864e+00,  3.637e+00,  3.410e+00,\n",
       "         3.183e+00,  2.956e+00,  2.729e+00,  2.502e+00,  3.275e+00,\n",
       "         3.048e+00,  2.821e+00,  3.594e+00,  3.367e+00,  3.140e+00,\n",
       "         2.913e+00,  2.686e+00,  2.459e+00,  2.232e+00,  3.005e+00,\n",
       "         3.778e+00,  3.551e+00,  3.324e+00,  3.097e+00,  2.870e+00,\n",
       "         2.643e+00,  2.416e+00,  2.189e+00,  2.962e+00,  2.735e+00,\n",
       "         2.508e+00,  2.281e+00,  2.054e+00,  1.827e+00,  1.600e+00,\n",
       "         1.373e+00,  1.146e+00,  9.190e-01,  6.920e-01,  4.650e-01,\n",
       "         2.380e-01,  1.100e-02, -2.160e-01, -4.430e-01,  3.300e-01,\n",
       "         1.103e+00,  8.760e-01,  6.490e-01,  4.220e-01,  1.950e-01,\n",
       "        -3.200e-02, -2.590e-01, -4.860e-01, -7.130e-01,  6.000e-02,\n",
       "        -1.670e-01,  6.060e-01,  3.790e-01,  1.152e+00,  9.250e-01,\n",
       "         1.698e+00,  1.471e+00,  1.244e+00,  2.017e+00,  1.790e+00,\n",
       "         1.563e+00,  1.336e+00,  1.109e+00,  8.820e-01,  6.550e-01,\n",
       "         4.280e-01,  2.010e-01, -2.600e-02, -2.530e-01, -4.800e-01,\n",
       "         2.930e-01,  6.600e-02, -1.610e-01, -3.880e-01, -6.150e-01,\n",
       "        -8.420e-01, -1.069e+00, -1.296e+00, -1.523e+00, -1.750e+00,\n",
       "        -1.977e+00, -1.204e+00, -1.431e+00, -1.658e+00, -8.850e-01,\n",
       "        -1.112e+00, -1.339e+00, -1.566e+00, -7.930e-01, -1.020e+00,\n",
       "        -1.247e+00, -1.474e+00, -1.701e+00, -9.280e-01, -1.155e+00,\n",
       "        -3.820e-01, -6.090e-01, -8.360e-01, -1.063e+00, -1.290e+00,\n",
       "        -5.170e-01,  2.560e-01,  2.900e-02,  8.020e-01,  5.750e-01,\n",
       "         1.348e+00,  2.121e+00,  2.894e+00,  2.667e+00,  3.440e+00,\n",
       "         3.213e+00,  3.986e+00,  3.759e+00,  3.532e+00,  3.305e+00,\n",
       "         3.078e+00,  3.851e+00,  3.624e+00,  3.397e+00,  3.170e+00,\n",
       "         2.943e+00,  2.716e+00,  3.489e+00,  3.262e+00,  3.035e+00,\n",
       "         2.808e+00,  2.581e+00,  3.354e+00,  4.127e+00,  4.900e+00,\n",
       "         5.673e+00,  6.446e+00,  6.219e+00,  5.992e+00,  5.765e+00,\n",
       "         5.538e+00,  5.311e+00,  5.084e+00,  4.857e+00,  4.630e+00,\n",
       "         4.403e+00,  4.176e+00,  3.949e+00,  3.722e+00,  3.495e+00,\n",
       "         3.268e+00,  3.041e+00,  2.814e+00,  3.587e+00,  3.360e+00,\n",
       "         3.133e+00,  2.906e+00,  2.679e+00,  2.452e+00,  2.225e+00,\n",
       "         1.998e+00,  1.771e+00,  1.544e+00,  1.317e+00,  1.090e+00,\n",
       "         8.630e-01,  1.636e+00,  1.409e+00,  1.182e+00,  1.955e+00,\n",
       "         2.728e+00,  2.501e+00,  2.274e+00,  2.047e+00,  1.820e+00,\n",
       "         1.593e+00,  1.366e+00,  1.139e+00,  9.120e-01,  1.685e+00,\n",
       "         1.458e+00,  1.231e+00,  1.004e+00,  7.770e-01,  1.550e+00,\n",
       "         1.323e+00,  1.096e+00,  8.690e-01,  6.420e-01,  4.150e-01,\n",
       "         1.880e-01, -3.900e-02, -2.660e-01, -4.930e-01,  2.800e-01,\n",
       "         5.300e-02,  8.260e-01,  5.990e-01,  3.720e-01,  1.145e+00,\n",
       "         9.180e-01,  6.910e-01,  4.640e-01,  1.237e+00,  1.010e+00,\n",
       "         7.830e-01,  5.560e-01,  3.290e-01,  1.020e-01, -1.250e-01,\n",
       "        -3.520e-01,  4.210e-01,  1.194e+00,  9.670e-01,  7.400e-01,\n",
       "         1.513e+00,  1.286e+00,  2.059e+00,  1.832e+00,  2.605e+00,\n",
       "         3.378e+00,  4.151e+00,  3.924e+00,  3.697e+00,  3.470e+00,\n",
       "         3.243e+00,  3.016e+00,  2.789e+00,  3.562e+00,  3.335e+00,\n",
       "         4.108e+00,  3.881e+00,  3.654e+00,  3.427e+00,  3.200e+00,\n",
       "         2.973e+00,  3.746e+00,  3.519e+00,  4.292e+00,  5.065e+00,\n",
       "         4.838e+00,  4.611e+00,  4.384e+00,  4.157e+00,  3.930e+00,\n",
       "         3.703e+00,  3.476e+00,  3.249e+00,  3.022e+00,  2.795e+00,\n",
       "         2.568e+00,  2.341e+00,  2.114e+00,  1.887e+00,  1.660e+00,\n",
       "         2.433e+00,  3.206e+00,  2.979e+00,  2.752e+00,  2.525e+00,\n",
       "         2.298e+00,  3.071e+00,  2.844e+00,  3.617e+00,  3.390e+00,\n",
       "         3.163e+00,  2.936e+00,  2.709e+00,  2.482e+00,  2.255e+00,\n",
       "         2.028e+00,  1.801e+00,  1.574e+00,  1.347e+00,  1.120e+00,\n",
       "         8.930e-01,  1.666e+00,  2.439e+00,  2.212e+00,  1.985e+00,\n",
       "         1.758e+00,  2.531e+00,  3.304e+00,  4.077e+00,  4.850e+00,\n",
       "         4.623e+00,  5.396e+00,  5.169e+00,  4.942e+00,  5.715e+00,\n",
       "         5.488e+00,  5.261e+00,  5.034e+00,  4.807e+00,  5.580e+00,\n",
       "         5.353e+00,  5.126e+00,  4.899e+00,  4.672e+00,  4.445e+00,\n",
       "         4.218e+00,  3.991e+00,  3.764e+00,  4.537e+00,  4.310e+00,\n",
       "         4.083e+00,  4.856e+00,  4.629e+00,  5.402e+00,  6.175e+00,\n",
       "         5.948e+00,  5.721e+00,  6.494e+00,  7.267e+00,  7.040e+00,\n",
       "         6.813e+00,  6.586e+00,  6.359e+00,  6.132e+00,  5.905e+00,\n",
       "         5.678e+00,  5.451e+00,  6.224e+00,  6.997e+00,  6.770e+00,\n",
       "         6.543e+00,  6.316e+00,  7.089e+00,  6.862e+00,  6.635e+00,\n",
       "         6.408e+00,  6.181e+00,  5.954e+00,  5.727e+00,  5.500e+00,\n",
       "         5.273e+00,  5.046e+00,  4.819e+00,  4.592e+00,  4.365e+00,\n",
       "         5.138e+00,  5.911e+00,  5.684e+00,  5.457e+00,  5.230e+00,\n",
       "         5.003e+00,  4.776e+00,  4.549e+00,  4.322e+00,  4.095e+00,\n",
       "         3.868e+00,  3.641e+00,  3.414e+00,  3.187e+00,  3.960e+00,\n",
       "         3.733e+00,  3.506e+00,  3.279e+00,  3.052e+00,  2.825e+00,\n",
       "         2.598e+00,  2.371e+00,  3.144e+00,  2.917e+00,  2.690e+00,\n",
       "         2.463e+00,  2.236e+00,  2.009e+00,  1.782e+00,  1.555e+00,\n",
       "         1.328e+00,  1.101e+00,  8.740e-01,  6.470e-01,  1.420e+00,\n",
       "         1.193e+00,  9.660e-01,  7.390e-01,  5.120e-01,  1.285e+00,\n",
       "         1.058e+00,  8.310e-01,  1.604e+00,  1.377e+00,  1.150e+00,\n",
       "         1.923e+00,  1.696e+00,  1.469e+00,  1.242e+00,  1.015e+00,\n",
       "         7.880e-01,  5.610e-01,  3.340e-01,  1.070e-01,  8.800e-01,\n",
       "         6.530e-01,  4.260e-01,  1.199e+00,  1.972e+00,  1.745e+00,\n",
       "         2.518e+00,  2.291e+00,  3.064e+00,  3.837e+00,  4.610e+00,\n",
       "         5.383e+00,  5.156e+00,  4.929e+00,  4.702e+00,  5.475e+00,\n",
       "         5.248e+00,  5.021e+00,  5.794e+00,  5.567e+00,  6.340e+00,\n",
       "         6.113e+00,  5.886e+00,  5.659e+00,  5.432e+00,  5.205e+00,\n",
       "         4.978e+00,  4.751e+00,  4.524e+00,  4.297e+00,  5.070e+00,\n",
       "         4.843e+00,  5.616e+00,  5.389e+00,  5.162e+00,  4.935e+00,\n",
       "         5.708e+00,  5.481e+00,  5.254e+00,  5.027e+00,  5.800e+00,\n",
       "         5.573e+00,  5.346e+00,  5.119e+00,  4.892e+00,  4.665e+00,\n",
       "         4.438e+00,  4.211e+00,  3.984e+00,  3.757e+00,  3.530e+00,\n",
       "         3.303e+00,  3.076e+00,  3.849e+00,  3.622e+00,  3.395e+00,\n",
       "         3.168e+00,  2.941e+00,  2.714e+00,  2.487e+00,  3.260e+00,\n",
       "         3.033e+00,  2.806e+00,  2.579e+00,  3.352e+00,  4.125e+00,\n",
       "         4.898e+00,  4.671e+00,  4.444e+00,  5.217e+00,  4.990e+00,\n",
       "         4.763e+00,  4.536e+00,  4.309e+00,  4.082e+00,  4.855e+00,\n",
       "         5.628e+00,  5.401e+00,  5.174e+00,  4.947e+00,  4.720e+00,\n",
       "         5.493e+00,  6.266e+00,  7.039e+00,  6.812e+00,  6.585e+00,\n",
       "         6.358e+00,  6.131e+00,  5.904e+00,  6.677e+00,  6.450e+00,\n",
       "         6.223e+00,  5.996e+00,  5.769e+00,  5.542e+00,  6.315e+00,\n",
       "         6.088e+00,  5.861e+00,  5.634e+00,  5.407e+00,  6.180e+00,\n",
       "         5.953e+00,  6.726e+00,  6.499e+00,  6.272e+00,  6.045e+00,\n",
       "         5.818e+00,  5.591e+00,  5.364e+00,  5.137e+00,  4.910e+00,\n",
       "         4.683e+00,  4.456e+00,  4.229e+00,  4.002e+00,  4.775e+00,\n",
       "         4.548e+00,  4.321e+00,  4.094e+00,  3.867e+00,  3.640e+00,\n",
       "         3.413e+00,  3.186e+00,  2.959e+00,  2.732e+00,  2.505e+00,\n",
       "         2.278e+00,  2.051e+00,  1.824e+00,  2.597e+00,  2.370e+00,\n",
       "         3.143e+00,  2.916e+00,  2.689e+00,  2.462e+00,  2.235e+00,\n",
       "         2.008e+00,  1.781e+00,  1.554e+00,  1.327e+00,  2.100e+00,\n",
       "         1.873e+00,  1.646e+00,  1.419e+00,  1.192e+00,  9.650e-01,\n",
       "         7.380e-01,  5.110e-01,  2.840e-01,  5.700e-02,  8.300e-01,\n",
       "         6.030e-01,  3.760e-01,  1.149e+00,  9.220e-01,  6.950e-01,\n",
       "         4.680e-01,  2.410e-01,  1.400e-02, -2.130e-01,  5.600e-01,\n",
       "         3.330e-01,  1.106e+00,  8.790e-01,  1.652e+00,  1.425e+00,\n",
       "         2.198e+00,  1.971e+00,  2.744e+00,  2.517e+00,  2.290e+00,\n",
       "         2.063e+00,  1.836e+00,  1.609e+00,  1.382e+00,  1.155e+00,\n",
       "         9.280e-01,  7.010e-01,  4.740e-01,  2.470e-01,  2.000e-02,\n",
       "        -2.070e-01,  5.660e-01,  3.390e-01,  1.120e-01, -1.150e-01,\n",
       "        -3.420e-01,  4.310e-01,  2.040e-01,  9.770e-01,  7.500e-01,\n",
       "         5.230e-01,  2.960e-01,  1.069e+00,  8.420e-01,  6.150e-01,\n",
       "         1.388e+00,  1.161e+00,  9.340e-01,  7.070e-01,  4.800e-01,\n",
       "         1.253e+00,  1.026e+00,  7.990e-01,  5.720e-01,  1.345e+00,\n",
       "         2.118e+00,  2.891e+00,  2.664e+00,  3.437e+00,  4.210e+00,\n",
       "         3.983e+00,  3.756e+00,  3.529e+00,  3.302e+00,  4.075e+00,\n",
       "         3.848e+00,  3.621e+00,  3.394e+00,  4.167e+00,  4.940e+00,\n",
       "         4.713e+00,  4.486e+00,  5.259e+00,  6.032e+00,  5.805e+00,\n",
       "         5.578e+00,  5.351e+00,  5.124e+00,  4.897e+00,  4.670e+00,\n",
       "         4.443e+00,  4.216e+00,  3.989e+00,  3.762e+00,  4.535e+00,\n",
       "         5.308e+00,  5.081e+00,  4.854e+00,  4.627e+00,  4.400e+00]])"
      ]
     },
     "metadata": {},
     "execution_count": 30
    }
   ],
   "metadata": {}
  }
 ]
}