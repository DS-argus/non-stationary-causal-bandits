{
 "metadata": {
  "language_info": {
   "codemirror_mode": {
    "name": "ipython",
    "version": 3
   },
   "file_extension": ".py",
   "mimetype": "text/x-python",
   "name": "python",
   "nbconvert_exporter": "python",
   "pygments_lexer": "ipython3",
   "version": "3.9.6"
  },
  "orig_nbformat": 2,
  "kernelspec": {
   "name": "python3",
   "display_name": "Python 3.9.6 64-bit ('mab': conda)"
  },
  "interpreter": {
   "hash": "67d6b807cd86a3d17ff383503c76e307eea34f9fd26201f30df1f67466e5318b"
  }
 },
 "nbformat": 4,
 "nbformat_minor": 2,
 "cells": [
  {
   "cell_type": "markdown",
   "source": [
    "# Non-stationary [SCM-MAB](https://papers.nips.cc/paper/2018/hash/c0a271bc0ecb776a094786474322cb82-Abstract.html)\n",
    "\n",
    "- Need to allow for prior on causal effects (--> Bayesian MAB)\n",
    "- Non-stationary Bayesian structural causal MAB\n",
    "    - Non-stationary because the reward statistics changes across time\n",
    "    - Bayesian because we have a prior on the reward distribution\n",
    "    - Structural because we are aware of the causal structure of the reward distribution \n",
    "\n",
    "## Stationarity assumptions of standard MAB algorithms\n",
    "\n",
    "- Thompson Sampling (Thompson, 1933), UCB and epsilon-greedy assume that the rewards are i.i.d. samples from stationary distributions (Allesiardo et al., 2017), thus are not suitable for the (DBN-like underyling CGM) application.\n",
    "- The EXP3 (Auer et al., 2002b) MAB algorithm makes comparatively fewer assumptions on reward distributions and can deal with the general setting of adversarially-defined rewards. The general adversarial bandit setting is important for our application as it enables the MAB to handle the non-stationary nature of the rewards observed during the optimisation (Allesiardo et al., 2017).\n",
    "\n",
    "## Considerations\n",
    "\n",
    "- Appears to be a so-called 'restless bandit problem'\n",
    "- _Sometimes_ we have observational data, so we have a strong prior on the reward distribution\n",
    "- We are doing inference on the reward distribution (exploring it) whilst playing the game, this means we are dealing with NS-MAB.\n",
    "- At the start of the game, all we have is a prior on the reward distribution (one for each exploration set) but as we play the game, we collect more observations, update our prior, and then continue the game until we find the best arm. \n",
    "    - **CONTINUOUS CAUSAL EFFECTS** As we play the game, BO will tell us _where_ on the selected arm to explore"
   ],
   "metadata": {}
  },
  {
   "cell_type": "code",
   "execution_count": 24,
   "source": [
    "%load_ext autoreload\n",
    "%autoreload 2\n",
    "import numpy as np\n",
    "import sys\n",
    "sys.path.append(\"..\")\n",
    "sys.path.append(\"../src\")"
   ],
   "outputs": [
    {
     "output_type": "stream",
     "name": "stdout",
     "text": [
      "The autoreload extension is already loaded. To reload it, use:\n",
      "  %reload_ext autoreload\n"
     ]
    }
   ],
   "metadata": {}
  },
  {
   "cell_type": "code",
   "execution_count": 25,
   "source": [
    "from src.utils.dag_utils.graph_functions import make_graphical_model, make_networkx_object, get_time_slice_sub_graphs, make_time_slice_causal_diagrams"
   ],
   "outputs": [],
   "metadata": {}
  },
  {
   "cell_type": "code",
   "execution_count": 26,
   "source": [
    "from npsem.utils import subseq\n",
    "from npsem.NIPS2018POMIS_exp.scm_examples import IV_SCM\n",
    "from npsem.scm_bandits import SCM_to_bandit_machine, arms_of \n",
    "from npsem.bandits import play_bandits\n",
    "from itertools import product"
   ],
   "outputs": [],
   "metadata": {}
  },
  {
   "cell_type": "markdown",
   "source": [
    "# Non-stationary SCM-MAB as piece-wise stationary SCM-MAB \n",
    "\n",
    "SCM-MAB will be run on the DAG in each time-slice (which could change across time). The reward distribution will change as we step through the graph, from left to right.\n",
    "\n",
    "- We start with a DAG in which the connectivity is the same across time and then add complexity when it works."
   ],
   "metadata": {}
  },
  {
   "cell_type": "code",
   "execution_count": 27,
   "source": [
    "node_info = {\"Z\": {\"type\": \"manipulative\", \"domain\": (0,1)},\n",
    "             \"X\": {\"type\": \"manipulative\", \"domain\": (0,1)},\n",
    "             \"Y\": {\"type\": \"manipulative\", \"domain\": (-1,1)},\n",
    "                \"U\" : {\"type\": \"confounder\"}}\n",
    "# Constructor for adding unobserved confounder to graph\n",
    "# XXX: this construction allows us to model situations in which confounding varibles appear and disappear across time-steps\n",
    "conf_info = {0: (\"X\",\"Y\"), 1:  (\"X\",\"Y\"), 2:  (\"X\",\"Y\")}"
   ],
   "outputs": [],
   "metadata": {}
  },
  {
   "cell_type": "code",
   "execution_count": 6,
   "source": [
    "from itertools import cycle, chain\n",
    "time_slice_edges = []\n",
    "ranking = []\n",
    "# Get manipulative nodes\n",
    "nodes = [key for key in node_info.keys() if node_info[key][\"type\"] != \"confounder\"]\n",
    "node_count = len(nodes)\n",
    "connections = (node_count - 1) * \"{}_{} -> {}_{}; \"\n",
    "edge_pairs = [item for pair in list(zip(nodes, nodes[1:])) for item in pair]\n",
    "\n",
    "print(edge_pairs)\n",
    "\n",
    "pair_count = len(edge_pairs)\n",
    "\n",
    "for t in range(0, 2+ 1):\n",
    "    space_idx = pair_count * [t]\n",
    "    iters = [iter(edge_pairs), iter(space_idx)]\n",
    "    inserts = list(chain(map(next, cycle(iters)), *iters))\n",
    "    time_slice_edges.append(connections.format(*inserts))\n",
    "    ranking.append(\"{{ rank=same; {} }} \".format(\" \".join([item + \"_{}\".format(t) for item in nodes])))\n",
    "\n",
    "print(time_slice_edges)\n",
    "print(ranking)"
   ],
   "outputs": [
    {
     "output_type": "stream",
     "name": "stdout",
     "text": [
      "['Z', 'X', 'X', 'Y']\n",
      "['Z_0 -> X_0; X_0 -> Y_0; ', 'Z_1 -> X_1; X_1 -> Y_1; ', 'Z_2 -> X_2; X_2 -> Y_2; ']\n",
      "['{ rank=same; Z_0 X_0 Y_0 } ', '{ rank=same; Z_1 X_1 Y_1 } ', '{ rank=same; Z_2 X_2 Y_2 } ']\n"
     ]
    }
   ],
   "metadata": {}
  },
  {
   "cell_type": "code",
   "execution_count": 14,
   "source": [
    "connections = node_count * \"{}_{} -> {}_{}; \"\n",
    "print(connections)\n",
    "edge_pairs = len(nodes)*[\"U\"] + nodes\n",
    "pair_count = len(edge_pairs)\n",
    "edge_pairs"
   ],
   "outputs": [
    {
     "output_type": "stream",
     "name": "stdout",
     "text": [
      "{}_{} -> {}_{}; {}_{} -> {}_{}; {}_{} -> {}_{}; \n"
     ]
    },
    {
     "output_type": "execute_result",
     "data": {
      "text/plain": [
       "['U', 'U', 'U', 'Z', 'X', 'Y']"
      ]
     },
     "metadata": {},
     "execution_count": 14
    }
   ],
   "metadata": {}
  },
  {
   "cell_type": "code",
   "execution_count": 44,
   "source": [
    "l1 = 3*['U']\n",
    "l2 = nodes\n",
    "l3 = 3*['0']\n",
    "l4 = [val for pair in zip(l1, l2) for val in pair]\n",
    "l5 = [val for pair in zip(l2, l3) for val in pair]\n",
    "print(l5)"
   ],
   "outputs": [
    {
     "output_type": "stream",
     "name": "stdout",
     "text": [
      "['Z', '0', 'X', '0', 'Y', '0']\n"
     ]
    }
   ],
   "metadata": {}
  },
  {
   "cell_type": "code",
   "execution_count": 57,
   "source": [
    "B"
   ],
   "outputs": [
    {
     "output_type": "execute_result",
     "data": {
      "text/plain": [
       "['Z_0', 'X_0', 'Y_0']"
      ]
     },
     "metadata": {},
     "execution_count": 57
    }
   ],
   "metadata": {}
  },
  {
   "cell_type": "code",
   "execution_count": 52,
   "source": [
    "A = ['_'.join(x) for x in zip(l4[0::2], l4[1::2])]\n",
    "B = ['_'.join(x) for x in zip(l5[0::2], l5[1::2])]\n",
    "C = [\"U_{}\".format(i) for i in B]\n",
    "connections = 3 * \"{} -> {}; \"\n",
    "print(connections)\n",
    "connections.format(*[val for pair in zip(C,B) for val in pair])"
   ],
   "outputs": [
    {
     "output_type": "stream",
     "name": "stdout",
     "text": [
      "{} -> {}; {} -> {}; {} -> {}; \n"
     ]
    },
    {
     "output_type": "execute_result",
     "data": {
      "text/plain": [
       "'U_Z_0 -> Z_0; U_X_0 -> X_0; U_Y_0 -> Y_0; '"
      ]
     },
     "metadata": {},
     "execution_count": 52
    }
   ],
   "metadata": {}
  },
  {
   "cell_type": "code",
   "execution_count": 51,
   "source": [
    "A"
   ],
   "outputs": [
    {
     "output_type": "execute_result",
     "data": {
      "text/plain": [
       "['U_Z', 'U_X', 'U_Y']"
      ]
     },
     "metadata": {},
     "execution_count": 51
    }
   ],
   "metadata": {}
  },
  {
   "cell_type": "code",
   "execution_count": 41,
   "source": [
    "background_edges = []\n",
    "ranking = []\n",
    "connections = 3 * \"{} -> {}; \"\n",
    "l4 = [val for pair in zip(l1, l2) for val in pair]\n",
    "A = ['_'.join(x) for x in zip(l4[0::2], l4[1::2])]\n",
    "for t in range(0, 2+ 1):\n",
    "    l5 = [val for pair in zip(l2, 3*[str(t)]) for val in pair]\n",
    "    B = ['_'.join(x) for x in zip(l5[0::2], l5[1::2])]\n",
    "    background_edges.append(connections.format(*[val for pair in zip(A,B) for val in pair]))\n",
    "    ranking.append(\"{{ rank=same; {} }} \".format(\" \".join(A)))\n",
    "\n",
    "print(\"\".join(time_slice_edges))\n",
    "print(ranking)"
   ],
   "outputs": [
    {
     "output_type": "stream",
     "name": "stdout",
     "text": [
      "U_Z -> Z_0; U_X -> X_0; U_Y -> Y_0; U_Z -> Z_1; U_X -> X_1; U_Y -> Y_1; U_Z -> Z_2; U_X -> X_2; U_Y -> Y_2; \n",
      "['{ rank=same; U_Z U_X U_Y } ', '{ rank=same; U_Z U_X U_Y } ', '{ rank=same; U_Z U_X U_Y } ']\n"
     ]
    }
   ],
   "metadata": {}
  },
  {
   "cell_type": "code",
   "execution_count": 40,
   "source": [
    "T = 3\n",
    "graph_view = make_graphical_model(0,\n",
    "T-1,\n",
    "topology='dependent',\n",
    "target_node='Y',\n",
    "node_information= node_info,\n",
    "confounder_info=conf_info,\n",
    "verbose=True)\n",
    "graph_view"
   ],
   "outputs": [
    {
     "output_type": "execute_result",
     "data": {
      "text/plain": [
       "<graphviz.files.Source at 0x7fb7084b11f0>"
      ],
      "image/svg+xml": "<?xml version=\"1.0\" encoding=\"UTF-8\" standalone=\"no\"?>\n<!DOCTYPE svg PUBLIC \"-//W3C//DTD SVG 1.1//EN\"\n \"http://www.w3.org/Graphics/SVG/1.1/DTD/svg11.dtd\">\n<!-- Generated by graphviz version 2.44.0 (20200408.0750)\n -->\n<!-- Pages: 1 -->\n<svg width=\"729pt\" height=\"559pt\"\n viewBox=\"0.00 0.00 728.90 559.00\" xmlns=\"http://www.w3.org/2000/svg\" xmlns:xlink=\"http://www.w3.org/1999/xlink\">\n<g id=\"graph0\" class=\"graph\" transform=\"scale(1 1) rotate(0) translate(4 555)\">\n<polygon fill=\"white\" stroke=\"transparent\" points=\"-4,4 -4,-555 724.9,-555 724.9,4 -4,4\"/>\n<!-- Z_0 -->\n<g id=\"node1\" class=\"node\">\n<title>Z_0</title>\n<ellipse fill=\"none\" stroke=\"black\" cx=\"161.9\" cy=\"-487\" rx=\"27\" ry=\"18\"/>\n<text text-anchor=\"middle\" x=\"161.9\" y=\"-483.3\" font-family=\"Times,serif\" font-size=\"14.00\">Z_0</text>\n</g>\n<!-- X_0 -->\n<g id=\"node2\" class=\"node\">\n<title>X_0</title>\n<ellipse fill=\"none\" stroke=\"black\" cx=\"294.9\" cy=\"-449\" rx=\"27\" ry=\"18\"/>\n<text text-anchor=\"middle\" x=\"294.9\" y=\"-445.3\" font-family=\"Times,serif\" font-size=\"14.00\">X_0</text>\n</g>\n<!-- Z_0&#45;&gt;X_0 -->\n<g id=\"edge1\" class=\"edge\">\n<title>Z_0&#45;&gt;X_0</title>\n<path fill=\"none\" stroke=\"black\" d=\"M186.92,-480.03C207.38,-474.09 237.02,-465.5 259.91,-458.86\"/>\n<polygon fill=\"black\" stroke=\"black\" points=\"260.95,-462.2 269.58,-456.05 259,-455.48 260.95,-462.2\"/>\n</g>\n<!-- Z_1 -->\n<g id=\"node4\" class=\"node\">\n<title>Z_1</title>\n<ellipse fill=\"none\" stroke=\"black\" cx=\"294.9\" cy=\"-503\" rx=\"27\" ry=\"18\"/>\n<text text-anchor=\"middle\" x=\"294.9\" y=\"-499.3\" font-family=\"Times,serif\" font-size=\"14.00\">Z_1</text>\n</g>\n<!-- Z_0&#45;&gt;Z_1 -->\n<g id=\"edge22\" class=\"edge\">\n<title>Z_0&#45;&gt;Z_1</title>\n<path fill=\"none\" stroke=\"black\" d=\"M188.78,-490.16C208.6,-492.58 236.19,-495.95 258.12,-498.63\"/>\n<polygon fill=\"black\" stroke=\"black\" points=\"257.72,-502.11 268.07,-499.85 258.57,-495.16 257.72,-502.11\"/>\n</g>\n<!-- Y_0 -->\n<g id=\"node3\" class=\"node\">\n<title>Y_0</title>\n<ellipse fill=\"none\" stroke=\"black\" cx=\"427.9\" cy=\"-205\" rx=\"27\" ry=\"18\"/>\n<text text-anchor=\"middle\" x=\"427.9\" y=\"-201.3\" font-family=\"Times,serif\" font-size=\"14.00\">Y_0</text>\n</g>\n<!-- X_0&#45;&gt;Y_0 -->\n<g id=\"edge2\" class=\"edge\">\n<title>X_0&#45;&gt;Y_0</title>\n<path fill=\"none\" stroke=\"black\" d=\"M304.9,-432.23C327.38,-390.35 386.1,-280.98 413.04,-230.82\"/>\n<polygon fill=\"black\" stroke=\"black\" points=\"416.18,-232.35 417.83,-221.89 410.01,-229.04 416.18,-232.35\"/>\n</g>\n<!-- X_1 -->\n<g id=\"node5\" class=\"node\">\n<title>X_1</title>\n<ellipse fill=\"none\" stroke=\"black\" cx=\"427.9\" cy=\"-335\" rx=\"27\" ry=\"18\"/>\n<text text-anchor=\"middle\" x=\"427.9\" y=\"-331.3\" font-family=\"Times,serif\" font-size=\"14.00\">X_1</text>\n</g>\n<!-- X_0&#45;&gt;X_1 -->\n<g id=\"edge23\" class=\"edge\">\n<title>X_0&#45;&gt;X_1</title>\n<path fill=\"none\" stroke=\"black\" d=\"M311.96,-435.02C334.74,-415.19 376.61,-378.76 403.03,-355.76\"/>\n<polygon fill=\"black\" stroke=\"black\" points=\"405.45,-358.3 410.7,-349.09 400.86,-353.02 405.45,-358.3\"/>\n</g>\n<!-- Y_1 -->\n<g id=\"node6\" class=\"node\">\n<title>Y_1</title>\n<ellipse fill=\"none\" stroke=\"black\" cx=\"560.9\" cy=\"-205\" rx=\"27\" ry=\"18\"/>\n<text text-anchor=\"middle\" x=\"560.9\" y=\"-201.3\" font-family=\"Times,serif\" font-size=\"14.00\">Y_1</text>\n</g>\n<!-- Y_0&#45;&gt;Y_1 -->\n<g id=\"edge24\" class=\"edge\">\n<title>Y_0&#45;&gt;Y_1</title>\n<path fill=\"none\" stroke=\"black\" d=\"M455.09,-205C474.72,-205 501.84,-205 523.57,-205\"/>\n<polygon fill=\"black\" stroke=\"black\" points=\"523.75,-208.5 533.75,-205 523.75,-201.5 523.75,-208.5\"/>\n</g>\n<!-- Z_1&#45;&gt;X_1 -->\n<g id=\"edge3\" class=\"edge\">\n<title>Z_1&#45;&gt;X_1</title>\n<path fill=\"none\" stroke=\"black\" d=\"M310.82,-488.18C314.54,-484.3 318.44,-480.07 321.9,-476 355.17,-436.76 390.15,-388.06 410.16,-359.38\"/>\n<polygon fill=\"black\" stroke=\"black\" points=\"413.04,-361.36 415.87,-351.15 407.29,-357.37 413.04,-361.36\"/>\n</g>\n<!-- Z_2 -->\n<g id=\"node7\" class=\"node\">\n<title>Z_2</title>\n<ellipse fill=\"none\" stroke=\"black\" cx=\"427.9\" cy=\"-503\" rx=\"27\" ry=\"18\"/>\n<text text-anchor=\"middle\" x=\"427.9\" y=\"-499.3\" font-family=\"Times,serif\" font-size=\"14.00\">Z_2</text>\n</g>\n<!-- Z_1&#45;&gt;Z_2 -->\n<g id=\"edge25\" class=\"edge\">\n<title>Z_1&#45;&gt;Z_2</title>\n<path fill=\"none\" stroke=\"black\" d=\"M322.09,-503C341.72,-503 368.84,-503 390.57,-503\"/>\n<polygon fill=\"black\" stroke=\"black\" points=\"390.75,-506.5 400.75,-503 390.75,-499.5 390.75,-506.5\"/>\n</g>\n<!-- X_1&#45;&gt;Y_1 -->\n<g id=\"edge4\" class=\"edge\">\n<title>X_1&#45;&gt;Y_1</title>\n<path fill=\"none\" stroke=\"black\" d=\"M443.67,-320.34C466.57,-297.62 510.78,-253.74 537.58,-227.14\"/>\n<polygon fill=\"black\" stroke=\"black\" points=\"540.34,-229.33 544.98,-219.81 535.41,-224.37 540.34,-229.33\"/>\n</g>\n<!-- X_2 -->\n<g id=\"node8\" class=\"node\">\n<title>X_2</title>\n<ellipse fill=\"none\" stroke=\"black\" cx=\"560.9\" cy=\"-312\" rx=\"27\" ry=\"18\"/>\n<text text-anchor=\"middle\" x=\"560.9\" y=\"-308.3\" font-family=\"Times,serif\" font-size=\"14.00\">X_2</text>\n</g>\n<!-- X_1&#45;&gt;X_2 -->\n<g id=\"edge26\" class=\"edge\">\n<title>X_1&#45;&gt;X_2</title>\n<path fill=\"none\" stroke=\"black\" d=\"M454.15,-330.57C474.18,-327.05 502.4,-322.09 524.65,-318.19\"/>\n<polygon fill=\"black\" stroke=\"black\" points=\"525.47,-321.6 534.71,-316.42 524.26,-314.7 525.47,-321.6\"/>\n</g>\n<!-- Y_2 -->\n<g id=\"node9\" class=\"node\">\n<title>Y_2</title>\n<ellipse fill=\"none\" stroke=\"black\" cx=\"693.9\" cy=\"-205\" rx=\"27\" ry=\"18\"/>\n<text text-anchor=\"middle\" x=\"693.9\" y=\"-201.3\" font-family=\"Times,serif\" font-size=\"14.00\">Y_2</text>\n</g>\n<!-- Y_1&#45;&gt;Y_2 -->\n<g id=\"edge27\" class=\"edge\">\n<title>Y_1&#45;&gt;Y_2</title>\n<path fill=\"none\" stroke=\"black\" d=\"M588.09,-205C607.72,-205 634.84,-205 656.57,-205\"/>\n<polygon fill=\"black\" stroke=\"black\" points=\"656.75,-208.5 666.75,-205 656.75,-201.5 656.75,-208.5\"/>\n</g>\n<!-- Z_2&#45;&gt;X_2 -->\n<g id=\"edge5\" class=\"edge\">\n<title>Z_2&#45;&gt;X_2</title>\n<path fill=\"none\" stroke=\"black\" d=\"M440.06,-486.72C463.07,-453.17 515.87,-376.18 543.05,-336.56\"/>\n<polygon fill=\"black\" stroke=\"black\" points=\"545.98,-338.47 548.75,-328.24 540.21,-334.51 545.98,-338.47\"/>\n</g>\n<!-- X_2&#45;&gt;Y_2 -->\n<g id=\"edge6\" class=\"edge\">\n<title>X_2&#45;&gt;Y_2</title>\n<path fill=\"none\" stroke=\"black\" d=\"M578.75,-298.23C601.45,-279.69 642,-246.57 668.16,-225.21\"/>\n<polygon fill=\"black\" stroke=\"black\" points=\"670.57,-227.75 676.1,-218.72 666.14,-222.33 670.57,-227.75\"/>\n</g>\n<!-- U_0 -->\n<g id=\"node10\" class=\"node\">\n<title>U_0</title>\n<ellipse fill=\"none\" stroke=\"black\" cx=\"27.95\" cy=\"-18\" rx=\"27\" ry=\"18\"/>\n<text text-anchor=\"middle\" x=\"27.95\" y=\"-14.3\" font-family=\"Times,serif\" font-size=\"14.00\">U_0</text>\n</g>\n<!-- U_0&#45;&gt;X_0 -->\n<g id=\"edge7\" class=\"edge\">\n<title>U_0&#45;&gt;X_0</title>\n<path fill=\"none\" stroke=\"red\" stroke-dasharray=\"5,2\" d=\"M40.75,-34.09C45.56,-40.79 51.1,-48.7 55.9,-56 144.97,-191.75 242.86,-360.09 279.23,-423.36\"/>\n<polygon fill=\"red\" stroke=\"red\" points=\"276.33,-425.33 284.34,-432.26 282.4,-421.85 276.33,-425.33\"/>\n</g>\n<!-- U_0&#45;&gt;Y_0 -->\n<g id=\"edge8\" class=\"edge\">\n<title>U_0&#45;&gt;Y_0</title>\n<path fill=\"none\" stroke=\"red\" stroke-dasharray=\"5,2\" d=\"M50.76,-27.63C99.6,-49.28 221.34,-103.65 321.9,-152 347.43,-164.28 376.13,-178.82 397.06,-189.56\"/>\n<polygon fill=\"red\" stroke=\"red\" points=\"395.6,-192.74 406.09,-194.2 398.8,-186.52 395.6,-192.74\"/>\n</g>\n<!-- U_1 -->\n<g id=\"node11\" class=\"node\">\n<title>U_1</title>\n<ellipse fill=\"none\" stroke=\"black\" cx=\"27.95\" cy=\"-460\" rx=\"27\" ry=\"18\"/>\n<text text-anchor=\"middle\" x=\"27.95\" y=\"-456.3\" font-family=\"Times,serif\" font-size=\"14.00\">U_1</text>\n</g>\n<!-- U_1&#45;&gt;X_1 -->\n<g id=\"edge9\" class=\"edge\">\n<title>U_1&#45;&gt;X_1</title>\n<path fill=\"none\" stroke=\"red\" stroke-dasharray=\"5,2\" d=\"M53.6,-454.38C104.43,-442.54 224.31,-413.25 321.9,-379 347.17,-370.13 375.12,-358.32 395.82,-349.17\"/>\n<polygon fill=\"red\" stroke=\"red\" points=\"397.36,-352.31 405.07,-345.04 394.51,-345.92 397.36,-352.31\"/>\n</g>\n<!-- U_1&#45;&gt;Y_1 -->\n<g id=\"edge10\" class=\"edge\">\n<title>U_1&#45;&gt;Y_1</title>\n<path fill=\"none\" stroke=\"red\" stroke-dasharray=\"5,2\" d=\"M50.42,-449.69C133.23,-409.92 432.06,-266.4 529.17,-219.75\"/>\n<polygon fill=\"red\" stroke=\"red\" points=\"530.95,-222.78 538.45,-215.3 527.92,-216.47 530.95,-222.78\"/>\n</g>\n<!-- U_2 -->\n<g id=\"node12\" class=\"node\">\n<title>U_2</title>\n<ellipse fill=\"none\" stroke=\"black\" cx=\"27.95\" cy=\"-262\" rx=\"27\" ry=\"18\"/>\n<text text-anchor=\"middle\" x=\"27.95\" y=\"-258.3\" font-family=\"Times,serif\" font-size=\"14.00\">U_2</text>\n</g>\n<!-- U_2&#45;&gt;X_2 -->\n<g id=\"edge11\" class=\"edge\">\n<title>U_2&#45;&gt;X_2</title>\n<path fill=\"none\" stroke=\"red\" stroke-dasharray=\"5,2\" d=\"M53.33,-255.42C138.29,-232.73 418.17,-160.12 454.9,-178 500.65,-200.28 532.36,-253.21 548.21,-285.48\"/>\n<polygon fill=\"red\" stroke=\"red\" points=\"545.18,-287.24 552.62,-294.77 551.5,-284.24 545.18,-287.24\"/>\n</g>\n<!-- U_2&#45;&gt;Y_2 -->\n<g id=\"edge12\" class=\"edge\">\n<title>U_2&#45;&gt;Y_2</title>\n<path fill=\"none\" stroke=\"red\" stroke-dasharray=\"5,2\" d=\"M50.43,-251.52C71.53,-241.56 104.84,-226.68 134.9,-217 327.23,-155.02 388.15,-147.38 587.9,-178 612.09,-181.71 638.79,-188.62 659.22,-194.52\"/>\n<polygon fill=\"red\" stroke=\"red\" points=\"658.41,-197.93 668.99,-197.4 660.39,-191.21 658.41,-197.93\"/>\n</g>\n<!-- U_Z -->\n<g id=\"node13\" class=\"node\">\n<title>U_Z</title>\n<ellipse fill=\"none\" stroke=\"black\" cx=\"27.95\" cy=\"-533\" rx=\"27\" ry=\"18\"/>\n<text text-anchor=\"middle\" x=\"27.95\" y=\"-529.3\" font-family=\"Times,serif\" font-size=\"14.00\">U_Z</text>\n</g>\n<!-- U_Z&#45;&gt;Z_0 -->\n<g id=\"edge13\" class=\"edge\">\n<title>U_Z&#45;&gt;Z_0</title>\n<path fill=\"none\" stroke=\"black\" stroke-dasharray=\"5,2\" d=\"M52.23,-524.88C73.21,-517.57 104.27,-506.74 127.82,-498.53\"/>\n<polygon fill=\"black\" stroke=\"black\" points=\"129.11,-501.79 137.4,-495.19 126.8,-495.18 129.11,-501.79\"/>\n</g>\n<!-- U_Z&#45;&gt;Z_1 -->\n<g id=\"edge16\" class=\"edge\">\n<title>U_Z&#45;&gt;Z_1</title>\n<path fill=\"none\" stroke=\"black\" stroke-dasharray=\"5,2\" d=\"M54.83,-530.07C102.32,-524.69 203.45,-513.24 257.71,-507.1\"/>\n<polygon fill=\"black\" stroke=\"black\" points=\"258.36,-510.55 267.9,-505.94 257.57,-503.59 258.36,-510.55\"/>\n</g>\n<!-- U_Z&#45;&gt;Z_2 -->\n<g id=\"edge19\" class=\"edge\">\n<title>U_Z&#45;&gt;Z_2</title>\n<path fill=\"none\" stroke=\"black\" stroke-dasharray=\"5,2\" d=\"M54.96,-534.87C106.29,-538.08 224.1,-543.12 321.9,-530 346.31,-526.72 373.21,-519.74 393.67,-513.7\"/>\n<polygon fill=\"black\" stroke=\"black\" points=\"394.89,-516.98 403.44,-510.74 392.86,-510.28 394.89,-516.98\"/>\n</g>\n<!-- U_X -->\n<g id=\"node14\" class=\"node\">\n<title>U_X</title>\n<ellipse fill=\"none\" stroke=\"black\" cx=\"27.95\" cy=\"-327\" rx=\"27.9\" ry=\"18\"/>\n<text text-anchor=\"middle\" x=\"27.95\" y=\"-323.3\" font-family=\"Times,serif\" font-size=\"14.00\">U_X</text>\n</g>\n<!-- U_X&#45;&gt;X_0 -->\n<g id=\"edge14\" class=\"edge\">\n<title>U_X&#45;&gt;X_0</title>\n<path fill=\"none\" stroke=\"black\" stroke-dasharray=\"5,2\" d=\"M51.08,-337.19C98.25,-358.91 208.75,-409.79 262.89,-434.73\"/>\n<polygon fill=\"black\" stroke=\"black\" points=\"261.46,-437.92 272.01,-438.92 264.39,-431.56 261.46,-437.92\"/>\n</g>\n<!-- U_X&#45;&gt;X_1 -->\n<g id=\"edge17\" class=\"edge\">\n<title>U_X&#45;&gt;X_1</title>\n<path fill=\"none\" stroke=\"black\" stroke-dasharray=\"5,2\" d=\"M55.99,-327.54C125.66,-328.94 311.37,-332.68 390.43,-334.27\"/>\n<polygon fill=\"black\" stroke=\"black\" points=\"390.79,-337.77 400.86,-334.48 390.93,-330.78 390.79,-337.77\"/>\n</g>\n<!-- U_X&#45;&gt;X_2 -->\n<g id=\"edge20\" class=\"edge\">\n<title>U_X&#45;&gt;X_2</title>\n<path fill=\"none\" stroke=\"black\" stroke-dasharray=\"5,2\" d=\"M55.84,-324.61C123.08,-318.9 303.92,-305.13 454.9,-308 477.73,-308.43 503.34,-309.4 523.55,-310.27\"/>\n<polygon fill=\"black\" stroke=\"black\" points=\"523.44,-313.77 533.58,-310.72 523.75,-306.78 523.44,-313.77\"/>\n</g>\n<!-- U_Y -->\n<g id=\"node15\" class=\"node\">\n<title>U_Y</title>\n<ellipse fill=\"none\" stroke=\"black\" cx=\"27.95\" cy=\"-83\" rx=\"27.9\" ry=\"18\"/>\n<text text-anchor=\"middle\" x=\"27.95\" y=\"-79.3\" font-family=\"Times,serif\" font-size=\"14.00\">U_Y</text>\n</g>\n<!-- U_Y&#45;&gt;Y_0 -->\n<g id=\"edge15\" class=\"edge\">\n<title>U_Y&#45;&gt;Y_0</title>\n<path fill=\"none\" stroke=\"black\" stroke-dasharray=\"5,2\" d=\"M53.54,-90.54C121.98,-111.52 314.75,-170.62 393.13,-194.65\"/>\n<polygon fill=\"black\" stroke=\"black\" points=\"392.38,-198.08 402.97,-197.67 394.44,-191.39 392.38,-198.08\"/>\n</g>\n<!-- U_Y&#45;&gt;Y_1 -->\n<g id=\"edge18\" class=\"edge\">\n<title>U_Y&#45;&gt;Y_1</title>\n<path fill=\"none\" stroke=\"black\" stroke-dasharray=\"5,2\" d=\"M55.14,-87.25C122.24,-98.37 305.53,-130.35 454.9,-171 479.36,-177.66 506.6,-186.52 527.19,-193.53\"/>\n<polygon fill=\"black\" stroke=\"black\" points=\"526.14,-196.86 536.73,-196.8 528.41,-190.24 526.14,-196.86\"/>\n</g>\n<!-- U_Y&#45;&gt;Y_2 -->\n<g id=\"edge21\" class=\"edge\">\n<title>U_Y&#45;&gt;Y_2</title>\n<path fill=\"none\" stroke=\"black\" stroke-dasharray=\"5,2\" d=\"M54.35,-76.89C101.34,-66.15 205.14,-45 293.9,-45 293.9,-45 293.9,-45 428.9,-45 533.3,-45 631.68,-137.65 672.75,-181.94\"/>\n<polygon fill=\"black\" stroke=\"black\" points=\"670.19,-184.33 679.51,-189.37 675.37,-179.62 670.19,-184.33\"/>\n</g>\n</g>\n</svg>\n"
     },
     "metadata": {},
     "execution_count": 40
    }
   ],
   "metadata": {}
  },
  {
   "cell_type": "code",
   "execution_count": 86,
   "source": [
    "node_info = {\n",
    "    # Endogenous\n",
    "    \"Z\": {\"type\": \"manipulative\", \"domain\": (0, 1)},\n",
    "    \"X\": {\"type\": \"manipulative\", \"domain\": (0, 1)},\n",
    "    \"Y\": {\"type\": \"manipulative\", \"domain\": (0, 1)},\n",
    "    # Exogenous\n",
    "    \"U_Z\": {\"type\": \"background\", \"domain\": (0, 1)},\n",
    "    \"U_X\": {\"type\": \"background\", \"domain\": (0, 1)},\n",
    "    \"U_Y\": {\"type\": \"background\", \"domain\": (0, 1)},\n",
    "    \"U_XY\": {\"type\": \"confounder\", \"domain\": (0, 1)},\n",
    "}\n",
    "\n",
    "[node_info[node.split(\"_\")[0]] for node in G.nodes]"
   ],
   "outputs": [
    {
     "output_type": "error",
     "ename": "KeyError",
     "evalue": "'U'",
     "traceback": [
      "\u001b[0;31m---------------------------------------------------------------------------\u001b[0m",
      "\u001b[0;31mKeyError\u001b[0m                                  Traceback (most recent call last)",
      "\u001b[0;32m<ipython-input-86-39ddd3a70f2d>\u001b[0m in \u001b[0;36m<module>\u001b[0;34m\u001b[0m\n\u001b[1;32m     11\u001b[0m }\n\u001b[1;32m     12\u001b[0m \u001b[0;34m\u001b[0m\u001b[0m\n\u001b[0;32m---> 13\u001b[0;31m \u001b[0;34m[\u001b[0m\u001b[0mnode_info\u001b[0m\u001b[0;34m[\u001b[0m\u001b[0mnode\u001b[0m\u001b[0;34m.\u001b[0m\u001b[0msplit\u001b[0m\u001b[0;34m(\u001b[0m\u001b[0;34m\"_\"\u001b[0m\u001b[0;34m)\u001b[0m\u001b[0;34m[\u001b[0m\u001b[0;36m0\u001b[0m\u001b[0;34m]\u001b[0m\u001b[0;34m]\u001b[0m \u001b[0;32mfor\u001b[0m \u001b[0mnode\u001b[0m \u001b[0;32min\u001b[0m \u001b[0mG\u001b[0m\u001b[0;34m.\u001b[0m\u001b[0mnodes\u001b[0m\u001b[0;34m]\u001b[0m\u001b[0;34m\u001b[0m\u001b[0;34m\u001b[0m\u001b[0m\n\u001b[0m",
      "\u001b[0;32m<ipython-input-86-39ddd3a70f2d>\u001b[0m in \u001b[0;36m<listcomp>\u001b[0;34m(.0)\u001b[0m\n\u001b[1;32m     11\u001b[0m }\n\u001b[1;32m     12\u001b[0m \u001b[0;34m\u001b[0m\u001b[0m\n\u001b[0;32m---> 13\u001b[0;31m \u001b[0;34m[\u001b[0m\u001b[0mnode_info\u001b[0m\u001b[0;34m[\u001b[0m\u001b[0mnode\u001b[0m\u001b[0;34m.\u001b[0m\u001b[0msplit\u001b[0m\u001b[0;34m(\u001b[0m\u001b[0;34m\"_\"\u001b[0m\u001b[0;34m)\u001b[0m\u001b[0;34m[\u001b[0m\u001b[0;36m0\u001b[0m\u001b[0;34m]\u001b[0m\u001b[0;34m]\u001b[0m \u001b[0;32mfor\u001b[0m \u001b[0mnode\u001b[0m \u001b[0;32min\u001b[0m \u001b[0mG\u001b[0m\u001b[0;34m.\u001b[0m\u001b[0mnodes\u001b[0m\u001b[0;34m]\u001b[0m\u001b[0;34m\u001b[0m\u001b[0;34m\u001b[0m\u001b[0m\n\u001b[0m",
      "\u001b[0;31mKeyError\u001b[0m: 'U'"
     ]
    }
   ],
   "metadata": {}
  },
  {
   "cell_type": "code",
   "execution_count": 91,
   "source": [
    "graph_view.source"
   ],
   "outputs": [
    {
     "output_type": "execute_result",
     "data": {
      "text/plain": [
       "'digraph { rankdir=LR; ranksep=1.1; Z_0 -> X_0; X_0 -> Y_0; Z_1 -> X_1; X_1 -> Y_1; Z_2 -> X_2; X_2 -> Y_2; U_0 -> X_0 [style=dashed, color=red, constraint=false]; U_0 -> Y_0 [style=dashed, color=red, constraint=false]; U_1 -> X_1 [style=dashed, color=red, constraint=false]; U_1 -> Y_1 [style=dashed, color=red, constraint=false]; U_2 -> X_2 [style=dashed, color=red, constraint=false]; U_2 -> Y_2 [style=dashed, color=red, constraint=false];  Z_0 -> Z_1; X_0 -> X_1; Y_0 -> Y_1; Z_1 -> Z_2; X_1 -> X_2; Y_1 -> Y_2;  { rank=same; Z_0 X_0 Y_0  U_0} { rank=same; Z_1 X_1 Y_1  U_1} { rank=same; Z_2 X_2 Y_2  U_2}  }'"
      ]
     },
     "metadata": {},
     "execution_count": 91
    }
   ],
   "metadata": {}
  },
  {
   "cell_type": "code",
   "execution_count": 71,
   "source": [
    "# Contains all the sub-graphs per time-slice\n",
    "G = make_networkx_object(graph_view, node_info)\n",
    "# TODO: need to add assigned variable edges here but make sure that they are removed from the relevant node if that variable is intervened upon.\n",
    "gs = get_time_slice_sub_graphs(G,T)\n",
    "cds = make_time_slice_causal_diagrams(gs,node_info,uc_constructor)"
   ],
   "outputs": [],
   "metadata": {}
  },
  {
   "cell_type": "markdown",
   "source": [
    "## Explore SCM from fig 3"
   ],
   "metadata": {}
  },
  {
   "cell_type": "code",
   "execution_count": 37,
   "source": [
    "from scipy.stats import bernoulli as ber\n",
    "from src.examples.struct_eq_models import DynamicIVCD\n",
    "from itertools import product\n",
    "from collections import defaultdict\n",
    "from npsem.model import default_P_U\n",
    "from npsem.utils import combinations"
   ],
   "outputs": [],
   "metadata": {}
  },
  {
   "cell_type": "code",
   "execution_count": 9,
   "source": [
    "U = list(sorted({\"U_XY\"} | {\"U_X\", \"U_Z\", \"U_Y\"}))\n",
    "D = defaultdict(lambda: (0, 1))\n",
    "list(product(*[D[U_i] for U_i in U]))\n",
    "for u in product(*[D[U_i] for U_i in U]):\n",
    "    print(u)\n",
    "    assigned = dict(zip(U, u))\n",
    "    print(assigned)\n",
    "    break"
   ],
   "outputs": [
    {
     "output_type": "stream",
     "name": "stdout",
     "text": [
      "(0, 0, 0, 0)\n",
      "{'U_X': 0, 'U_XY': 0, 'U_Y': 0, 'U_Z': 0}\n"
     ]
    }
   ],
   "metadata": {}
  },
  {
   "cell_type": "code",
   "execution_count": 112,
   "source": [
    "SEM = DynamicIVCD()\n",
    "static = SEM.static()\n",
    "dynamic = SEM.dynamic(clamped={\"X\":0, 'Z':1, \"Y\":1})\n",
    "T = 2\n",
    "N = 3\n",
    "exo_vars = {\"U_Z\": ber.rvs(p=0.6, size=(N,T)), \"U_X\":ber.rvs(p=0.11, size=(N,T)), \"U_Y\":ber.rvs(p=0.15, size=(N,T)) ,\"U_XY\":ber.rvs(p=0.51, size=(N,T))}\n",
    "epsilon = np.random.randint(2, size=(N,T))\n",
    "sem_samples  = {k:np.empty((N,T), dtype='int') for k in static.keys()}\n",
    "samples = sem_samples | exo_vars"
   ],
   "outputs": [],
   "metadata": {}
  },
  {
   "cell_type": "code",
   "execution_count": 113,
   "source": [
    "epsilon = np.random.randint(2, size=(N,T))\n",
    "for t in range(T):\n",
    "    model = static if t == 0 else dynamic\n",
    "    for var, function in model.items():\n",
    "        #print(var, samples, epsilon, t)\n",
    "        samples[var][:,t] = function(samples, t)"
   ],
   "outputs": [],
   "metadata": {}
  },
  {
   "cell_type": "code",
   "execution_count": 119,
   "source": [
    "num_trial =1\n",
    "horizon = 20\n",
    "n_jobs = 2\n",
    "Y = \"Y\""
   ],
   "outputs": [],
   "metadata": {}
  },
  {
   "cell_type": "code",
   "execution_count": 105,
   "source": [
    "M, p_u = IV_SCM(devised=True,seed=0)\n",
    "mu, arm_setting = SCM_to_bandit_machine(M)"
   ],
   "outputs": [],
   "metadata": {}
  },
  {
   "cell_type": "code",
   "execution_count": 106,
   "source": [
    "arm_setting"
   ],
   "outputs": [
    {
     "output_type": "execute_result",
     "data": {
      "text/plain": [
       "{0: {},\n",
       " 1: {'X': 0},\n",
       " 2: {'X': 1},\n",
       " 3: {'Z': 0},\n",
       " 4: {'Z': 1},\n",
       " 5: {'X': 0, 'Z': 0},\n",
       " 6: {'X': 0, 'Z': 1},\n",
       " 7: {'X': 1, 'Z': 0},\n",
       " 8: {'X': 1, 'Z': 1}}"
      ]
     },
     "metadata": {},
     "execution_count": 106
    }
   ],
   "metadata": {}
  },
  {
   "cell_type": "code",
   "execution_count": 129,
   "source": [
    "arm_strategy = 'Brute-force'\n",
    "bandit_algo = 'TS'\n",
    "arm_selected = arms_of(arm_strategy, arm_setting, M.G, Y)\n",
    "arm_corrector = np.vectorize(lambda x: arm_selected[x])"
   ],
   "outputs": [],
   "metadata": {}
  },
  {
   "cell_type": "code",
   "execution_count": 127,
   "source": [
    "arm_played, rewards = play_bandits(horizon, subseq(mu, arm_selected), bandit_algo, num_trial, n_jobs)"
   ],
   "outputs": [
    {
     "output_type": "stream",
     "name": "stdout",
     "text": [
      "[Parallel(n_jobs=2)]: Using backend LokyBackend with 2 concurrent workers.\n",
      "[Parallel(n_jobs=2)]: Done   1 tasks      | elapsed:    0.8s\n",
      "[Parallel(n_jobs=2)]: Done   1 out of   1 | elapsed:    0.8s finished\n"
     ]
    }
   ],
   "metadata": {}
  },
  {
   "cell_type": "code",
   "execution_count": 130,
   "source": [
    "results = dict()\n",
    "results[(arm_strategy, bandit_algo)] = arm_corrector(arm_played), rewards"
   ],
   "outputs": [],
   "metadata": {}
  },
  {
   "cell_type": "code",
   "execution_count": 133,
   "source": [
    "arm_selected"
   ],
   "outputs": [
    {
     "output_type": "execute_result",
     "data": {
      "text/plain": [
       "(0, 1, 2, 3, 4, 5, 6, 7, 8)"
      ]
     },
     "metadata": {},
     "execution_count": 133
    }
   ],
   "metadata": {}
  },
  {
   "cell_type": "code",
   "execution_count": 134,
   "source": [
    "results"
   ],
   "outputs": [
    {
     "output_type": "execute_result",
     "data": {
      "text/plain": [
       "{('Brute-force',\n",
       "  'TS'): (array([[4, 5, 6, 0, 3, 3, 3, 7, 3, 8, 3, 8, 3, 8, 3, 3, 2, 6, 5, 3]]), array([[0., 0., 0., 0., 1., 1., 1., 0., 0., 1., 0., 0., 1., 0., 1., 1.,\n",
       "          1., 0., 0., 0.]]))}"
      ]
     },
     "metadata": {},
     "execution_count": 134
    }
   ],
   "metadata": {}
  },
  {
   "cell_type": "markdown",
   "source": [
    "# Test Non-Stationary (piece-wise stationary) SCM-MAB"
   ],
   "metadata": {}
  },
  {
   "cell_type": "code",
   "execution_count": 70,
   "source": [
    "from src.examples.example_setup import setup_DynamicIVCD\n",
    "from nsscmmab import NSSCMMAB\n",
    "from npsem.model import StructuralCausalModel as SCM"
   ],
   "outputs": [],
   "metadata": {}
  },
  {
   "cell_type": "code",
   "execution_count": 73,
   "source": [
    "params = setup_DynamicIVCD()\n",
    "params"
   ],
   "outputs": [
    {
     "output_type": "execute_result",
     "data": {
      "text/plain": [
       "{'G': <networkx.classes.multidigraph.MultiDiGraph at 0x7f83a0fa6880>,\n",
       " 'SEM': src.examples.struct_eq_models.DynamicIVCD,\n",
       " 'mu1': {'U_X': 0.11, 'U_Y': 0.15, 'U_Z': 0.6, 'U_XY': 0.51},\n",
       " 'node_info': {'Z': {'type': 'manipulative', 'domain': (0, 1)},\n",
       "  'X': {'type': 'manipulative', 'domain': (0, 1)},\n",
       "  'Y': {'type': 'manipulative', 'domain': (-1, 1)},\n",
       "  'U': {'type': 'confounder', 'domain': None}},\n",
       " 'confounder_info': {0: ('X', 'Y'), 1: ('X', 'Y'), 2: ('X', 'Y')},\n",
       " 'base_target_variable': 'Y',\n",
       " 'horizon': 10,\n",
       " 'n_trials': 2,\n",
       " 'n_jobs': 2}"
      ]
     },
     "metadata": {},
     "execution_count": 73
    }
   ],
   "metadata": {}
  },
  {
   "cell_type": "code",
   "execution_count": 72,
   "source": [
    "domains = {key: val[\"domain\"] for key, val in params[\"node_info\"].items()}"
   ],
   "outputs": [],
   "metadata": {}
  },
  {
   "cell_type": "code",
   "execution_count": 75,
   "source": [
    "out = SCM(\n",
    "    temporal_index=0,\n",
    "    G=cds[0],\n",
    "    F=params[\"SEM\"].static(),\n",
    "    P_U=default_P_U(params[\"mu1\"]),\n",
    "    D=domains,\n",
    "    more_U={\"U_{}\".format(v) for v in cds[0].V}\n",
    ")"
   ],
   "outputs": [],
   "metadata": {}
  },
  {
   "cell_type": "code",
   "execution_count": 77,
   "source": [
    " U = list(sorted(out.G.U | out.more_U))\n",
    " U"
   ],
   "outputs": [
    {
     "output_type": "execute_result",
     "data": {
      "text/plain": [
       "['U_0', 'U_X', 'U_Y', 'U_Z']"
      ]
     },
     "metadata": {},
     "execution_count": 77
    }
   ],
   "metadata": {}
  },
  {
   "cell_type": "code",
   "execution_count": 82,
   "source": [
    "cds[0].U"
   ],
   "outputs": [
    {
     "output_type": "execute_result",
     "data": {
      "text/plain": [
       "frozenset({'U_0'})"
      ]
     },
     "metadata": {},
     "execution_count": 82
    }
   ],
   "metadata": {}
  },
  {
   "cell_type": "markdown",
   "source": [
    "Compare my version of the domain vs. the defaultdict version"
   ],
   "metadata": {}
  },
  {
   "cell_type": "code",
   "execution_count": 79,
   "source": [
    "D = defaultdict(lambda: (0, 1)) \n",
    "list(product(*[D[U_i] for U_i in U]))"
   ],
   "outputs": [
    {
     "output_type": "execute_result",
     "data": {
      "text/plain": [
       "[(0, 0, 0, 0),\n",
       " (0, 0, 0, 1),\n",
       " (0, 0, 1, 0),\n",
       " (0, 0, 1, 1),\n",
       " (0, 1, 0, 0),\n",
       " (0, 1, 0, 1),\n",
       " (0, 1, 1, 0),\n",
       " (0, 1, 1, 1),\n",
       " (1, 0, 0, 0),\n",
       " (1, 0, 0, 1),\n",
       " (1, 0, 1, 0),\n",
       " (1, 0, 1, 1),\n",
       " (1, 1, 0, 0),\n",
       " (1, 1, 0, 1),\n",
       " (1, 1, 1, 0),\n",
       " (1, 1, 1, 1)]"
      ]
     },
     "metadata": {},
     "execution_count": 79
    }
   ],
   "metadata": {}
  }
 ]
}