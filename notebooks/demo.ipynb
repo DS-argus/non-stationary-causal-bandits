{
 "metadata": {
  "language_info": {
   "codemirror_mode": {
    "name": "ipython",
    "version": 3
   },
   "file_extension": ".py",
   "mimetype": "text/x-python",
   "name": "python",
   "nbconvert_exporter": "python",
   "pygments_lexer": "ipython3",
   "version": "3.9.6"
  },
  "orig_nbformat": 2,
  "kernelspec": {
   "name": "python3",
   "display_name": "Python 3.9.6 64-bit ('mab': conda)"
  },
  "interpreter": {
   "hash": "67d6b807cd86a3d17ff383503c76e307eea34f9fd26201f30df1f67466e5318b"
  }
 },
 "nbformat": 4,
 "nbformat_minor": 2,
 "cells": [
  {
   "cell_type": "markdown",
   "source": [
    "# Non-stationary [SCM-MAB](https://papers.nips.cc/paper/2018/hash/c0a271bc0ecb776a094786474322cb82-Abstract.html)\n",
    "\n",
    "- Need to allow for prior on causal effects (--> Bayesian MAB)\n",
    "- Non-stationary Bayesian structural causal MAB\n",
    "    - Non-stationary because the reward statistics changes across time\n",
    "    - Bayesian because we have a prior on the reward distribution\n",
    "    - Structural because we are aware of the causal structure of the reward distribution \n",
    "\n",
    "## Stationarity assumptions of standard MAB algorithms\n",
    "\n",
    "- Thompson Sampling (Thompson, 1933), UCB and epsilon-greedy assume that the rewards are i.i.d. samples from stationary distributions (Allesiardo et al., 2017), thus are not suitable for the (DBN-like underyling CGM) application.\n",
    "- The EXP3 (Auer et al., 2002b) MAB algorithm makes comparatively fewer assumptions on reward distributions and can deal with the general setting of adversarially-defined rewards. The general adversarial bandit setting is important for our application as it enables the MAB to handle the non-stationary nature of the rewards observed during the optimisation (Allesiardo et al., 2017).\n",
    "\n",
    "## Considerations\n",
    "\n",
    "- Appears to be a so-called 'restless bandit problem'\n",
    "- _Sometimes_ we have observational data, so we have a strong prior on the reward distribution\n",
    "- We are doing inference on the reward distribution (exploring it) whilst playing the game, this means we are dealing with NS-MAB.\n",
    "- At the start of the game, all we have is a prior on the reward distribution (one for each exploration set) but as we play the game, we collect more observations, update our prior, and then continue the game until we find the best arm. \n",
    "    - **CONTINUOUS CAUSAL EFFECTS** As we play the game, BO will tell us _where_ on the selected arm to explore"
   ],
   "metadata": {}
  },
  {
   "cell_type": "code",
   "execution_count": 1,
   "source": [
    "%load_ext autoreload\n",
    "%autoreload 2\n",
    "import numpy as np\n",
    "import sys\n",
    "sys.path.append(\"..\")\n",
    "sys.path.append(\"../src\")"
   ],
   "outputs": [],
   "metadata": {}
  },
  {
   "cell_type": "code",
   "execution_count": 2,
   "source": [
    "from src.utils.dag_utils.graph_functions import make_graphical_model, make_networkx_object, get_time_slice_sub_graphs, make_time_slice_causal_diagrams"
   ],
   "outputs": [],
   "metadata": {}
  },
  {
   "cell_type": "code",
   "execution_count": 3,
   "source": [
    "from npsem.utils import subseq\n",
    "from npsem.NIPS2018POMIS_exp.scm_examples import IV_SCM\n",
    "from npsem.scm_bandits import SCM_to_bandit_machine, arms_of \n",
    "from npsem.bandits import play_bandits\n",
    "from itertools import product"
   ],
   "outputs": [],
   "metadata": {}
  },
  {
   "cell_type": "markdown",
   "source": [
    "# Non-stationary SCM-MAB as piece-wise stationary SCM-MAB \n",
    "\n",
    "SCM-MAB will be run on the DAG in each time-slice (which could change across time). The reward distribution will change as we step through the graph, from left to right.\n",
    "\n",
    "- We start with a DAG in which the connectivity is the same across time and then add complexity when it works."
   ],
   "metadata": {}
  },
  {
   "cell_type": "code",
   "execution_count": 4,
   "source": [
    "node_info = {\"Z\": {\"type\": \"manipulative\", \"domain\": (0,1)},\n",
    "             \"X\": {\"type\": \"manipulative\", \"domain\": (0,1)},\n",
    "             \"Y\": {\"type\": \"manipulative\", \"domain\": (-1,1)}}\n",
    "            #  \"U\" : {\"type\": \"confounder\"}}\n",
    "# Constructor for adding unobserved confounder to graph\n",
    "# XXX: this construction allows us to model situations in which confounding varibles appear and disappear across time-steps\n",
    "conf_info = {0: (\"X\",\"Y\"), 1:  (\"X\",\"Y\"), 2:  (\"X\",\"Y\")}"
   ],
   "outputs": [],
   "metadata": {}
  },
  {
   "cell_type": "code",
   "execution_count": 5,
   "source": [
    "T = 3\n",
    "graph_view = make_graphical_model(0,\n",
    "T-1,\n",
    "topology='dependent',\n",
    "target_node='Y',\n",
    "node_information= node_info,\n",
    "confounder_info=conf_info,\n",
    "verbose=True)\n",
    "graph_view"
   ],
   "outputs": [
    {
     "output_type": "execute_result",
     "data": {
      "image/svg+xml": "<?xml version=\"1.0\" encoding=\"UTF-8\" standalone=\"no\"?>\n<!DOCTYPE svg PUBLIC \"-//W3C//DTD SVG 1.1//EN\"\n \"http://www.w3.org/Graphics/SVG/1.1/DTD/svg11.dtd\">\n<!-- Generated by graphviz version 2.44.0 (20200408.0750)\n -->\n<!-- Pages: 1 -->\n<svg width=\"499pt\" height=\"368pt\"\n viewBox=\"0.00 0.00 499.02 368.00\" xmlns=\"http://www.w3.org/2000/svg\" xmlns:xlink=\"http://www.w3.org/1999/xlink\">\n<g id=\"graph0\" class=\"graph\" transform=\"scale(1 1) rotate(0) translate(4 364)\">\n<polygon fill=\"white\" stroke=\"transparent\" points=\"-4,4 -4,-364 495.02,-364 495.02,4 -4,4\"/>\n<!-- Z_0 -->\n<g id=\"node1\" class=\"node\">\n<title>Z_0</title>\n<ellipse fill=\"none\" stroke=\"black\" cx=\"118.53\" cy=\"-126\" rx=\"27\" ry=\"18\"/>\n<text text-anchor=\"middle\" x=\"118.53\" y=\"-122.3\" font-family=\"Times,serif\" font-size=\"14.00\">Z_0</text>\n</g>\n<!-- X_0 -->\n<g id=\"node2\" class=\"node\">\n<title>X_0</title>\n<ellipse fill=\"none\" stroke=\"black\" cx=\"118.53\" cy=\"-72\" rx=\"27\" ry=\"18\"/>\n<text text-anchor=\"middle\" x=\"118.53\" y=\"-68.3\" font-family=\"Times,serif\" font-size=\"14.00\">X_0</text>\n</g>\n<!-- Z_0&#45;&gt;X_0 -->\n<g id=\"edge1\" class=\"edge\">\n<title>Z_0&#45;&gt;X_0</title>\n<path fill=\"none\" stroke=\"black\" d=\"M118.53,-107.79C118.53,-105.31 118.53,-102.83 118.53,-100.34\"/>\n<polygon fill=\"black\" stroke=\"black\" points=\"122.03,-100.14 118.53,-90.14 115.03,-100.14 122.03,-100.14\"/>\n</g>\n<!-- Z_1 -->\n<g id=\"node4\" class=\"node\">\n<title>Z_1</title>\n<ellipse fill=\"none\" stroke=\"black\" cx=\"283.33\" cy=\"-126\" rx=\"27\" ry=\"18\"/>\n<text text-anchor=\"middle\" x=\"283.33\" y=\"-122.3\" font-family=\"Times,serif\" font-size=\"14.00\">Z_1</text>\n</g>\n<!-- Z_0&#45;&gt;Z_1 -->\n<g id=\"edge22\" class=\"edge\">\n<title>Z_0&#45;&gt;Z_1</title>\n<path fill=\"none\" stroke=\"black\" d=\"M145.69,-126C172.87,-126 215.59,-126 246.03,-126\"/>\n<polygon fill=\"black\" stroke=\"black\" points=\"246.24,-129.5 256.24,-126 246.24,-122.5 246.24,-129.5\"/>\n</g>\n<!-- Y_0 -->\n<g id=\"node3\" class=\"node\">\n<title>Y_0</title>\n<ellipse fill=\"none\" stroke=\"black\" cx=\"118.53\" cy=\"-18\" rx=\"27\" ry=\"18\"/>\n<text text-anchor=\"middle\" x=\"118.53\" y=\"-14.3\" font-family=\"Times,serif\" font-size=\"14.00\">Y_0</text>\n</g>\n<!-- X_0&#45;&gt;Y_0 -->\n<g id=\"edge2\" class=\"edge\">\n<title>X_0&#45;&gt;Y_0</title>\n<path fill=\"none\" stroke=\"black\" d=\"M118.53,-53.79C118.53,-51.31 118.53,-48.83 118.53,-46.34\"/>\n<polygon fill=\"black\" stroke=\"black\" points=\"122.03,-46.14 118.53,-36.14 115.03,-46.14 122.03,-46.14\"/>\n</g>\n<!-- X_1 -->\n<g id=\"node5\" class=\"node\">\n<title>X_1</title>\n<ellipse fill=\"none\" stroke=\"black\" cx=\"283.33\" cy=\"-72\" rx=\"27\" ry=\"18\"/>\n<text text-anchor=\"middle\" x=\"283.33\" y=\"-68.3\" font-family=\"Times,serif\" font-size=\"14.00\">X_1</text>\n</g>\n<!-- X_0&#45;&gt;X_1 -->\n<g id=\"edge23\" class=\"edge\">\n<title>X_0&#45;&gt;X_1</title>\n<path fill=\"none\" stroke=\"black\" d=\"M145.69,-72C172.87,-72 215.59,-72 246.03,-72\"/>\n<polygon fill=\"black\" stroke=\"black\" points=\"246.24,-75.5 256.24,-72 246.24,-68.5 246.24,-75.5\"/>\n</g>\n<!-- Y_1 -->\n<g id=\"node6\" class=\"node\">\n<title>Y_1</title>\n<ellipse fill=\"none\" stroke=\"black\" cx=\"283.33\" cy=\"-18\" rx=\"27\" ry=\"18\"/>\n<text text-anchor=\"middle\" x=\"283.33\" y=\"-14.3\" font-family=\"Times,serif\" font-size=\"14.00\">Y_1</text>\n</g>\n<!-- Y_0&#45;&gt;Y_1 -->\n<g id=\"edge24\" class=\"edge\">\n<title>Y_0&#45;&gt;Y_1</title>\n<path fill=\"none\" stroke=\"black\" d=\"M145.69,-18C172.87,-18 215.59,-18 246.03,-18\"/>\n<polygon fill=\"black\" stroke=\"black\" points=\"246.24,-21.5 256.24,-18 246.24,-14.5 246.24,-21.5\"/>\n</g>\n<!-- Z_1&#45;&gt;X_1 -->\n<g id=\"edge3\" class=\"edge\">\n<title>Z_1&#45;&gt;X_1</title>\n<path fill=\"none\" stroke=\"black\" d=\"M283.33,-107.79C283.33,-105.31 283.33,-102.83 283.33,-100.34\"/>\n<polygon fill=\"black\" stroke=\"black\" points=\"286.83,-100.14 283.33,-90.14 279.83,-100.14 286.83,-100.14\"/>\n</g>\n<!-- Z_2 -->\n<g id=\"node7\" class=\"node\">\n<title>Z_2</title>\n<ellipse fill=\"none\" stroke=\"black\" cx=\"448.12\" cy=\"-126\" rx=\"27\" ry=\"18\"/>\n<text text-anchor=\"middle\" x=\"448.12\" y=\"-122.3\" font-family=\"Times,serif\" font-size=\"14.00\">Z_2</text>\n</g>\n<!-- Z_1&#45;&gt;Z_2 -->\n<g id=\"edge25\" class=\"edge\">\n<title>Z_1&#45;&gt;Z_2</title>\n<path fill=\"none\" stroke=\"black\" d=\"M310.48,-126C337.66,-126 380.39,-126 410.82,-126\"/>\n<polygon fill=\"black\" stroke=\"black\" points=\"411.03,-129.5 421.03,-126 411.03,-122.5 411.03,-129.5\"/>\n</g>\n<!-- X_1&#45;&gt;Y_1 -->\n<g id=\"edge4\" class=\"edge\">\n<title>X_1&#45;&gt;Y_1</title>\n<path fill=\"none\" stroke=\"black\" d=\"M283.33,-53.79C283.33,-51.31 283.33,-48.83 283.33,-46.34\"/>\n<polygon fill=\"black\" stroke=\"black\" points=\"286.83,-46.14 283.33,-36.14 279.83,-46.14 286.83,-46.14\"/>\n</g>\n<!-- X_2 -->\n<g id=\"node8\" class=\"node\">\n<title>X_2</title>\n<ellipse fill=\"none\" stroke=\"black\" cx=\"448.12\" cy=\"-72\" rx=\"27\" ry=\"18\"/>\n<text text-anchor=\"middle\" x=\"448.12\" y=\"-68.3\" font-family=\"Times,serif\" font-size=\"14.00\">X_2</text>\n</g>\n<!-- X_1&#45;&gt;X_2 -->\n<g id=\"edge26\" class=\"edge\">\n<title>X_1&#45;&gt;X_2</title>\n<path fill=\"none\" stroke=\"black\" d=\"M310.48,-72C337.66,-72 380.39,-72 410.82,-72\"/>\n<polygon fill=\"black\" stroke=\"black\" points=\"411.03,-75.5 421.03,-72 411.03,-68.5 411.03,-75.5\"/>\n</g>\n<!-- Y_2 -->\n<g id=\"node9\" class=\"node\">\n<title>Y_2</title>\n<ellipse fill=\"none\" stroke=\"black\" cx=\"448.12\" cy=\"-18\" rx=\"27\" ry=\"18\"/>\n<text text-anchor=\"middle\" x=\"448.12\" y=\"-14.3\" font-family=\"Times,serif\" font-size=\"14.00\">Y_2</text>\n</g>\n<!-- Y_1&#45;&gt;Y_2 -->\n<g id=\"edge27\" class=\"edge\">\n<title>Y_1&#45;&gt;Y_2</title>\n<path fill=\"none\" stroke=\"black\" d=\"M310.48,-18C337.66,-18 380.39,-18 410.82,-18\"/>\n<polygon fill=\"black\" stroke=\"black\" points=\"411.03,-21.5 421.03,-18 411.03,-14.5 411.03,-21.5\"/>\n</g>\n<!-- Z_2&#45;&gt;X_2 -->\n<g id=\"edge5\" class=\"edge\">\n<title>Z_2&#45;&gt;X_2</title>\n<path fill=\"none\" stroke=\"black\" d=\"M448.12,-107.79C448.12,-105.31 448.12,-102.83 448.12,-100.34\"/>\n<polygon fill=\"black\" stroke=\"black\" points=\"451.62,-100.14 448.12,-90.14 444.62,-100.14 451.62,-100.14\"/>\n</g>\n<!-- X_2&#45;&gt;Y_2 -->\n<g id=\"edge6\" class=\"edge\">\n<title>X_2&#45;&gt;Y_2</title>\n<path fill=\"none\" stroke=\"black\" d=\"M448.12,-53.79C448.12,-51.31 448.12,-48.83 448.12,-46.34\"/>\n<polygon fill=\"black\" stroke=\"black\" points=\"451.62,-46.14 448.12,-36.14 444.62,-46.14 451.62,-46.14\"/>\n</g>\n<!-- U_XY_0 -->\n<g id=\"node10\" class=\"node\">\n<title>U_XY_0</title>\n<ellipse fill=\"none\" stroke=\"black\" cx=\"118.53\" cy=\"-342\" rx=\"42.79\" ry=\"18\"/>\n<text text-anchor=\"middle\" x=\"118.53\" y=\"-338.3\" font-family=\"Times,serif\" font-size=\"14.00\">U_XY_0</text>\n</g>\n<!-- U_XY_0&#45;&gt;X_0 -->\n<g id=\"edge7\" class=\"edge\">\n<title>U_XY_0&#45;&gt;X_0</title>\n<path fill=\"none\" stroke=\"red\" stroke-width=\"2\" stroke-dasharray=\"5,2\" d=\"M79.17,-334.67C62.98,-329.5 45.8,-320.76 36.14,-306 -12.05,-232.36 -12.05,-181.64 36.14,-108 46.43,-92.28 65.26,-83.38 82.32,-78.37\"/>\n<polygon fill=\"red\" stroke=\"red\" stroke-width=\"2\" points=\"83.28,-81.73 92.09,-75.84 81.53,-74.96 83.28,-81.73\"/>\n</g>\n<!-- U_XY_0&#45;&gt;Y_0 -->\n<g id=\"edge8\" class=\"edge\">\n<title>U_XY_0&#45;&gt;Y_0</title>\n<path fill=\"none\" stroke=\"red\" stroke-width=\"2\" stroke-dasharray=\"5,2\" d=\"M79.17,-334.67C62.98,-329.5 45.8,-320.76 36.14,-306 5.48,-259.14 5.48,-100.86 36.14,-54 46.43,-38.28 65.26,-29.38 82.32,-24.37\"/>\n<polygon fill=\"red\" stroke=\"red\" stroke-width=\"2\" points=\"83.28,-27.73 92.09,-21.84 81.53,-20.96 83.28,-27.73\"/>\n</g>\n<!-- U_XY_1 -->\n<g id=\"node11\" class=\"node\">\n<title>U_XY_1</title>\n<ellipse fill=\"none\" stroke=\"black\" cx=\"283.33\" cy=\"-342\" rx=\"42.79\" ry=\"18\"/>\n<text text-anchor=\"middle\" x=\"283.33\" y=\"-338.3\" font-family=\"Times,serif\" font-size=\"14.00\">U_XY_1</text>\n</g>\n<!-- U_XY_1&#45;&gt;X_1 -->\n<g id=\"edge9\" class=\"edge\">\n<title>U_XY_1&#45;&gt;X_1</title>\n<path fill=\"none\" stroke=\"red\" stroke-width=\"2\" stroke-dasharray=\"5,2\" d=\"M243.96,-334.67C227.78,-329.5 210.59,-320.76 200.93,-306 152.75,-232.36 152.75,-181.64 200.93,-108 211.22,-92.28 230.05,-83.38 247.12,-78.37\"/>\n<polygon fill=\"red\" stroke=\"red\" stroke-width=\"2\" points=\"248.08,-81.73 256.88,-75.84 246.32,-74.96 248.08,-81.73\"/>\n</g>\n<!-- U_XY_1&#45;&gt;Y_1 -->\n<g id=\"edge10\" class=\"edge\">\n<title>U_XY_1&#45;&gt;Y_1</title>\n<path fill=\"none\" stroke=\"red\" stroke-width=\"2\" stroke-dasharray=\"5,2\" d=\"M243.96,-334.67C227.78,-329.5 210.59,-320.76 200.93,-306 170.27,-259.14 170.27,-100.86 200.93,-54 211.22,-38.28 230.05,-29.38 247.12,-24.37\"/>\n<polygon fill=\"red\" stroke=\"red\" stroke-width=\"2\" points=\"248.08,-27.73 256.88,-21.84 246.32,-20.96 248.08,-27.73\"/>\n</g>\n<!-- U_XY_2 -->\n<g id=\"node12\" class=\"node\">\n<title>U_XY_2</title>\n<ellipse fill=\"none\" stroke=\"black\" cx=\"448.12\" cy=\"-342\" rx=\"42.79\" ry=\"18\"/>\n<text text-anchor=\"middle\" x=\"448.12\" y=\"-338.3\" font-family=\"Times,serif\" font-size=\"14.00\">U_XY_2</text>\n</g>\n<!-- U_XY_2&#45;&gt;X_2 -->\n<g id=\"edge11\" class=\"edge\">\n<title>U_XY_2&#45;&gt;X_2</title>\n<path fill=\"none\" stroke=\"red\" stroke-width=\"2\" stroke-dasharray=\"5,2\" d=\"M408.75,-334.67C392.57,-329.5 375.38,-320.76 365.72,-306 317.54,-232.36 317.54,-181.64 365.72,-108 376.01,-92.28 394.84,-83.38 411.91,-78.37\"/>\n<polygon fill=\"red\" stroke=\"red\" stroke-width=\"2\" points=\"412.87,-81.73 421.67,-75.84 411.12,-74.96 412.87,-81.73\"/>\n</g>\n<!-- U_XY_2&#45;&gt;Y_2 -->\n<g id=\"edge12\" class=\"edge\">\n<title>U_XY_2&#45;&gt;Y_2</title>\n<path fill=\"none\" stroke=\"red\" stroke-width=\"2\" stroke-dasharray=\"5,2\" d=\"M408.75,-334.67C392.57,-329.5 375.38,-320.76 365.72,-306 335.06,-259.14 335.06,-100.86 365.72,-54 376.01,-38.28 394.84,-29.38 411.91,-24.37\"/>\n<polygon fill=\"red\" stroke=\"red\" stroke-width=\"2\" points=\"412.87,-27.73 421.67,-21.84 411.12,-20.96 412.87,-27.73\"/>\n</g>\n<!-- U_Z_0 -->\n<g id=\"node13\" class=\"node\">\n<title>U_Z_0</title>\n<ellipse fill=\"none\" stroke=\"black\" cx=\"118.53\" cy=\"-180\" rx=\"36\" ry=\"18\"/>\n<text text-anchor=\"middle\" x=\"118.53\" y=\"-176.3\" font-family=\"Times,serif\" font-size=\"14.00\">U_Z_0</text>\n</g>\n<!-- U_Z_0&#45;&gt;Z_0 -->\n<g id=\"edge13\" class=\"edge\">\n<title>U_Z_0&#45;&gt;Z_0</title>\n<path fill=\"none\" stroke=\"black\" stroke-dasharray=\"5,2\" d=\"M118.53,-161.79C118.53,-159.31 118.53,-156.83 118.53,-154.34\"/>\n<polygon fill=\"black\" stroke=\"black\" points=\"122.03,-154.14 118.53,-144.14 115.03,-154.14 122.03,-154.14\"/>\n</g>\n<!-- U_X_0 -->\n<g id=\"node14\" class=\"node\">\n<title>U_X_0</title>\n<ellipse fill=\"none\" stroke=\"black\" cx=\"118.53\" cy=\"-234\" rx=\"36.29\" ry=\"18\"/>\n<text text-anchor=\"middle\" x=\"118.53\" y=\"-230.3\" font-family=\"Times,serif\" font-size=\"14.00\">U_X_0</text>\n</g>\n<!-- U_X_0&#45;&gt;X_0 -->\n<g id=\"edge14\" class=\"edge\">\n<title>U_X_0&#45;&gt;X_0</title>\n<path fill=\"none\" stroke=\"black\" stroke-dasharray=\"5,2\" d=\"M83.86,-228.08C66.4,-223.15 46.74,-214.2 36.14,-198 14.24,-164.53 14.24,-141.47 36.14,-108 46.43,-92.28 65.26,-83.38 82.32,-78.37\"/>\n<polygon fill=\"black\" stroke=\"black\" points=\"83.28,-81.73 92.09,-75.84 81.53,-74.96 83.28,-81.73\"/>\n</g>\n<!-- U_Y_0 -->\n<g id=\"node15\" class=\"node\">\n<title>U_Y_0</title>\n<ellipse fill=\"none\" stroke=\"black\" cx=\"118.53\" cy=\"-288\" rx=\"36.29\" ry=\"18\"/>\n<text text-anchor=\"middle\" x=\"118.53\" y=\"-284.3\" font-family=\"Times,serif\" font-size=\"14.00\">U_Y_0</text>\n</g>\n<!-- U_Y_0&#45;&gt;Y_0 -->\n<g id=\"edge15\" class=\"edge\">\n<title>U_Y_0&#45;&gt;Y_0</title>\n<path fill=\"none\" stroke=\"black\" stroke-dasharray=\"5,2\" d=\"M83.86,-282.08C66.4,-277.15 46.74,-268.2 36.14,-252 -12.05,-178.36 -12.05,-127.64 36.14,-54 46.43,-38.28 65.26,-29.38 82.32,-24.37\"/>\n<polygon fill=\"black\" stroke=\"black\" points=\"83.28,-27.73 92.09,-21.84 81.53,-20.96 83.28,-27.73\"/>\n</g>\n<!-- U_Z_1 -->\n<g id=\"node16\" class=\"node\">\n<title>U_Z_1</title>\n<ellipse fill=\"none\" stroke=\"black\" cx=\"283.33\" cy=\"-180\" rx=\"36\" ry=\"18\"/>\n<text text-anchor=\"middle\" x=\"283.33\" y=\"-176.3\" font-family=\"Times,serif\" font-size=\"14.00\">U_Z_1</text>\n</g>\n<!-- U_Z_1&#45;&gt;Z_1 -->\n<g id=\"edge16\" class=\"edge\">\n<title>U_Z_1&#45;&gt;Z_1</title>\n<path fill=\"none\" stroke=\"black\" stroke-dasharray=\"5,2\" d=\"M283.33,-161.79C283.33,-159.31 283.33,-156.83 283.33,-154.34\"/>\n<polygon fill=\"black\" stroke=\"black\" points=\"286.83,-154.14 283.33,-144.14 279.83,-154.14 286.83,-154.14\"/>\n</g>\n<!-- U_X_1 -->\n<g id=\"node17\" class=\"node\">\n<title>U_X_1</title>\n<ellipse fill=\"none\" stroke=\"black\" cx=\"283.33\" cy=\"-234\" rx=\"36.29\" ry=\"18\"/>\n<text text-anchor=\"middle\" x=\"283.33\" y=\"-230.3\" font-family=\"Times,serif\" font-size=\"14.00\">U_X_1</text>\n</g>\n<!-- U_X_1&#45;&gt;X_1 -->\n<g id=\"edge17\" class=\"edge\">\n<title>U_X_1&#45;&gt;X_1</title>\n<path fill=\"none\" stroke=\"black\" stroke-dasharray=\"5,2\" d=\"M248.65,-228.08C231.19,-223.15 211.53,-214.2 200.93,-198 179.03,-164.53 179.03,-141.47 200.93,-108 211.22,-92.28 230.05,-83.38 247.12,-78.37\"/>\n<polygon fill=\"black\" stroke=\"black\" points=\"248.08,-81.73 256.88,-75.84 246.32,-74.96 248.08,-81.73\"/>\n</g>\n<!-- U_Y_1 -->\n<g id=\"node18\" class=\"node\">\n<title>U_Y_1</title>\n<ellipse fill=\"none\" stroke=\"black\" cx=\"283.33\" cy=\"-288\" rx=\"36.29\" ry=\"18\"/>\n<text text-anchor=\"middle\" x=\"283.33\" y=\"-284.3\" font-family=\"Times,serif\" font-size=\"14.00\">U_Y_1</text>\n</g>\n<!-- U_Y_1&#45;&gt;Y_1 -->\n<g id=\"edge18\" class=\"edge\">\n<title>U_Y_1&#45;&gt;Y_1</title>\n<path fill=\"none\" stroke=\"black\" stroke-dasharray=\"5,2\" d=\"M248.65,-282.08C231.19,-277.15 211.53,-268.2 200.93,-252 152.75,-178.36 152.75,-127.64 200.93,-54 211.22,-38.28 230.05,-29.38 247.12,-24.37\"/>\n<polygon fill=\"black\" stroke=\"black\" points=\"248.08,-27.73 256.88,-21.84 246.32,-20.96 248.08,-27.73\"/>\n</g>\n<!-- U_Z_2 -->\n<g id=\"node19\" class=\"node\">\n<title>U_Z_2</title>\n<ellipse fill=\"none\" stroke=\"black\" cx=\"448.12\" cy=\"-180\" rx=\"36\" ry=\"18\"/>\n<text text-anchor=\"middle\" x=\"448.12\" y=\"-176.3\" font-family=\"Times,serif\" font-size=\"14.00\">U_Z_2</text>\n</g>\n<!-- U_Z_2&#45;&gt;Z_2 -->\n<g id=\"edge19\" class=\"edge\">\n<title>U_Z_2&#45;&gt;Z_2</title>\n<path fill=\"none\" stroke=\"black\" stroke-dasharray=\"5,2\" d=\"M448.12,-161.79C448.12,-159.31 448.12,-156.83 448.12,-154.34\"/>\n<polygon fill=\"black\" stroke=\"black\" points=\"451.62,-154.14 448.12,-144.14 444.62,-154.14 451.62,-154.14\"/>\n</g>\n<!-- U_X_2 -->\n<g id=\"node20\" class=\"node\">\n<title>U_X_2</title>\n<ellipse fill=\"none\" stroke=\"black\" cx=\"448.12\" cy=\"-234\" rx=\"36.29\" ry=\"18\"/>\n<text text-anchor=\"middle\" x=\"448.12\" y=\"-230.3\" font-family=\"Times,serif\" font-size=\"14.00\">U_X_2</text>\n</g>\n<!-- U_X_2&#45;&gt;X_2 -->\n<g id=\"edge20\" class=\"edge\">\n<title>U_X_2&#45;&gt;X_2</title>\n<path fill=\"none\" stroke=\"black\" stroke-dasharray=\"5,2\" d=\"M413.44,-228.08C395.99,-223.15 376.32,-214.2 365.72,-198 343.82,-164.53 343.82,-141.47 365.72,-108 376.01,-92.28 394.84,-83.38 411.91,-78.37\"/>\n<polygon fill=\"black\" stroke=\"black\" points=\"412.87,-81.73 421.67,-75.84 411.12,-74.96 412.87,-81.73\"/>\n</g>\n<!-- U_Y_2 -->\n<g id=\"node21\" class=\"node\">\n<title>U_Y_2</title>\n<ellipse fill=\"none\" stroke=\"black\" cx=\"448.12\" cy=\"-288\" rx=\"36.29\" ry=\"18\"/>\n<text text-anchor=\"middle\" x=\"448.12\" y=\"-284.3\" font-family=\"Times,serif\" font-size=\"14.00\">U_Y_2</text>\n</g>\n<!-- U_Y_2&#45;&gt;Y_2 -->\n<g id=\"edge21\" class=\"edge\">\n<title>U_Y_2&#45;&gt;Y_2</title>\n<path fill=\"none\" stroke=\"black\" stroke-dasharray=\"5,2\" d=\"M413.44,-282.08C395.99,-277.15 376.32,-268.2 365.72,-252 317.54,-178.36 317.54,-127.64 365.72,-54 376.01,-38.28 394.84,-29.38 411.91,-24.37\"/>\n<polygon fill=\"black\" stroke=\"black\" points=\"412.87,-27.73 421.67,-21.84 411.12,-20.96 412.87,-27.73\"/>\n</g>\n</g>\n</svg>\n",
      "text/plain": [
       "<graphviz.files.Source at 0x7f9d7090e970>"
      ]
     },
     "metadata": {},
     "execution_count": 5
    }
   ],
   "metadata": {}
  },
  {
   "cell_type": "code",
   "execution_count": 52,
   "source": [
    "background_info = {\n",
    "    # Exogenous / background conditions\n",
    "    \"U_Z\": {\"type\": \"background\", \"domain\": (0, 1)},\n",
    "    \"U_X\": {\"type\": \"background\", \"domain\": (0, 1)},\n",
    "    \"U_Y\": {\"type\": \"background\", \"domain\": (0, 1)},\n",
    "    \"U_XY\": {\"type\": \"confounder\", \"domain\": (0, 1)},\n",
    "}\n",
    "# Contains all the sub-graphs per time-slice\n",
    "G = make_networkx_object(graph_view, node_info | background_info, T)\n",
    "# TODO: need to add assigned variable edges here but make sure that they are removed from the relevant node if that variable is intervened upon.\n",
    "gs = get_time_slice_sub_graphs(G,T)\n",
    "cds = make_time_slice_causal_diagrams(gs,conf_info)"
   ],
   "outputs": [],
   "metadata": {}
  },
  {
   "cell_type": "code",
   "execution_count": 55,
   "source": [
    "cds[0].causal_order()"
   ],
   "outputs": [
    {
     "output_type": "execute_result",
     "data": {
      "text/plain": [
       "('Z', 'X', 'Y')"
      ]
     },
     "metadata": {},
     "execution_count": 55
    }
   ],
   "metadata": {}
  },
  {
   "cell_type": "markdown",
   "source": [
    "## Explore SCM from fig 3"
   ],
   "metadata": {}
  },
  {
   "cell_type": "code",
   "execution_count": 13,
   "source": [
    "from scipy.stats import bernoulli as ber\n",
    "from src.examples.SEMs import DynamicIVCD\n",
    "from itertools import product\n",
    "from collections import defaultdict\n",
    "from npsem.model import default_P_U"
   ],
   "outputs": [],
   "metadata": {}
  },
  {
   "cell_type": "code",
   "execution_count": 8,
   "source": [
    "SEM = DynamicIVCD()\n",
    "static = SEM.static()\n",
    "dynamic = SEM.dynamic()\n",
    "\n",
    "# SEM = DynamicIVCD()\n",
    "# static = SEM.static()\n",
    "# dynamic = SEM.dynamic(clamped={\"X\":0, 'Z':1, \"Y\":1})\n",
    "T = 3\n",
    "N = 4 \n",
    "exo_vars = {\"U_Z\": ber.rvs(p=0.6, size=(N,T)), \"U_X\":ber.rvs(p=0.11, size=(N,T)), \"U_Y\":ber.rvs(p=0.15, size=(N,T)) ,\"U_XY\":ber.rvs(p=0.51, size=(N,T))}\n",
    "# epsilon = np.random.randint(2, size=(N,T))\n",
    "sem_samples  = {k:np.empty((N,T), dtype='int') for k in static.keys()}\n",
    "sem_samples\n",
    "samples = sem_samples | exo_vars\n",
    "samples"
   ],
   "outputs": [
    {
     "output_type": "execute_result",
     "data": {
      "text/plain": [
       "{'Z': array([[1, 1, 0],\n",
       "        [1, 1, 0],\n",
       "        [1, 1, 0],\n",
       "        [1, 0, 0]]),\n",
       " 'X': array([[1, 1, 0],\n",
       "        [1, 1, 0],\n",
       "        [1, 1, 0],\n",
       "        [1, 0, 0]]),\n",
       " 'Y': array([[-3458764513820540928,  1152930274351564965,                    9],\n",
       "        [                   0,                    0,      140314175210336],\n",
       "        [     140315244893504,      140315776616704,      140314175210720],\n",
       "        [     140315779589616,                    0,                    0]]),\n",
       " 'U_Z': array([[0, 0, 1],\n",
       "        [0, 1, 1],\n",
       "        [0, 1, 1],\n",
       "        [0, 0, 1]]),\n",
       " 'U_X': array([[0, 1, 1],\n",
       "        [0, 0, 0],\n",
       "        [0, 0, 0],\n",
       "        [0, 0, 0]]),\n",
       " 'U_Y': array([[0, 0, 0],\n",
       "        [0, 0, 0],\n",
       "        [0, 0, 0],\n",
       "        [0, 0, 0]]),\n",
       " 'U_XY': array([[1, 1, 0],\n",
       "        [1, 1, 0],\n",
       "        [1, 1, 0],\n",
       "        [1, 0, 0]])}"
      ]
     },
     "metadata": {},
     "execution_count": 8
    }
   ],
   "metadata": {}
  },
  {
   "cell_type": "code",
   "execution_count": 38,
   "source": [
    "num_trial =1\n",
    "horizon = 20\n",
    "n_jobs = 2\n",
    "Y = \"Y\"\n",
    "M, p_u = IV_SCM(devised=True,seed=0)\n",
    "mu, arm_setting = SCM_to_bandit_machine(M, target_variable=Y, verbose=False)"
   ],
   "outputs": [],
   "metadata": {}
  },
  {
   "cell_type": "code",
   "execution_count": 111,
   "source": [
    "from src.examples.example_setup import setup_DynamicIVCD\n",
    "params = setup_DynamicIVCD()\n",
    "node_info = params[\"node_info\"]\n",
    "more_U = {key for key in node_info.keys() if key[0] == \"U\"}\n",
    "U = list(sorted(cds[0].U | more_U))  # This | is the set union operator.\n",
    "D = {key: val[\"domain\"] for key, val in node_info.items()}\n",
    "P_U = default_P_U(params[\"mu1\"])\n",
    "intervention = {\"Z\":0}\n",
    "V_ordered = cds[0].causal_order()\n",
    "for u in product(*[D[U_i] for U_i in U]):  # d^|U|\n",
    "    assigned = dict(zip(U, u))\n",
    "    print(\"before assigned: \", assigned)\n",
    "    P_U(assigned)\n",
    "    for V_i in V_ordered:\n",
    "        if V_i in intervention:\n",
    "            assigned[V_i] = intervention[V_i]\n",
    "        else:\n",
    "            assigned[V_i] = -1\n",
    "\n",
    "    print(\"after assigned: \", assigned)"
   ],
   "outputs": [
    {
     "output_type": "stream",
     "name": "stdout",
     "text": [
      "before assigned:  {'U_X': 0, 'U_XY': 0, 'U_Y': 0, 'U_Z': 0}\n",
      "after assigned:  {'U_X': 0, 'U_XY': 0, 'U_Y': 0, 'U_Z': 0, 'Z': 0, 'X': -1, 'Y': -1}\n",
      "before assigned:  {'U_X': 0, 'U_XY': 0, 'U_Y': 0, 'U_Z': 1}\n",
      "after assigned:  {'U_X': 0, 'U_XY': 0, 'U_Y': 0, 'U_Z': 1, 'Z': 0, 'X': -1, 'Y': -1}\n",
      "before assigned:  {'U_X': 0, 'U_XY': 0, 'U_Y': 1, 'U_Z': 0}\n",
      "after assigned:  {'U_X': 0, 'U_XY': 0, 'U_Y': 1, 'U_Z': 0, 'Z': 0, 'X': -1, 'Y': -1}\n",
      "before assigned:  {'U_X': 0, 'U_XY': 0, 'U_Y': 1, 'U_Z': 1}\n",
      "after assigned:  {'U_X': 0, 'U_XY': 0, 'U_Y': 1, 'U_Z': 1, 'Z': 0, 'X': -1, 'Y': -1}\n",
      "before assigned:  {'U_X': 0, 'U_XY': 1, 'U_Y': 0, 'U_Z': 0}\n",
      "after assigned:  {'U_X': 0, 'U_XY': 1, 'U_Y': 0, 'U_Z': 0, 'Z': 0, 'X': -1, 'Y': -1}\n",
      "before assigned:  {'U_X': 0, 'U_XY': 1, 'U_Y': 0, 'U_Z': 1}\n",
      "after assigned:  {'U_X': 0, 'U_XY': 1, 'U_Y': 0, 'U_Z': 1, 'Z': 0, 'X': -1, 'Y': -1}\n",
      "before assigned:  {'U_X': 0, 'U_XY': 1, 'U_Y': 1, 'U_Z': 0}\n",
      "after assigned:  {'U_X': 0, 'U_XY': 1, 'U_Y': 1, 'U_Z': 0, 'Z': 0, 'X': -1, 'Y': -1}\n",
      "before assigned:  {'U_X': 0, 'U_XY': 1, 'U_Y': 1, 'U_Z': 1}\n",
      "after assigned:  {'U_X': 0, 'U_XY': 1, 'U_Y': 1, 'U_Z': 1, 'Z': 0, 'X': -1, 'Y': -1}\n",
      "before assigned:  {'U_X': 1, 'U_XY': 0, 'U_Y': 0, 'U_Z': 0}\n",
      "after assigned:  {'U_X': 1, 'U_XY': 0, 'U_Y': 0, 'U_Z': 0, 'Z': 0, 'X': -1, 'Y': -1}\n",
      "before assigned:  {'U_X': 1, 'U_XY': 0, 'U_Y': 0, 'U_Z': 1}\n",
      "after assigned:  {'U_X': 1, 'U_XY': 0, 'U_Y': 0, 'U_Z': 1, 'Z': 0, 'X': -1, 'Y': -1}\n",
      "before assigned:  {'U_X': 1, 'U_XY': 0, 'U_Y': 1, 'U_Z': 0}\n",
      "after assigned:  {'U_X': 1, 'U_XY': 0, 'U_Y': 1, 'U_Z': 0, 'Z': 0, 'X': -1, 'Y': -1}\n",
      "before assigned:  {'U_X': 1, 'U_XY': 0, 'U_Y': 1, 'U_Z': 1}\n",
      "after assigned:  {'U_X': 1, 'U_XY': 0, 'U_Y': 1, 'U_Z': 1, 'Z': 0, 'X': -1, 'Y': -1}\n",
      "before assigned:  {'U_X': 1, 'U_XY': 1, 'U_Y': 0, 'U_Z': 0}\n",
      "after assigned:  {'U_X': 1, 'U_XY': 1, 'U_Y': 0, 'U_Z': 0, 'Z': 0, 'X': -1, 'Y': -1}\n",
      "before assigned:  {'U_X': 1, 'U_XY': 1, 'U_Y': 0, 'U_Z': 1}\n",
      "after assigned:  {'U_X': 1, 'U_XY': 1, 'U_Y': 0, 'U_Z': 1, 'Z': 0, 'X': -1, 'Y': -1}\n",
      "before assigned:  {'U_X': 1, 'U_XY': 1, 'U_Y': 1, 'U_Z': 0}\n",
      "after assigned:  {'U_X': 1, 'U_XY': 1, 'U_Y': 1, 'U_Z': 0, 'Z': 0, 'X': -1, 'Y': -1}\n",
      "before assigned:  {'U_X': 1, 'U_XY': 1, 'U_Y': 1, 'U_Z': 1}\n",
      "after assigned:  {'U_X': 1, 'U_XY': 1, 'U_Y': 1, 'U_Z': 1, 'Z': 0, 'X': -1, 'Y': -1}\n"
     ]
    }
   ],
   "metadata": {}
  },
  {
   "cell_type": "code",
   "execution_count": 10,
   "source": [
    "arm_strategy = 'Brute-force'\n",
    "bandit_algo = 'TS'\n",
    "arm_selected = arms_of(arm_strategy, arm_setting, M.G, Y)\n",
    "arm_corrector = np.vectorize(lambda x: arm_selected[x])"
   ],
   "outputs": [],
   "metadata": {}
  },
  {
   "cell_type": "code",
   "execution_count": 51,
   "source": [
    "len(arm_setting[3])"
   ],
   "outputs": [
    {
     "output_type": "execute_result",
     "data": {
      "text/plain": [
       "1"
      ]
     },
     "metadata": {},
     "execution_count": 51
    }
   ],
   "metadata": {}
  },
  {
   "cell_type": "code",
   "execution_count": 127,
   "source": [
    "arm_played, rewards = play_bandits(horizon, subseq(mu, arm_selected), bandit_algo, num_trial, n_jobs)"
   ],
   "outputs": [
    {
     "output_type": "stream",
     "name": "stdout",
     "text": [
      "[Parallel(n_jobs=2)]: Using backend LokyBackend with 2 concurrent workers.\n",
      "[Parallel(n_jobs=2)]: Done   1 tasks      | elapsed:    0.8s\n",
      "[Parallel(n_jobs=2)]: Done   1 out of   1 | elapsed:    0.8s finished\n"
     ]
    }
   ],
   "metadata": {}
  },
  {
   "cell_type": "markdown",
   "source": [
    "# Test Non-Stationary (piece-wise stationary) SCM-MAB"
   ],
   "metadata": {}
  },
  {
   "cell_type": "code",
   "execution_count": 43,
   "source": [
    "from src.examples.example_setup import setup_DynamicIVCD\n",
    "from nsscmmab import NSSCMMAB"
   ],
   "outputs": [],
   "metadata": {}
  },
  {
   "cell_type": "code",
   "execution_count": 44,
   "source": [
    "params = setup_DynamicIVCD()\n",
    "m = NSSCMMAB(**params)"
   ],
   "outputs": [],
   "metadata": {}
  },
  {
   "cell_type": "code",
   "execution_count": 45,
   "source": [
    "m.run()"
   ],
   "outputs": [
    {
     "output_type": "stream",
     "name": "stderr",
     "text": [
      "Time index:   0%|          | 0/3 [00:00<?, ?it/s]"
     ]
    },
    {
     "output_type": "stream",
     "name": "stdout",
     "text": [
      "[Parallel(n_jobs=4)]: Using backend LokyBackend with 4 concurrent workers.\n"
     ]
    },
    {
     "output_type": "stream",
     "name": "stderr",
     "text": [
      "Time index:  33%|███▎      | 1/3 [00:00<00:01,  1.72it/s]"
     ]
    },
    {
     "output_type": "stream",
     "name": "stdout",
     "text": [
      "[Parallel(n_jobs=4)]: Done   1 tasks      | elapsed:    0.5s\n",
      "[Parallel(n_jobs=4)]: Done   2 tasks      | elapsed:    0.5s\n",
      "[Parallel(n_jobs=4)]: Done   3 tasks      | elapsed:    0.5s\n",
      "[Parallel(n_jobs=4)]: Done   4 out of  10 | elapsed:    0.5s remaining:    0.7s\n",
      "[Parallel(n_jobs=4)]: Done   5 out of  10 | elapsed:    0.5s remaining:    0.5s\n",
      "[Parallel(n_jobs=4)]: Done   6 out of  10 | elapsed:    0.5s remaining:    0.3s\n",
      "[Parallel(n_jobs=4)]: Done   7 out of  10 | elapsed:    0.5s remaining:    0.2s\n",
      "[Parallel(n_jobs=4)]: Done   8 out of  10 | elapsed:    0.5s remaining:    0.1s\n",
      "[Parallel(n_jobs=4)]: Done  10 out of  10 | elapsed:    0.6s remaining:    0.0s\n",
      "[Parallel(n_jobs=4)]: Done  10 out of  10 | elapsed:    0.6s finished\n",
      "[Parallel(n_jobs=4)]: Using backend LokyBackend with 4 concurrent workers.\n",
      "[Parallel(n_jobs=4)]: Done   1 tasks      | elapsed:    0.0s\n",
      "[Parallel(n_jobs=4)]: Batch computation too fast (0.0452s.) Setting batch_size=2.\n",
      "[Parallel(n_jobs=4)]: Done   2 tasks      | elapsed:    0.0s\n",
      "[Parallel(n_jobs=4)]: Done   3 tasks      | elapsed:    0.1s\n",
      "[Parallel(n_jobs=4)]: Done   4 out of  10 | elapsed:    0.1s remaining:    0.1s\n"
     ]
    },
    {
     "output_type": "stream",
     "name": "stderr",
     "text": [
      "Time index:  67%|██████▋   | 2/3 [00:00<00:00,  3.05it/s]"
     ]
    },
    {
     "output_type": "stream",
     "name": "stdout",
     "text": [
      "[Parallel(n_jobs=4)]: Done   5 out of  10 | elapsed:    0.1s remaining:    0.1s\n",
      "[Parallel(n_jobs=4)]: Done   6 out of  10 | elapsed:    0.1s remaining:    0.1s\n",
      "[Parallel(n_jobs=4)]: Done   7 out of  10 | elapsed:    0.1s remaining:    0.0s\n",
      "[Parallel(n_jobs=4)]: Done   8 out of  10 | elapsed:    0.1s remaining:    0.0s\n",
      "[Parallel(n_jobs=4)]: Done  10 out of  10 | elapsed:    0.1s remaining:    0.0s\n",
      "[Parallel(n_jobs=4)]: Done  10 out of  10 | elapsed:    0.1s finished\n",
      "[Parallel(n_jobs=4)]: Using backend LokyBackend with 4 concurrent workers.\n",
      "[Parallel(n_jobs=4)]: Done   1 tasks      | elapsed:    0.0s\n",
      "[Parallel(n_jobs=4)]: Batch computation too fast (0.0449s.) Setting batch_size=2.\n",
      "[Parallel(n_jobs=4)]: Done   2 tasks      | elapsed:    0.0s\n",
      "[Parallel(n_jobs=4)]: Done   3 tasks      | elapsed:    0.0s\n",
      "[Parallel(n_jobs=4)]: Done   4 out of  10 | elapsed:    0.1s remaining:    0.1s\n",
      "[Parallel(n_jobs=4)]: Done   5 out of  10 | elapsed:    0.1s remaining:    0.1s\n",
      "[Parallel(n_jobs=4)]: Done   6 out of  10 | elapsed:    0.1s remaining:    0.1s\n",
      "[Parallel(n_jobs=4)]: Done   7 out of  10 | elapsed:    0.1s remaining:    0.0s\n",
      "[Parallel(n_jobs=4)]: Done   8 out of  10 | elapsed:    0.1s remaining:    0.0s\n",
      "[Parallel(n_jobs=4)]: Done  10 out of  10 | elapsed:    0.1s remaining:    0.0s\n",
      "[Parallel(n_jobs=4)]: Done  10 out of  10 | elapsed:    0.1s finished\n"
     ]
    },
    {
     "output_type": "stream",
     "name": "stderr",
     "text": [
      "Time index: 100%|██████████| 3/3 [00:00<00:00,  3.39it/s]\n"
     ]
    }
   ],
   "metadata": {}
  },
  {
   "cell_type": "code",
   "execution_count": 68,
   "source": [
    "m.SCMs[0].G.causal_order().index(\"Z\")"
   ],
   "outputs": [
    {
     "output_type": "execute_result",
     "data": {
      "text/plain": [
       "0"
      ]
     },
     "metadata": {},
     "execution_count": 68
    }
   ],
   "metadata": {}
  },
  {
   "cell_type": "code",
   "execution_count": 69,
   "source": [
    "m.SCMs[0].G.causal_order()"
   ],
   "outputs": [
    {
     "output_type": "execute_result",
     "data": {
      "text/plain": [
       "('Z', 'X', 'Y')"
      ]
     },
     "metadata": {},
     "execution_count": 69
    }
   ],
   "metadata": {}
  },
  {
   "cell_type": "code",
   "execution_count": 71,
   "source": [
    "test = {\"Z\":0, \"X\":None, \"Y\":1}\n",
    "\n",
    "[key for key in test.keys() if test[key] == None]"
   ],
   "outputs": [
    {
     "output_type": "execute_result",
     "data": {
      "text/plain": [
       "['X']"
      ]
     },
     "metadata": {},
     "execution_count": 71
    }
   ],
   "metadata": {}
  },
  {
   "cell_type": "code",
   "execution_count": 75,
   "source": [
    "1 ^1.3"
   ],
   "outputs": [
    {
     "output_type": "error",
     "ename": "TypeError",
     "evalue": "unsupported operand type(s) for ^: 'int' and 'float'",
     "traceback": [
      "\u001b[0;31m---------------------------------------------------------------------------\u001b[0m",
      "\u001b[0;31mTypeError\u001b[0m                                 Traceback (most recent call last)",
      "\u001b[0;32m<ipython-input-75-bc8cd1c64655>\u001b[0m in \u001b[0;36m<module>\u001b[0;34m\u001b[0m\n\u001b[0;32m----> 1\u001b[0;31m \u001b[0;36m1\u001b[0m \u001b[0;34m^\u001b[0m\u001b[0;36m1.3\u001b[0m\u001b[0;34m\u001b[0m\u001b[0;34m\u001b[0m\u001b[0m\n\u001b[0m",
      "\u001b[0;31mTypeError\u001b[0m: unsupported operand type(s) for ^: 'int' and 'float'"
     ]
    }
   ],
   "metadata": {}
  }
 ]
}