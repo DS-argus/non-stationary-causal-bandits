{
 "metadata": {
  "language_info": {
   "codemirror_mode": {
    "name": "ipython",
    "version": 3
   },
   "file_extension": ".py",
   "mimetype": "text/x-python",
   "name": "python",
   "nbconvert_exporter": "python",
   "pygments_lexer": "ipython3",
   "version": "3.7.10"
  },
  "orig_nbformat": 2,
  "kernelspec": {
   "name": "python3",
   "display_name": "Python 3.7.10 64-bit ('scibo': conda)"
  },
  "interpreter": {
   "hash": "164ab3599252216efa3ff800aa9e9b83ffb03b6491450900b2a6d3a64681b37e"
  }
 },
 "nbformat": 4,
 "nbformat_minor": 2,
 "cells": [
  {
   "source": [
    "# Non-stationary [SCM-MAB](https://papers.nips.cc/paper/2018/hash/c0a271bc0ecb776a094786474322cb82-Abstract.html)\n",
    "\n",
    "- Need to allow for prior on causal effects (--> Bayesian MAB)\n",
    "- Non-stationary Bayesian structural causal MAB\n",
    "    - Non-stationary because the reward statistics changes across time\n",
    "    - Bayesian because we have a prior on the reward distribution\n",
    "    - Structural because we are of the causal structure of the reward distribution \n",
    "\n",
    "## Stationarity assumptions of standard MAB algorithms\n",
    "\n",
    "- Thompson Sampling (Thompson, 1933), UCB and epsilon-greedy assume that the rewards are i.i.d. samples from stationary distributions (Allesiardo et al., 2017), thus are not suitable for the (DBN-like underyling CGM) application.\n",
    "- The EXP3 (Auer et al., 2002b) MAB algorithm makes comparatively fewer assumptions on reward distributions and can deal with the general setting of adversarially-defined rewards. The general adversarial bandit setting is important for our application as it enables the MAB to handle the non-stationary nature of the rewards observed during the optimisation (Allesiardo et al., 2017).\n",
    "\n",
    "## Considerations\n",
    "\n",
    "- Appears to be a so-called 'restless bandit problem'\n",
    "- _Sometimes_ we have observational data, so we have a strong prior on the reward distribution\n",
    "- We are doing inference on the reward distribution (exploring it) whilst playing the game, this means we are dealing with NS-MAB.\n",
    "- At the start of the game, all we have is a prior on the reward distribution (one for each exploration set) but as we play the game, we collect more observations, update our prior, and then continue the game until we find the best arm. \n",
    "    - **CONTINUOUS CAUSAL EFFECTS** As we play the game, BO will tell us _where_ on the selected arm to explore"
   ],
   "cell_type": "markdown",
   "metadata": {}
  },
  {
   "cell_type": "code",
   "execution_count": 2,
   "metadata": {},
   "outputs": [],
   "source": [
    "%load_ext autoreload\n",
    "%autoreload 2\n",
    "import numpy as np\n",
    "import pandas as pd\n",
    "import sys\n",
    "import matplotlib.pyplot as plt\n",
    "from copy import deepcopy\n",
    "sys.path.append(\"..\")\n",
    "sys.path.append(\"../src\")\n",
    "import multiprocessing"
   ]
  },
  {
   "cell_type": "code",
   "execution_count": 6,
   "metadata": {},
   "outputs": [],
   "source": [
    "from src.utils.dag_utils.graph_functions import make_graphical_model, make_networkx_object"
   ]
  },
  {
   "cell_type": "code",
   "execution_count": 44,
   "metadata": {},
   "outputs": [],
   "source": [
    "from npsem.model import CausalDiagram\n",
    "from npsem.where_do import MISs, MUCT, IB, POMISs, MUCT_IB\n",
    "from npsem.utils import combinations, subseq\n",
    "from npsem.NIPS2018POMIS_exp.scm_examples import IV_SCM\n",
    "from npsem.scm_bandits import SCM_to_bandit_machine, arms_of, arm_types\n",
    "from npsem.bandits import play_bandits"
   ]
  },
  {
   "source": [
    "# Non-stationary SCM-MAB as piece-wise stationary SCM-MAB \n",
    "\n",
    "SCM-MAB will be run on the DAG in each time-slice (which could change across time). The reward distribution will change as we step through the graph, from left to right."
   ],
   "cell_type": "markdown",
   "metadata": {}
  },
  {
   "cell_type": "code",
   "execution_count": 112,
   "metadata": {},
   "outputs": [],
   "source": [
    "node_info = {\"X\": {\"type\": \"manipulative\", \"domain\": (0,1)},\n",
    "             \"Z\": {\"type\": \"manipulative\", \"domain\": (0,1)},\n",
    "             \"Y\": {\"type\": \"manipulative\", \"domain\": (-1,1)},\n",
    "             \"U\": {\"type\": \"confounder\"}}\n",
    "# Constructor for adding unobserved confounder to graph\n",
    "uc_constructor = {0: (\"Z\",\"Y\"), 1:  (\"X\",\"Y\")}"
   ]
  },
  {
   "cell_type": "code",
   "execution_count": 118,
   "metadata": {},
   "outputs": [
    {
     "output_type": "execute_result",
     "data": {
      "text/plain": [
       "[2, 3, 4, 3]"
      ]
     },
     "metadata": {},
     "execution_count": 118
    }
   ],
   "source": [
    "[2,3] + [4,3]"
   ]
  },
  {
   "cell_type": "code",
   "execution_count": 121,
   "metadata": {},
   "outputs": [
    {
     "output_type": "execute_result",
     "data": {
      "text/plain": [
       "<graphviz.files.Source at 0x7fbcb0998f90>"
      ],
      "image/svg+xml": "<?xml version=\"1.0\" encoding=\"UTF-8\" standalone=\"no\"?>\n<!DOCTYPE svg PUBLIC \"-//W3C//DTD SVG 1.1//EN\"\n \"http://www.w3.org/Graphics/SVG/1.1/DTD/svg11.dtd\">\n<!-- Generated by graphviz version 2.42.3 (20191010.1750)\n -->\n<!-- Title: %3 Pages: 1 -->\n<svg width=\"262pt\" height=\"260pt\"\n viewBox=\"0.00 0.00 262.09 260.00\" xmlns=\"http://www.w3.org/2000/svg\" xmlns:xlink=\"http://www.w3.org/1999/xlink\">\n<g id=\"graph0\" class=\"graph\" transform=\"scale(1 1) rotate(0) translate(4 256)\">\n<title>%3</title>\n<polygon fill=\"white\" stroke=\"transparent\" points=\"-4,4 -4,-256 258.09,-256 258.09,4 -4,4\"/>\n<!-- X_0 -->\n<g id=\"node1\" class=\"node\">\n<title>X_0</title>\n<ellipse fill=\"none\" stroke=\"black\" cx=\"37.05\" cy=\"-126\" rx=\"27\" ry=\"18\"/>\n<text text-anchor=\"middle\" x=\"37.05\" y=\"-122.3\" font-family=\"Times,serif\" font-size=\"14.00\">X_0</text>\n</g>\n<!-- Z_0 -->\n<g id=\"node2\" class=\"node\">\n<title>Z_0</title>\n<ellipse fill=\"none\" stroke=\"black\" cx=\"37.05\" cy=\"-72\" rx=\"27\" ry=\"18\"/>\n<text text-anchor=\"middle\" x=\"37.05\" y=\"-68.3\" font-family=\"Times,serif\" font-size=\"14.00\">Z_0</text>\n</g>\n<!-- X_0&#45;&gt;Z_0 -->\n<g id=\"edge1\" class=\"edge\">\n<title>X_0&#45;&gt;Z_0</title>\n<path fill=\"none\" stroke=\"black\" d=\"M37.05,-107.79C37.05,-105.31 37.05,-102.83 37.05,-100.34\"/>\n<polygon fill=\"black\" stroke=\"black\" points=\"40.55,-100.14 37.05,-90.14 33.55,-100.14 40.55,-100.14\"/>\n</g>\n<!-- X_1 -->\n<g id=\"node4\" class=\"node\">\n<title>X_1</title>\n<ellipse fill=\"none\" stroke=\"black\" cx=\"137.09\" cy=\"-126\" rx=\"27\" ry=\"18\"/>\n<text text-anchor=\"middle\" x=\"137.09\" y=\"-122.3\" font-family=\"Times,serif\" font-size=\"14.00\">X_1</text>\n</g>\n<!-- X_0&#45;&gt;X_1 -->\n<g id=\"edge7\" class=\"edge\">\n<title>X_0&#45;&gt;X_1</title>\n<path fill=\"none\" stroke=\"black\" d=\"M64.06,-126C75.03,-126 87.99,-126 99.87,-126\"/>\n<polygon fill=\"black\" stroke=\"black\" points=\"99.95,-129.5 109.95,-126 99.95,-122.5 99.95,-129.5\"/>\n</g>\n<!-- Y_0 -->\n<g id=\"node3\" class=\"node\">\n<title>Y_0</title>\n<ellipse fill=\"none\" stroke=\"black\" cx=\"37.05\" cy=\"-18\" rx=\"27\" ry=\"18\"/>\n<text text-anchor=\"middle\" x=\"37.05\" y=\"-14.3\" font-family=\"Times,serif\" font-size=\"14.00\">Y_0</text>\n</g>\n<!-- Z_0&#45;&gt;Y_0 -->\n<g id=\"edge2\" class=\"edge\">\n<title>Z_0&#45;&gt;Y_0</title>\n<path fill=\"none\" stroke=\"black\" d=\"M37.05,-53.79C37.05,-51.31 37.05,-48.83 37.05,-46.34\"/>\n<polygon fill=\"black\" stroke=\"black\" points=\"40.55,-46.14 37.05,-36.14 33.55,-46.14 40.55,-46.14\"/>\n</g>\n<!-- Z_1 -->\n<g id=\"node5\" class=\"node\">\n<title>Z_1</title>\n<ellipse fill=\"none\" stroke=\"black\" cx=\"137.09\" cy=\"-72\" rx=\"27\" ry=\"18\"/>\n<text text-anchor=\"middle\" x=\"137.09\" y=\"-68.3\" font-family=\"Times,serif\" font-size=\"14.00\">Z_1</text>\n</g>\n<!-- Z_0&#45;&gt;Z_1 -->\n<g id=\"edge8\" class=\"edge\">\n<title>Z_0&#45;&gt;Z_1</title>\n<path fill=\"none\" stroke=\"black\" d=\"M64.06,-72C75.03,-72 87.99,-72 99.87,-72\"/>\n<polygon fill=\"black\" stroke=\"black\" points=\"99.95,-75.5 109.95,-72 99.95,-68.5 99.95,-75.5\"/>\n</g>\n<!-- Y_1 -->\n<g id=\"node6\" class=\"node\">\n<title>Y_1</title>\n<ellipse fill=\"none\" stroke=\"black\" cx=\"137.09\" cy=\"-18\" rx=\"27\" ry=\"18\"/>\n<text text-anchor=\"middle\" x=\"137.09\" y=\"-14.3\" font-family=\"Times,serif\" font-size=\"14.00\">Y_1</text>\n</g>\n<!-- Y_0&#45;&gt;Y_1 -->\n<g id=\"edge9\" class=\"edge\">\n<title>Y_0&#45;&gt;Y_1</title>\n<path fill=\"none\" stroke=\"black\" d=\"M64.06,-18C75.03,-18 87.99,-18 99.87,-18\"/>\n<polygon fill=\"black\" stroke=\"black\" points=\"99.95,-21.5 109.95,-18 99.95,-14.5 99.95,-21.5\"/>\n</g>\n<!-- X_1&#45;&gt;Z_1 -->\n<g id=\"edge3\" class=\"edge\">\n<title>X_1&#45;&gt;Z_1</title>\n<path fill=\"none\" stroke=\"black\" d=\"M137.09,-107.79C137.09,-105.31 137.09,-102.83 137.09,-100.34\"/>\n<polygon fill=\"black\" stroke=\"black\" points=\"140.59,-100.14 137.09,-90.14 133.59,-100.14 140.59,-100.14\"/>\n</g>\n<!-- X_2 -->\n<g id=\"node7\" class=\"node\">\n<title>X_2</title>\n<ellipse fill=\"none\" stroke=\"black\" cx=\"227.09\" cy=\"-126\" rx=\"27\" ry=\"18\"/>\n<text text-anchor=\"middle\" x=\"227.09\" y=\"-122.3\" font-family=\"Times,serif\" font-size=\"14.00\">X_2</text>\n</g>\n<!-- X_1&#45;&gt;X_2 -->\n<g id=\"edge10\" class=\"edge\">\n<title>X_1&#45;&gt;X_2</title>\n<path fill=\"none\" stroke=\"black\" d=\"M164.5,-126C172.49,-126 181.4,-126 189.92,-126\"/>\n<polygon fill=\"black\" stroke=\"black\" points=\"190.01,-129.5 200.01,-126 190.01,-122.5 190.01,-129.5\"/>\n</g>\n<!-- Z_1&#45;&gt;Y_1 -->\n<g id=\"edge4\" class=\"edge\">\n<title>Z_1&#45;&gt;Y_1</title>\n<path fill=\"none\" stroke=\"black\" d=\"M137.09,-53.79C137.09,-51.31 137.09,-48.83 137.09,-46.34\"/>\n<polygon fill=\"black\" stroke=\"black\" points=\"140.59,-46.14 137.09,-36.14 133.59,-46.14 140.59,-46.14\"/>\n</g>\n<!-- Z_2 -->\n<g id=\"node8\" class=\"node\">\n<title>Z_2</title>\n<ellipse fill=\"none\" stroke=\"black\" cx=\"227.09\" cy=\"-72\" rx=\"27\" ry=\"18\"/>\n<text text-anchor=\"middle\" x=\"227.09\" y=\"-68.3\" font-family=\"Times,serif\" font-size=\"14.00\">Z_2</text>\n</g>\n<!-- Z_1&#45;&gt;Z_2 -->\n<g id=\"edge11\" class=\"edge\">\n<title>Z_1&#45;&gt;Z_2</title>\n<path fill=\"none\" stroke=\"black\" d=\"M164.5,-72C172.49,-72 181.4,-72 189.92,-72\"/>\n<polygon fill=\"black\" stroke=\"black\" points=\"190.01,-75.5 200.01,-72 190.01,-68.5 190.01,-75.5\"/>\n</g>\n<!-- Y_2 -->\n<g id=\"node9\" class=\"node\">\n<title>Y_2</title>\n<ellipse fill=\"none\" stroke=\"black\" cx=\"227.09\" cy=\"-18\" rx=\"27\" ry=\"18\"/>\n<text text-anchor=\"middle\" x=\"227.09\" y=\"-14.3\" font-family=\"Times,serif\" font-size=\"14.00\">Y_2</text>\n</g>\n<!-- Y_1&#45;&gt;Y_2 -->\n<g id=\"edge12\" class=\"edge\">\n<title>Y_1&#45;&gt;Y_2</title>\n<path fill=\"none\" stroke=\"black\" d=\"M164.5,-18C172.49,-18 181.4,-18 189.92,-18\"/>\n<polygon fill=\"black\" stroke=\"black\" points=\"190.01,-21.5 200.01,-18 190.01,-14.5 190.01,-21.5\"/>\n</g>\n<!-- X_2&#45;&gt;Z_2 -->\n<g id=\"edge5\" class=\"edge\">\n<title>X_2&#45;&gt;Z_2</title>\n<path fill=\"none\" stroke=\"black\" d=\"M227.09,-107.79C227.09,-105.31 227.09,-102.83 227.09,-100.34\"/>\n<polygon fill=\"black\" stroke=\"black\" points=\"230.59,-100.14 227.09,-90.14 223.59,-100.14 230.59,-100.14\"/>\n</g>\n<!-- Z_2&#45;&gt;Y_2 -->\n<g id=\"edge6\" class=\"edge\">\n<title>Z_2&#45;&gt;Y_2</title>\n<path fill=\"none\" stroke=\"black\" d=\"M227.09,-53.79C227.09,-51.31 227.09,-48.83 227.09,-46.34\"/>\n<polygon fill=\"black\" stroke=\"black\" points=\"230.59,-46.14 227.09,-36.14 223.59,-46.14 230.59,-46.14\"/>\n</g>\n<!-- &#45; U_0 &#45; -->\n<g id=\"node10\" class=\"node\">\n<title>&#45; U_0 &#45;</title>\n<ellipse fill=\"none\" stroke=\"black\" cx=\"37.05\" cy=\"-180\" rx=\"37.09\" ry=\"18\"/>\n<text text-anchor=\"middle\" x=\"37.05\" y=\"-176.3\" font-family=\"Times,serif\" font-size=\"14.00\">&#45; U_0 &#45;</text>\n</g>\n<!-- &#45; U_1 &#45; -->\n<g id=\"node11\" class=\"node\">\n<title>&#45; U_1 &#45;</title>\n<ellipse fill=\"none\" stroke=\"black\" cx=\"37.05\" cy=\"-234\" rx=\"37.09\" ry=\"18\"/>\n<text text-anchor=\"middle\" x=\"37.05\" y=\"-230.3\" font-family=\"Times,serif\" font-size=\"14.00\">&#45; U_1 &#45;</text>\n</g>\n</g>\n</svg>\n"
     },
     "metadata": {},
     "execution_count": 121
    }
   ],
   "source": [
    "T = 3\n",
    "graph_view = make_graphical_model(0,\n",
    "T-1,\n",
    "topology='dependent',\n",
    "target_node = 'Y',\n",
    "node_information= node_info,\n",
    "unobserved_confounder_info= uc_constructor,\n",
    "verbose=True) # Base topology\n",
    "graph_view"
   ]
  },
  {
   "cell_type": "code",
   "execution_count": 123,
   "metadata": {},
   "outputs": [],
   "source": [
    "from graphviz import Source"
   ]
  },
  {
   "cell_type": "code",
   "execution_count": 139,
   "metadata": {},
   "outputs": [
    {
     "output_type": "execute_result",
     "data": {
      "text/plain": [
       "<graphviz.files.Source at 0x7fbce04e3ed0>"
      ],
      "image/svg+xml": "<?xml version=\"1.0\" encoding=\"UTF-8\" standalone=\"no\"?>\n<!DOCTYPE svg PUBLIC \"-//W3C//DTD SVG 1.1//EN\"\n \"http://www.w3.org/Graphics/SVG/1.1/DTD/svg11.dtd\">\n<!-- Generated by graphviz version 2.42.3 (20191010.1750)\n -->\n<!-- Title: %3 Pages: 1 -->\n<svg width=\"152pt\" height=\"152pt\"\n viewBox=\"0.00 0.00 152.00 152.00\" xmlns=\"http://www.w3.org/2000/svg\" xmlns:xlink=\"http://www.w3.org/1999/xlink\">\n<g id=\"graph0\" class=\"graph\" transform=\"scale(1 1) rotate(0) translate(4 148)\">\n<title>%3</title>\n<polygon fill=\"white\" stroke=\"transparent\" points=\"-4,4 -4,-148 148,-148 148,4 -4,4\"/>\n<!-- X_0 -->\n<g id=\"node1\" class=\"node\">\n<title>X_0</title>\n<ellipse fill=\"none\" stroke=\"black\" cx=\"117\" cy=\"-126\" rx=\"27\" ry=\"18\"/>\n<text text-anchor=\"middle\" x=\"117\" y=\"-122.3\" font-family=\"Times,serif\" font-size=\"14.00\">X_0</text>\n</g>\n<!-- Z_0 -->\n<g id=\"node2\" class=\"node\">\n<title>Z_0</title>\n<ellipse fill=\"none\" stroke=\"black\" cx=\"117\" cy=\"-72\" rx=\"27\" ry=\"18\"/>\n<text text-anchor=\"middle\" x=\"117\" y=\"-68.3\" font-family=\"Times,serif\" font-size=\"14.00\">Z_0</text>\n</g>\n<!-- X_0&#45;&gt;Z_0 -->\n<g id=\"edge1\" class=\"edge\">\n<title>X_0&#45;&gt;Z_0</title>\n<path fill=\"none\" stroke=\"black\" d=\"M117,-107.79C117,-105.31 117,-102.83 117,-100.34\"/>\n<polygon fill=\"black\" stroke=\"black\" points=\"120.5,-100.14 117,-90.14 113.5,-100.14 120.5,-100.14\"/>\n</g>\n<!-- Y_0 -->\n<g id=\"node3\" class=\"node\">\n<title>Y_0</title>\n<ellipse fill=\"none\" stroke=\"black\" cx=\"117\" cy=\"-18\" rx=\"27\" ry=\"18\"/>\n<text text-anchor=\"middle\" x=\"117\" y=\"-14.3\" font-family=\"Times,serif\" font-size=\"14.00\">Y_0</text>\n</g>\n<!-- Z_0&#45;&gt;Y_0 -->\n<g id=\"edge2\" class=\"edge\">\n<title>Z_0&#45;&gt;Y_0</title>\n<path fill=\"none\" stroke=\"black\" d=\"M117,-53.79C117,-51.31 117,-48.83 117,-46.34\"/>\n<polygon fill=\"black\" stroke=\"black\" points=\"120.5,-46.14 117,-36.14 113.5,-46.14 120.5,-46.14\"/>\n</g>\n<!-- U_0 -->\n<g id=\"node4\" class=\"node\">\n<title>U_0</title>\n<ellipse fill=\"none\" stroke=\"black\" cx=\"27\" cy=\"-45\" rx=\"27\" ry=\"18\"/>\n<text text-anchor=\"middle\" x=\"27\" y=\"-41.3\" font-family=\"Times,serif\" font-size=\"14.00\">U_0</text>\n</g>\n<!-- U_0&#45;&gt;Z_0 -->\n<g id=\"edge4\" class=\"edge\">\n<title>U_0&#45;&gt;Z_0</title>\n<path fill=\"none\" stroke=\"red\" stroke-dasharray=\"5,2\" d=\"M52.05,-52.38C61.44,-55.26 72.36,-58.61 82.5,-61.72\"/>\n<polygon fill=\"red\" stroke=\"red\" points=\"81.7,-65.14 92.29,-64.72 83.75,-58.45 81.7,-65.14\"/>\n</g>\n<!-- U_0&#45;&gt;Y_0 -->\n<g id=\"edge3\" class=\"edge\">\n<title>U_0&#45;&gt;Y_0</title>\n<path fill=\"none\" stroke=\"red\" stroke-dasharray=\"5,2\" d=\"M52.05,-37.62C61.44,-34.74 72.36,-31.39 82.5,-28.28\"/>\n<polygon fill=\"red\" stroke=\"red\" points=\"83.75,-31.55 92.29,-25.28 81.7,-24.86 83.75,-31.55\"/>\n</g>\n</g>\n</svg>\n"
     },
     "metadata": {},
     "execution_count": 139
    }
   ],
   "source": [
    "gg = 'digraph { rankdir=LR; X_0 -> Z_0; Z_0 -> Y_0; U_0 -> Y_0 [style=dashed, color=red]; U_0 -> Z_0 [style=dashed, color=red]; { rank=same; X_0 Z_0 Y_0}}'\n",
    "Source(gg)"
   ]
  },
  {
   "cell_type": "code",
   "execution_count": 141,
   "metadata": {},
   "outputs": [
    {
     "output_type": "execute_result",
     "data": {
      "text/plain": [
       "'{}_{} --> {}_{} [style=dashed, color=red]; {}_{} --> {}_{} [style=dashed, color=red]; '"
      ]
     },
     "metadata": {},
     "execution_count": 141
    }
   ],
   "source": [
    "confounders = []\n",
    "common_cause = 2*\"{}_{} --> {}_{} [style=dashed, color=red]; \"\n",
    "common_cause"
   ]
  },
  {
   "cell_type": "code",
   "execution_count": 143,
   "metadata": {},
   "outputs": [
    {
     "output_type": "execute_result",
     "data": {
      "text/plain": [
       "['U', 1, 'U', 1, 'X', 1, 'Y', 1]"
      ]
     },
     "metadata": {},
     "execution_count": 143
    }
   ],
   "source": [
    "l1 = [\"U\", \"U\", uc_constructor[t][0], uc_constructor[t][-1]]\n",
    "l2 = 4 * [t]\n",
    "inserts = [val for pair in zip(l1, l2) for val in pair]\n",
    "inserts"
   ]
  },
  {
   "cell_type": "code",
   "execution_count": 145,
   "metadata": {},
   "outputs": [],
   "source": [
    "confounders = []\n",
    "common_cause = 2*\"{}_{} --> {}_{} [style=dashed, color=red]; \"\n",
    "for t in uc_constructor.keys():\n",
    "    l1 = [\"U\", \"U\", uc_constructor[t][0], uc_constructor[t][-1]]\n",
    "    l2 = 4 * [t]\n",
    "    inserts = [val for pair in zip(l1, l2) for val in pair]\n",
    "    confounders.append(common_cause.format(*inserts))"
   ]
  },
  {
   "cell_type": "code",
   "execution_count": 7,
   "metadata": {},
   "outputs": [],
   "source": [
    "G = make_networkx_object(graph_view)"
   ]
  },
  {
   "source": [
    "\n",
    "TODO:\n",
    "\n",
    "1. Create DBN using DCBO functionality\n",
    "2. Update function in (1) to handle UCs\n",
    "3. Create function which chops up the DBN into smaller sub-graphs -- one per time-step\n",
    "4. Loop through each sub-graph and for each index "
   ],
   "cell_type": "markdown",
   "metadata": {}
  },
  {
   "source": [
    "### Explore SCM from fig 3"
   ],
   "cell_type": "markdown",
   "metadata": {}
  },
  {
   "cell_type": "code",
   "execution_count": 13,
   "metadata": {},
   "outputs": [],
   "source": [
    "num_trial = 1\n",
    "horizon = 20\n",
    "n_jobs = 2\n",
    "Y = \"Y\""
   ]
  },
  {
   "cell_type": "code",
   "execution_count": 14,
   "metadata": {},
   "outputs": [],
   "source": [
    "M, p_u = IV_SCM(devised=True,seed=0)\n",
    "mu, arm_setting = SCM_to_bandit_machine(M)"
   ]
  },
  {
   "cell_type": "code",
   "execution_count": 29,
   "metadata": {},
   "outputs": [],
   "source": [
    "arm_strategy = 'Brute-force'\n",
    "bandit_algo = 'TS'\n",
    "arm_selected = arms_of(arm_strategy, arm_setting, M.G, Y)\n",
    "arm_corrector = np.vectorize(lambda x: arm_selected[x])"
   ]
  },
  {
   "cell_type": "code",
   "execution_count": 79,
   "metadata": {},
   "outputs": [
    {
     "output_type": "execute_result",
     "data": {
      "text/plain": [
       "(0.4454,\n",
       " 0.493,\n",
       " 0.5070000000000001,\n",
       " 0.773,\n",
       " 0.22700000000000004,\n",
       " 0.493,\n",
       " 0.493,\n",
       " 0.5070000000000001,\n",
       " 0.5070000000000001)"
      ]
     },
     "metadata": {},
     "execution_count": 79
    }
   ],
   "source": [
    "subseq(mu, arm_selected)"
   ]
  },
  {
   "cell_type": "code",
   "execution_count": 74,
   "metadata": {},
   "outputs": [
    {
     "output_type": "stream",
     "name": "stdout",
     "text": [
      "[Parallel(n_jobs=2)]: Using backend LokyBackend with 2 concurrent workers.\n",
      "[Parallel(n_jobs=2)]: Done   1 tasks      | elapsed:    0.5s\n",
      "[Parallel(n_jobs=2)]: Done   1 out of   1 | elapsed:    0.5s finished\n"
     ]
    }
   ],
   "source": [
    " arm_played, rewards = play_bandits(horizon, subseq(mu, arm_selected), bandit_algo, num_trial, n_jobs)"
   ]
  },
  {
   "cell_type": "code",
   "execution_count": 77,
   "metadata": {},
   "outputs": [
    {
     "output_type": "execute_result",
     "data": {
      "text/plain": [
       "array([[0., 0., 1., 1., 1., 1., 1., 0., 0., 0., 0., 0., 1., 0., 1., 1.,\n",
       "        1., 0., 0., 0.]])"
      ]
     },
     "metadata": {},
     "execution_count": 77
    }
   ],
   "source": [
    "rewards"
   ]
  }
 ]
}